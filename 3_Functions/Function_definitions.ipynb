{
  "nbformat": 4,
  "nbformat_minor": 0,
  "metadata": {
    "colab": {
      "provenance": []
    },
    "kernelspec": {
      "name": "python3",
      "display_name": "Python 3"
    },
    "language_info": {
      "name": "python"
    }
  },
  "cells": [
    {
      "cell_type": "markdown",
      "metadata": {
        "id": "jId2Pst6ok_R"
      },
      "source": [
        "# Defining and using functions\n",
        "\n",
        "by Koenraad De Smedt at UiB"
      ]
    },
    {
      "cell_type": "markdown",
      "metadata": {
        "id": "4AibI1P5pIVa"
      },
      "source": [
        "---\n",
        "There are some [built-in](https://docs.python.org/3/library/functions.html) functions in Python, but it is also possible to define new functions.\n",
        "\n",
        "This notebook shows how to define and use new functions.\n",
        "\n",
        "Functions are series of operations performed on arguments given in parentheses. Functions may return a value. Your function definitions, like your variable bindings, hold only for the time of your session.\n",
        "\n",
        "---"
      ]
    },
    {
      "cell_type": "markdown",
      "source": [
        "The built-in function `len` returns the length of an object. Some examples of its use have been given before. Here is another example. The list `cities` is given as the *argument* of the function."
      ],
      "metadata": {
        "id": "QvMMUjW71raR"
      }
    },
    {
      "cell_type": "code",
      "metadata": {
        "id": "AL1p5wjoojzD"
      },
      "source": [
        "cities = ['Bergen', 'Bodø', 'Kristiansand', 'Tromsø', 'Bergen']\n",
        "len(cities)"
      ],
      "execution_count": null,
      "outputs": []
    },
    {
      "cell_type": "markdown",
      "source": [
        "Depending on what a function does, it may work on arguments of certain types. The `len` function works on sequences, such as lists, tuples and strings, or collections, such as sets."
      ],
      "metadata": {
        "id": "fVjT6gQ7IbnM"
      }
    },
    {
      "cell_type": "code",
      "source": [
        "len(set(cities))"
      ],
      "metadata": {
        "id": "jGKrmfDI_y3F"
      },
      "execution_count": null,
      "outputs": []
    },
    {
      "cell_type": "code",
      "source": [
        "len(cities[2])"
      ],
      "metadata": {
        "id": "2SVi_5VJIUin"
      },
      "execution_count": null,
      "outputs": []
    },
    {
      "cell_type": "markdown",
      "metadata": {
        "id": "GkmPEMrLpQ1g"
      },
      "source": [
        "Imported modules can provide additional functions."
      ]
    },
    {
      "cell_type": "code",
      "metadata": {
        "id": "W7y8iHcspW-P"
      },
      "source": [
        "import random\n",
        "random.choice(cities)"
      ],
      "execution_count": null,
      "outputs": []
    },
    {
      "cell_type": "markdown",
      "metadata": {
        "id": "tJDz45z4pjnN"
      },
      "source": [
        "New functions can be defined with 0 or more *parameters* in parentheses. Parameters are variables to hold the *arguments* that are given to the function. After the parameters, you must write a colon\n",
        "\n",
        "The following defines a new function called `double` with one parameter `n`. The function will return `n` times 2."
      ]
    },
    {
      "cell_type": "code",
      "metadata": {
        "id": "LwmHa9hKp1v6"
      },
      "source": [
        "def double (n):\n",
        "  return n * 2"
      ],
      "execution_count": null,
      "outputs": []
    },
    {
      "cell_type": "markdown",
      "source": [
        "This picture shows the different parts of a function definition:\n",
        "\n",
        "<img src=\"https://git.app.uib.no/desmedt/teaching/-/raw/main/python-function-def.png\" alt = \"function definition\" width = 420px>\n",
        "\n",
        "A parameter is a variable listed inside the parentheses in the function definition. Arguments are the values that are given to the function when it is called."
      ],
      "metadata": {
        "id": "qaCfU3MTVkIo"
      }
    },
    {
      "cell_type": "markdown",
      "metadata": {
        "id": "AevJNjaep-FV"
      },
      "source": [
        "In the following, the function `double` is called with the argument `7`. The parameter `n` will get the value 7 and with that value, the function’s body (the indented block) is executed. The result of `n * 2` is returned.\n"
      ]
    },
    {
      "cell_type": "code",
      "source": [
        "double(7)"
      ],
      "metadata": {
        "id": "tzhpBo3NLcxP"
      },
      "execution_count": null,
      "outputs": []
    },
    {
      "cell_type": "markdown",
      "source": [
        "Here is another example."
      ],
      "metadata": {
        "id": "wh1MbxlpJEuh"
      }
    },
    {
      "cell_type": "code",
      "source": [
        "double(len(cities))"
      ],
      "metadata": {
        "id": "Jvq_lBe9Lpke"
      },
      "execution_count": null,
      "outputs": []
    },
    {
      "cell_type": "markdown",
      "source": [
        "Because the `double` function returns a number, we can `double` that number again."
      ],
      "metadata": {
        "id": "t6himk1xi7Cm"
      }
    },
    {
      "cell_type": "code",
      "metadata": {
        "id": "n2lzu4XQp8Nd"
      },
      "source": [
        "double(double(len(cities)))"
      ],
      "execution_count": null,
      "outputs": []
    },
    {
      "cell_type": "markdown",
      "source": [
        "The binding of `n` is only valid for the time the function is executed. After that, it loses its value."
      ],
      "metadata": {
        "id": "i46O65Au4uxr"
      }
    },
    {
      "cell_type": "code",
      "source": [
        "n"
      ],
      "metadata": {
        "id": "B-vvvicN41GT"
      },
      "execution_count": null,
      "outputs": []
    },
    {
      "cell_type": "markdown",
      "source": [
        "If the function does not contain `return`, it will perform the specified operations but no result will be shown."
      ],
      "metadata": {
        "id": "sIPBvzGWfq0V"
      }
    },
    {
      "cell_type": "code",
      "source": [
        "def double (n):\n",
        "  n * 2\n",
        "double(8)"
      ],
      "metadata": {
        "id": "40IVIdTffmsP"
      },
      "execution_count": null,
      "outputs": []
    },
    {
      "cell_type": "markdown",
      "source": [
        "More specifically, the result is `None` (which means: nothing). This is what we will see if we try to `print` the result of the function call."
      ],
      "metadata": {
        "id": "12bbzwnrhHEm"
      }
    },
    {
      "cell_type": "code",
      "source": [
        "print(double (8))"
      ],
      "metadata": {
        "id": "_sLpaSt1hM0b"
      },
      "execution_count": null,
      "outputs": []
    },
    {
      "cell_type": "markdown",
      "source": [
        "In the following, the function prints something whenever it is called, but does not return anything."
      ],
      "metadata": {
        "id": "H4RPNrRwsPmV"
      }
    },
    {
      "cell_type": "code",
      "source": [
        "def double (n):\n",
        "  print(n * 2)\n",
        "double(8)\n",
        "double(1000)\n",
        "double(3.14)"
      ],
      "metadata": {
        "id": "Luh_CZxMWz8Z"
      },
      "execution_count": null,
      "outputs": []
    },
    {
      "cell_type": "markdown",
      "source": [
        "Because the function returns `None`, and we cannot multiply this by 2, the following will not work."
      ],
      "metadata": {
        "id": "89VnUbqyW6Io"
      }
    },
    {
      "cell_type": "code",
      "source": [
        "double(double(8))"
      ],
      "metadata": {
        "id": "Tk9--AzGXHdY"
      },
      "execution_count": null,
      "outputs": []
    },
    {
      "cell_type": "markdown",
      "source": [
        "So let's go back to returning a numerical value. Furthermore, if we print the value of `n` before computing and returning a value, we can track that value in embedded calls of the function. Such output is sometimes useful for testing and debugging new functions."
      ],
      "metadata": {
        "id": "3r1NsZix5hXm"
      }
    },
    {
      "cell_type": "code",
      "source": [
        "def double (n):\n",
        "  print('Multiplying', n, 'by 2')\n",
        "  return n * 2\n",
        "double(double(double (6)))"
      ],
      "metadata": {
        "id": "ZIueZypx5N5H"
      },
      "execution_count": null,
      "outputs": []
    },
    {
      "cell_type": "markdown",
      "source": [
        "Python is not very strict about spaces around parentheses and operators, but *indentation* is important. Everything that belongs inside the definition must be in an *indented block*. The following will not work, because there is no indented block."
      ],
      "metadata": {
        "id": "F1p8_bKhXVlF"
      }
    },
    {
      "cell_type": "code",
      "source": [
        "def double (n):\n",
        "print('Multiplying', n, 'by 2')\n",
        "return n * 2"
      ],
      "metadata": {
        "id": "6WespZpGXfKc"
      },
      "execution_count": null,
      "outputs": []
    },
    {
      "cell_type": "markdown",
      "source": [
        "Also, indentation must be consistent. You can choose how many spaces you use to indent, but statements belonging to the same block must have the same number of spaces. The following will therefore give an error."
      ],
      "metadata": {
        "id": "xEaMZXDge2QT"
      }
    },
    {
      "cell_type": "code",
      "source": [
        "def double (n):\n",
        "  print('Multiplying', n, 'by 2')\n",
        "    return n * 2"
      ],
      "metadata": {
        "id": "DlYNwvcqfC_a"
      },
      "execution_count": null,
      "outputs": []
    },
    {
      "cell_type": "markdown",
      "metadata": {
        "id": "USfAIUONrbf9"
      },
      "source": [
        "### Exercises\n",
        "\n",
        "1.   Define a function `F_to_C` that converts degrees Fahrenheit to Celcius. Test.\n",
        "2.   Define a function `make_question` that adds a question mark at the end of a string. More precisely, the function takes a string as its argument and produces a new string in which a question mark is concatenated to the end of the string. Test."
      ]
    }
  ]
}