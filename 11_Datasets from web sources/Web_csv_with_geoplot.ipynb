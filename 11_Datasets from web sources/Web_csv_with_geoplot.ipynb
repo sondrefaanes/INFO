{
  "nbformat": 4,
  "nbformat_minor": 0,
  "metadata": {
    "colab": {
      "provenance": []
    },
    "kernelspec": {
      "name": "python3",
      "display_name": "Python 3"
    },
    "language_info": {
      "name": "python"
    }
  },
  "cells": [
    {
      "cell_type": "markdown",
      "metadata": {
        "id": "LWh8lD1BMuDY"
      },
      "source": [
        "# Dataframe from CSV on the web, with geoplot\n",
        "\n",
        "by Koenraad De Smedt at UiB\n",
        "\n"
      ]
    },
    {
      "cell_type": "markdown",
      "metadata": {
        "id": "m4TzPGPCNsR_"
      },
      "source": [
        "---\n",
        "This notebook is not related to NLP, but is just another example of how to make a Pandas dataframe from a file with *character separated values* (.csv) on the web. It shows how information from a dataframe can be used to make a rough geoplot.\n",
        "\n",
        "---"
      ]
    },
    {
      "cell_type": "code",
      "metadata": {
        "id": "F4KGQ8DjrIdK"
      },
      "source": [
        "import pandas as pd"
      ],
      "execution_count": null,
      "outputs": []
    },
    {
      "cell_type": "markdown",
      "metadata": {
        "id": "caiDd7jGrL1U"
      },
      "source": [
        "The example is a dataset by Erik Bolstad containing geo locations of postal zone centers in Norway. The separator between columns is a tab and there is no header."
      ]
    },
    {
      "cell_type": "code",
      "metadata": {
        "id": "ozGpI5Z7MliD"
      },
      "source": [
        "postnr_url = 'https://www.erikbolstad.no/postnummer-koordinatar/txt/postnummer.csv'"
      ],
      "execution_count": null,
      "outputs": []
    },
    {
      "cell_type": "markdown",
      "metadata": {
        "id": "VHhEvQAFOKuQ"
      },
      "source": [
        "Read the csv file from url into a data frame. Indicate that the separator is a tab. The header is on line 0, which is the first line."
      ]
    },
    {
      "cell_type": "code",
      "metadata": {
        "id": "9n1KM1KwOIu2"
      },
      "source": [
        "postnr_frame = pd.read_csv(postnr_url, sep = '\\t', encoding = 'utf-8', header = 0)\n",
        "postnr_frame.columns"
      ],
      "execution_count": null,
      "outputs": []
    },
    {
      "cell_type": "markdown",
      "metadata": {
        "id": "ej0CgBiKOwjp"
      },
      "source": [
        "Summarize the numerical fields. We will be interested in LAT (latitude) and LON (longitude)."
      ]
    },
    {
      "cell_type": "code",
      "metadata": {
        "id": "KupQom3cOsvk"
      },
      "source": [
        "postnr_frame.describe()"
      ],
      "execution_count": null,
      "outputs": []
    },
    {
      "cell_type": "markdown",
      "metadata": {
        "id": "m4vGOXakO6RF"
      },
      "source": [
        "Create a scatter plot. Notice that there is an outlier very far East. This seems to be an error."
      ]
    },
    {
      "cell_type": "code",
      "metadata": {
        "id": "BpjLvfv8O7wa"
      },
      "source": [
        "postnr_frame.plot.scatter(x = 'LON', y = 'LAT', s = 4, figsize = (15,10))"
      ],
      "execution_count": null,
      "outputs": []
    },
    {
      "cell_type": "markdown",
      "metadata": {
        "id": "AykaTWI7PAkP"
      },
      "source": [
        "Filter out rows with longitudes that are too far East and plot again."
      ]
    },
    {
      "cell_type": "code",
      "metadata": {
        "id": "80SP4eHGPCJA"
      },
      "source": [
        "postnr_frame = postnr_frame[postnr_frame.LON < 31] \n",
        "postnr_frame.plot.scatter(x = 'LON', y = 'LAT', s = 4, figsize=(8,10))"
      ],
      "execution_count": null,
      "outputs": []
    },
    {
      "cell_type": "markdown",
      "metadata": {
        "id": "QCV-k6W-PGsU"
      },
      "source": [
        "Alternatively filter out all rows with uncertain locations. Change some plot options as well."
      ]
    },
    {
      "cell_type": "code",
      "metadata": {
        "id": "TvWIDCc_PIHq"
      },
      "source": [
        "postnr_frame = postnr_frame[postnr_frame.DATAKVALITETSFORKLARING != 'Usikker plassering']\n",
        "postnr_frame.plot.scatter(x='LON', y='LAT', c='green', marker='.',\n",
        "                          s=6, alpha=0.4, figsize=(8,10),\n",
        "                          title='Postal zones in Norway')"
      ],
      "execution_count": null,
      "outputs": []
    },
    {
      "cell_type": "markdown",
      "source": [
        "### Exercise\n",
        "\n",
        "(optional, nothing to do with language) The [Directorate of Fisheries](https://www.fiskeridir.no/Akvakultur/Registre-og-skjema/akvakulturregisteret) has a CSV file of fish farms in Norway. Plot their coordinates. You can also try to restrict the plot to certain fish types (*ART*) or other features. That file seems to be encoded in *iso-8859-1* with semicolon as separator."
      ],
      "metadata": {
        "id": "sJqdLdHR2Tqw"
      }
    }
  ]
}