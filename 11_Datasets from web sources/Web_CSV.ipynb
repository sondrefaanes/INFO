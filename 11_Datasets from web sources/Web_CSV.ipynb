{
  "nbformat": 4,
  "nbformat_minor": 0,
  "metadata": {
    "colab": {
      "provenance": []
    },
    "kernelspec": {
      "name": "python3",
      "display_name": "Python 3"
    },
    "language_info": {
      "name": "python"
    }
  },
  "cells": [
    {
      "cell_type": "markdown",
      "metadata": {
        "id": "LWh8lD1BMuDY"
      },
      "source": [
        "# Dataframe from CSV on the web\n",
        "\n",
        "by Koenraad De Smedt at UiB\n",
        "\n"
      ]
    },
    {
      "cell_type": "markdown",
      "metadata": {
        "id": "caiDd7jGrL1U"
      },
      "source": [
        "---\n",
        "The CSV format is a plain text representation of a table, where lines are rows and columns (or fields) are separated by a designated delimiter, often a *comma*. If the delimiter is a *tab* (tabulator character), the format is often called TSV.\n",
        "\n",
        "Based on data from a real research project, this notebook shows how to:\n",
        "\n",
        "1.  Make a Pandas dataframe from a CSV (or TSV) file on the web\n",
        "2.  Make a series by taking a column from a dataframe\n",
        "3.  Sort a series\n",
        "3.  Select rows based on matching values\n",
        "4.  Count and plot values.\n",
        "\n",
        "We will use an online dataset which contains a list of new Norwegian compounds with *korona-* or *corona-*, such as *koronasyk* or *coronavirusfamilien*, obtained by searching online Norwegian newspapers accessible through [CLARINO](https://clarino.uib.no/iness). The dataset has three columns:\n",
        "\n",
        "1. The name of the newspaper in which the compound first occurred\n",
        "2. The date of first occurrence\n",
        "3. The second part of the compound (after *korona-* or *corona-*).\n",
        "\n",
        "More information at https://github.com/clarino/corona/tree/master/corona21.\n",
        "\n",
        "---"
      ]
    },
    {
      "cell_type": "markdown",
      "source": [
        "## Read dataframe from CSV on Web"
      ],
      "metadata": {
        "id": "1Gryhj_d35oS"
      }
    },
    {
      "cell_type": "code",
      "metadata": {
        "id": "0JWt46c6Jr8L"
      },
      "source": [
        "import pandas as pd\n",
        "corona_url = 'https://raw.githubusercontent.com/clarino/corona/master/corona21/korona-compounds-forms.csv'"
      ],
      "execution_count": null,
      "outputs": []
    },
    {
      "cell_type": "markdown",
      "metadata": {
        "id": "W21o5H3HJrOV"
      },
      "source": [
        "We read this online dataset into a Pandas dataframe. The separator is a *tab* character. This dataset does not contain a header (i.e. a line with column names) so we have to name the columns explicitly."
      ]
    },
    {
      "cell_type": "code",
      "metadata": {
        "id": "ozGpI5Z7MliD"
      },
      "source": [
        "occurrences = pd.read_csv(corona_url, sep='\\t', header=None)\n",
        "occurrences.columns = ['source', 'date', 'word']\n",
        "occurrences"
      ],
      "execution_count": null,
      "outputs": []
    },
    {
      "cell_type": "markdown",
      "source": [
        "## Sort series from column"
      ],
      "metadata": {
        "id": "J9bbwFy84A9J"
      }
    },
    {
      "cell_type": "markdown",
      "metadata": {
        "id": "xvj7pTFz3bpP"
      },
      "source": [
        "We can now perform various operations on this dataset. For instance, we can extract only the `'word'` column. Taking a single column results in *series*, which is a one-dimensional data structure with axis labels. "
      ]
    },
    {
      "cell_type": "code",
      "metadata": {
        "id": "Cn0r0PLa53pS"
      },
      "source": [
        "words = occurrences['word']\n",
        "words"
      ],
      "execution_count": null,
      "outputs": []
    },
    {
      "cell_type": "code",
      "source": [
        "type(words)"
      ],
      "metadata": {
        "id": "TasnFbrS4sIf"
      },
      "execution_count": null,
      "outputs": []
    },
    {
      "cell_type": "markdown",
      "source": [
        "The series can be sorted if the values are of the same type. If the values are strings, sorting will be alphabetic. If they are numbers, sorting will be numeric. If the values are a combination of types, sorting does not make sense and may therefore not work."
      ],
      "metadata": {
        "id": "De20m7ziQ3T4"
      }
    },
    {
      "cell_type": "code",
      "source": [
        "words_sorted = words.sort_values()\n",
        "words_sorted"
      ],
      "metadata": {
        "id": "Q6AEV2jwQ2Kk"
      },
      "execution_count": null,
      "outputs": []
    },
    {
      "cell_type": "markdown",
      "metadata": {
        "id": "jfC4FwmcAVzo"
      },
      "source": [
        "The series can also be sorted by other criteria, such as the length of the values, if they are strings, for instance. In order to do this, we use a *lambda function* which specifies the sorting criterion. This lambda function coerces each value `x` to a string by `.str` and then uses `.len` to take the string’s length."
      ]
    },
    {
      "cell_type": "code",
      "metadata": {
        "id": "SfA8J7q__2U3"
      },
      "source": [
        "words_sorted = words.sort_values(key=lambda x: x.str.len())\n",
        "words_sorted"
      ],
      "execution_count": null,
      "outputs": []
    },
    {
      "cell_type": "markdown",
      "metadata": {
        "id": "EWny2gShA0UU"
      },
      "source": [
        "Note that each line still has its original index label. Suppose we want to take the longest word, which is at the top. The label `[0]` still refers to the original first row, but if we want to take the first row in the new ordering, we have to use `.iloc[0]` instead."
      ]
    },
    {
      "cell_type": "code",
      "metadata": {
        "id": "6pU0L5I4Auwh"
      },
      "source": [
        "print(words_sorted[0])\n",
        "print(words_sorted.loc[0])\n",
        "print(words_sorted.iloc[0])"
      ],
      "execution_count": null,
      "outputs": []
    },
    {
      "cell_type": "markdown",
      "metadata": {
        "id": "STk0s0HkCGeb"
      },
      "source": [
        "### Exercise\n",
        "\n",
        "*   How can you obtain the last word in the sorted series? Try.\n",
        "\n",
        "---"
      ]
    },
    {
      "cell_type": "markdown",
      "source": [
        "## Match values"
      ],
      "metadata": {
        "id": "sS74KjOM4FqO"
      }
    },
    {
      "cell_type": "markdown",
      "metadata": {
        "id": "fiIk91e96Pvf"
      },
      "source": [
        "Suppose we want to know which proportion of new words contain *virus*. We select only rows which match a string (or regular expression)."
      ]
    },
    {
      "cell_type": "code",
      "metadata": {
        "id": "mMYB-KjI6OLS"
      },
      "source": [
        "virus_words = words[words.str.match('virus')] # regex match\n",
        "print(virus_words)\n",
        "print(len(virus_words)/len(words))"
      ],
      "execution_count": null,
      "outputs": []
    },
    {
      "cell_type": "markdown",
      "metadata": {
        "id": "Plr35pQs7W3x"
      },
      "source": [
        "We can limit the precision of the proportion in terms of the number of decimals that are printed. There are several ways of doing that. Here we use a *formatted string literal* (also called *f-string*)."
      ]
    },
    {
      "cell_type": "code",
      "metadata": {
        "id": "hjNjs28h7hF9"
      },
      "source": [
        "print(f'{len(virus_words)/len(words)*100:.2f} percent')"
      ],
      "execution_count": null,
      "outputs": []
    },
    {
      "cell_type": "markdown",
      "metadata": {
        "id": "tsfTCHvA8NQ4"
      },
      "source": [
        "### Exercise\n",
        "\n",
        "*   Select only words containing virus followed by at least five arbitrary characters. How many are there?\n",
        "\n",
        "---"
      ]
    },
    {
      "cell_type": "markdown",
      "source": [
        "## Value counts"
      ],
      "metadata": {
        "id": "xVUGNl734UgD"
      }
    },
    {
      "cell_type": "markdown",
      "metadata": {
        "id": "E1BVTOfj9Hlx"
      },
      "source": [
        "In which newspapers were new words first observed? To get an overview, we can count the number of times each newspaper source occurs in the dataset. Pandas has an easy built-in method for counting values. This results in a frequency list which has the form of a series with the newspapers as indices."
      ]
    },
    {
      "cell_type": "code",
      "source": [
        "source_counts = occurrences['source'].value_counts()\n",
        "source_counts"
      ],
      "metadata": {
        "id": "Sa1u37nKfj4U"
      },
      "execution_count": null,
      "outputs": []
    },
    {
      "cell_type": "markdown",
      "source": [
        "Plot these counts. We could import `matplotlib.pyplot`, but Pandas has an easier `plot` method."
      ],
      "metadata": {
        "id": "QbULzzqeeqEC"
      }
    },
    {
      "cell_type": "code",
      "source": [
        "source_counts.plot(kind='bar', title=\"Corona new compound counts per newspaper\")"
      ],
      "metadata": {
        "id": "Yxvu2GnfhC3n"
      },
      "execution_count": null,
      "outputs": []
    },
    {
      "cell_type": "markdown",
      "metadata": {
        "id": "oKR_-HrV95OI"
      },
      "source": [
        "### Exercises\n",
        "\n",
        "1.  Sort the value counts of the sources in *ascending* order. Check the [documentation for `.value_counts`](https://pandas.pydata.org/pandas-docs/stable/reference/api/pandas.Series.value_counts.html). Then plot again.\n",
        "2.  (optional) Compute the distribution of word lengths and plot.\n",
        "3.  (optional) Plot the number of new words per date."
      ]
    }
  ]
}