{
  "nbformat": 4,
  "nbformat_minor": 5,
  "metadata": {
    "kernelspec": {
      "display_name": "Python 3",
      "language": "python",
      "name": "python3"
    },
    "language_info": {
      "codemirror_mode": {
        "name": "ipython",
        "version": 3
      },
      "file_extension": ".py",
      "mimetype": "text/x-python",
      "name": "python",
      "nbconvert_exporter": "python",
      "pygments_lexer": "ipython3",
      "version": "3.9.4"
    },
    "colab": {
      "provenance": []
    }
  },
  "cells": [
    {
      "cell_type": "markdown",
      "metadata": {
        "id": "637cc60d"
      },
      "source": [
        "# Accessing data on the web through APIs\n",
        "\n",
        "by Koenraad De Smedt at UiB"
      ],
      "id": "637cc60d"
    },
    {
      "cell_type": "markdown",
      "metadata": {
        "id": "k4bCyKtiH2J1"
      },
      "source": [
        "---\n",
        "An *Application Program Interface* (API) is a website that accepts HTTP/HTTPS requests and sends a response. If the request is valid, the response will have a successful status code and the program extract data from it. Many websites provide data in the JSON format, which can easily be converted to a Python *dict*.\n",
        "\n",
        "This notebook shows how to:\n",
        "\n",
        "1.  Accessing a remote API with parameters\n",
        "2.  Getting a dict from JSON in an API response\n",
        "3.  Select information from parts of the dict\n",
        "4.  Convert a dict to a *pandas* series\n",
        "5.  Sort a series.\n",
        "\n",
        "Warning: The external websites in these examples are regularly updated, so that the data in the response may be different from earlier. Also, it is possible that the APIs themselves are changed.\n",
        "\n",
        "---"
      ],
      "id": "k4bCyKtiH2J1"
    },
    {
      "cell_type": "code",
      "metadata": {
        "id": "BahVvUb9IP7_"
      },
      "source": [
        "import requests"
      ],
      "id": "BahVvUb9IP7_",
      "execution_count": null,
      "outputs": []
    },
    {
      "cell_type": "markdown",
      "metadata": {
        "id": "n6ZmhfDAtLUG"
      },
      "source": [
        "---\n",
        "## Gender of names\n",
        "\n",
        "The following example accesses an API on a website that provides the gender of a name. The example asks for the gender of *Alexa*. This could be useful in social media analysis, for instance.\n"
      ],
      "id": "n6ZmhfDAtLUG"
    },
    {
      "cell_type": "code",
      "metadata": {
        "id": "QfS3oikutMrR"
      },
      "source": [
        "requests.get('https://api.genderize.io', params={'name':'Alexa'}).json()['gender']"
      ],
      "id": "QfS3oikutMrR",
      "execution_count": null,
      "outputs": []
    },
    {
      "cell_type": "markdown",
      "metadata": {
        "id": "dFYq0-qMIrkG"
      },
      "source": [
        "Let us break this example down in steps. We send a *get* request and provide the parameters as a *dict*. \n",
        "\n",
        "If the `status_code` of the response is 200, the request was successful and a valid response is obtained."
      ],
      "id": "dFYq0-qMIrkG"
    },
    {
      "cell_type": "code",
      "metadata": {
        "id": "NSkwK64oH1U5"
      },
      "source": [
        "response = requests.get('https://api.genderize.io', params={'name':'Alexa'})\n",
        "print(response)\n",
        "print(response.status_code)"
      ],
      "id": "NSkwK64oH1U5",
      "execution_count": null,
      "outputs": []
    },
    {
      "cell_type": "markdown",
      "metadata": {
        "id": "wr86G64fMAXt"
      },
      "source": [
        "The response contains data as a JSON object. By using the `.json` decoder, we can convert this object to a dict."
      ],
      "id": "wr86G64fMAXt"
    },
    {
      "cell_type": "code",
      "metadata": {
        "id": "InUgxnKPLOWP"
      },
      "source": [
        "data = response.json()\n",
        "print(data)\n",
        "type(data)"
      ],
      "id": "InUgxnKPLOWP",
      "execution_count": null,
      "outputs": []
    },
    {
      "cell_type": "markdown",
      "metadata": {
        "id": "KPy4Y5CjJycJ"
      },
      "source": [
        "There are various pieces of information in this dict which can be used for further processing."
      ],
      "id": "KPy4Y5CjJycJ"
    },
    {
      "cell_type": "code",
      "metadata": {
        "id": "SpdqFyJQMUP2"
      },
      "source": [
        "print(data['gender'])\n",
        "print(data['name'], 'is', data['gender'])"
      ],
      "id": "SpdqFyJQMUP2",
      "execution_count": null,
      "outputs": []
    },
    {
      "cell_type": "markdown",
      "metadata": {
        "id": "6o6ww_CHM0dG"
      },
      "source": [
        "### Exercise 1\n",
        "\n",
        "Define a function `find_gender` with one argument, a name, prints the gender and the probability as in the following example.\n",
        "\n",
        "```\n",
        ">>> (find_gender 'Alexa')\n",
        "Alexa is female with probability 0.93\n",
        "```\n",
        "\n",
        "Then change your function definition so that the probability is printed as a percentage.\n",
        "\n",
        "```\n",
        ">>> (find_gender 'Alexa')\n",
        "Alexa is female (93%)\n",
        "```"
      ],
      "id": "6o6ww_CHM0dG"
    },
    {
      "cell_type": "markdown",
      "metadata": {
        "id": "4vrLLJm9NrSp"
      },
      "source": [
        "### Exercise 2\n",
        "\n",
        "According to the [documentation](https://genderize.io/), this API accepts and optional extra parameter `country_id` which is a [two-letter country code](https://en.wikipedia.org/wiki/ISO_3166-1_alpha-2). Extend the function with an optional parameter for the country. If the country is given, it is given as a parameter to the API and is put in the output as well. Example:\n",
        "\n",
        "```\n",
        ">>> find_gender('Kim', 'KR')\n",
        "Kim is male in KR (80%)\n",
        ">>> find_gender('Kim')\n",
        "Kim is female (56%)\n",
        "```\n",
        "\n"
      ],
      "id": "4vrLLJm9NrSp"
    },
    {
      "cell_type": "markdown",
      "metadata": {
        "id": "345bVxvDvrV-"
      },
      "source": [
        "---\n",
        "## Countries\n",
        "\n",
        "Another API is that of https://restcountries.com/ which returns information about countries. This JSON response has a more complicated structure than the one above.\n",
        "\n",
        "Check out this example in a browser window: https://restcountries.com/v3.1/alpha?codes=be which returns a lot of information about Belgium. Observe that the result appears as a list containing a dict."
      ],
      "id": "345bVxvDvrV-"
    },
    {
      "cell_type": "code",
      "metadata": {
        "id": "N_edHvz7wLZJ"
      },
      "source": [
        "countries_url = 'https://restcountries.com/v3.1/alpha'"
      ],
      "id": "N_edHvz7wLZJ",
      "execution_count": null,
      "outputs": []
    },
    {
      "cell_type": "markdown",
      "source": [
        "\n",
        "Let's say that we are only interested in the country name and the population. These pieces of information can be 'mined' from the API result. So we make a function that takes a country code as its argument and returns two values: the common country name (in English) and the population."
      ],
      "metadata": {
        "id": "pCvkIpbq72Y0"
      },
      "id": "pCvkIpbq72Y0"
    },
    {
      "cell_type": "code",
      "source": [
        "def get_country_info(country_code):\n",
        "  info = requests.get(countries_url, params={'codes':country_code}).json()\n",
        "  #print(info)\n",
        "  return info[0]['name']['common'], info[0]['population']"
      ],
      "metadata": {
        "id": "roEZLzQ1EmiJ"
      },
      "id": "roEZLzQ1EmiJ",
      "execution_count": null,
      "outputs": []
    },
    {
      "cell_type": "markdown",
      "source": [
        "Let's test. Because the function returns two values, we need two variables to receive these values."
      ],
      "metadata": {
        "id": "_MYM_EN3QSd4"
      },
      "id": "_MYM_EN3QSd4"
    },
    {
      "cell_type": "code",
      "source": [
        "country_name, population = get_country_info('be')\n",
        "print(f'{country_name} (pop. {population})')"
      ],
      "metadata": {
        "id": "LBoSZTJ0QPqu"
      },
      "id": "LBoSZTJ0QPqu",
      "execution_count": null,
      "outputs": []
    },
    {
      "cell_type": "markdown",
      "metadata": {
        "id": "KeyFfu4xVkXG"
      },
      "source": [
        "### Exercise 3\n",
        "\n",
        "Extend the function `find_gender` from the previous exercise by printing the \n",
        "common name and population of the country, instead of the percentage. Example:\n",
        "\n",
        "```\n",
        ">>> find_gender('Kim', 'BE')\n",
        "Kim is female in Belgium (pop. 11555997)\n",
        "```\n",
        "\n",
        "As a slightly more complex variant, also print the number of people recorded with that name in the given country.\n",
        "\n",
        "```\n",
        ">>> find_gender('Kim', 'BE')\n",
        "Kim is female in Belgium (3373 recorded out of pop. 11555997)\n",
        "```"
      ],
      "id": "KeyFfu4xVkXG"
    },
    {
      "cell_type": "markdown",
      "metadata": {
        "id": "LVpKahQMloLt"
      },
      "source": [
        "---\n",
        "## Covid-19\n",
        "\n",
        "There is an API with information about the Covid-19 situation in all countries.\n",
        "It is described in https://covid19api.com/.\n",
        "\n",
        "The following will give a list of dicts, one for each country. Let's show the first two of these."
      ],
      "id": "LVpKahQMloLt"
    },
    {
      "cell_type": "code",
      "metadata": {
        "id": "Xu69RT8PlwyR"
      },
      "source": [
        "covid_url = 'https://api.covid19api.com/summary'\n",
        "covid_list = requests.get(covid_url).json()['Countries']\n",
        "covid_list[:2]"
      ],
      "id": "Xu69RT8PlwyR",
      "execution_count": null,
      "outputs": []
    },
    {
      "cell_type": "markdown",
      "metadata": {
        "id": "l_4HbNECnDSG"
      },
      "source": [
        "Transform this list of dicts into one dict with countries as keys and numbers of deaths as values."
      ],
      "id": "l_4HbNECnDSG"
    },
    {
      "cell_type": "code",
      "metadata": {
        "id": "zzSZFFTVnC5S"
      },
      "source": [
        "covid_death_dict = {c['Country']:c['TotalDeaths'] for c in covid_list}\n",
        "covid_death_dict"
      ],
      "id": "zzSZFFTVnC5S",
      "execution_count": null,
      "outputs": []
    },
    {
      "cell_type": "markdown",
      "metadata": {
        "id": "9A5i4ExCQvN7"
      },
      "source": [
        "### Exercise 4\n",
        "\n",
        "\n",
        "Write simple code to find the total number of deaths for Norway in `covid_death_dict`."
      ],
      "id": "9A5i4ExCQvN7"
    },
    {
      "cell_type": "markdown",
      "metadata": {
        "id": "EBQJhM1bnguY"
      },
      "source": [
        "---\n",
        "## Dict to Panda series\n",
        "\n",
        "The dict can be converted into a Panda series. A series is a one-dimensional labeled array capable of holding data of any type. In this case it is series of numbers."
      ],
      "id": "EBQJhM1bnguY"
    },
    {
      "cell_type": "code",
      "metadata": {
        "id": "dSu91IMQnctC"
      },
      "source": [
        "import pandas as pd\n",
        "covid_series = pd.Series(covid_death_dict)\n",
        "covid_series.index.name = 'country'\n",
        "covid_series"
      ],
      "id": "dSu91IMQnctC",
      "execution_count": null,
      "outputs": []
    },
    {
      "cell_type": "markdown",
      "source": [
        "The series can be sorted and plotted. The y axis may use exponential numbering. `1e6` means `10 ** 6`."
      ],
      "metadata": {
        "id": "l5pSD6558oWy"
      },
      "id": "l5pSD6558oWy"
    },
    {
      "cell_type": "code",
      "source": [
        "covid_series = covid_series.sort_values(ascending=False)\n",
        "covid_series.plot(use_index=False)"
      ],
      "metadata": {
        "id": "yDxH0khq8fpZ"
      },
      "id": "yDxH0khq8fpZ",
      "execution_count": null,
      "outputs": []
    },
    {
      "cell_type": "markdown",
      "source": [
        "The y axis can be logarithmic by adding the argument `logy=True`."
      ],
      "metadata": {
        "id": "UdLgmji9-BrK"
      },
      "id": "UdLgmji9-BrK"
    },
    {
      "cell_type": "code",
      "source": [
        "covid_series.plot(use_index=False, logy=True)"
      ],
      "metadata": {
        "id": "ZTcnICz--Cem"
      },
      "id": "ZTcnICz--Cem",
      "execution_count": null,
      "outputs": []
    },
    {
      "cell_type": "markdown",
      "metadata": {
        "id": "t5GtnKv8RMkf"
      },
      "source": [
        "### Exercise 5\n",
        "\n",
        "1.  Print the first 5 items of the sorted `covid_series` to see the top countries with the most deaths.\n",
        "\n",
        "2.  (optional) Extend by looking up the population of countries to find the deaths per capita."
      ],
      "id": "t5GtnKv8RMkf"
    },
    {
      "cell_type": "markdown",
      "metadata": {
        "id": "_xb7Mfocw9WR"
      },
      "source": [
        "### Exercise 6\n",
        "\n",
        "(optional) This is a slightly bigger project for those who want to try some more APIs. There is a Digital Humanities Course Registry (a cooperation between CLARINO and DARIAH) which has an [API](https://dhcr.clarin-dariah.eu/api/v1/). Make a program to get information from the API. For instance, define a function which retrieves all courses given in certain languages, together with their institutions, such as the following:\n",
        "\n",
        "```\n",
        ">>> find_courses_lang(['Norwegian','Swedish','Danish'])\n",
        "Masterprogram i digital kultur - Universitetet i Bergen\n",
        "Digitala Humaniora - Åbo Akademi University\n",
        "IT and Cognition - Copenhagen University\n",
        "```\n",
        "\n",
        "Other possible exercises are plotting the number of courses by language, country, institution, discipline, etc."
      ],
      "id": "_xb7Mfocw9WR"
    }
  ]
}