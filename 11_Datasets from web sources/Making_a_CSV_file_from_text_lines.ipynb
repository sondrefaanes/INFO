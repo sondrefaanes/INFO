{
  "nbformat": 4,
  "nbformat_minor": 0,
  "metadata": {
    "colab": {
      "provenance": []
    },
    "kernelspec": {
      "name": "python3",
      "display_name": "Python 3"
    },
    "language_info": {
      "name": "python"
    }
  },
  "cells": [
    {
      "cell_type": "markdown",
      "metadata": {
        "id": "SWOqNTJBwxaS"
      },
      "source": [
        "# Making a CSV data file from text lines\n",
        "## A dataset for Norwegian preterites\n",
        "\n",
        "by Koenraad De Smedt at UiB"
      ]
    },
    {
      "cell_type": "markdown",
      "metadata": {
        "id": "sKe1FzvqgSBF"
      },
      "source": [
        "---\n",
        "This notebook demonstrates how to:\n",
        "\n",
        "1.  Construct and write a CSV file\n",
        "2.  Extract character attributes from words\n",
        "3.  Fill in missing attributes\n",
        "4.  Break up a problem in smaller steps.\n",
        "\n",
        "CSV is an often used format in data science, so it is useful to have some experience in converting data to this format. The current demo results in a file that can be fed into a machine learning program like [Weka](https://waikato.github.io/weka-wiki/downloading_weka/).\n",
        "\n",
        "A plain [list of Norwegian preterites](https://git.app.uib.no/desmedt/teaching/-/raw/main/vpret-et-te.txt) is used as a basis. The last two letters of each verbform are up the suffix (*et* or *te*) and will be extracted as the last attribute for the CSV file. The three attributes before that are the three letters before the suffix. All features must be delimited by a separator (usually a comma). Example:\n",
        "\n",
        ">`abonnerte` -> `n,e,r,te`\n",
        "\n",
        ">`adlet` -> `a,d,l,et`\n",
        "\n",
        "If a preterite is shorter than the required 5 characters, a filler character should fill the places of the missing features.\n",
        "\n",
        ">`aget'` -> `+,a,g,et`\n",
        "\n",
        ">`ået'` -> `+,+,å,et`\n",
        "\n",
        "---"
      ]
    },
    {
      "cell_type": "markdown",
      "source": [
        "## Define variables and helper functions\n",
        "\n",
        "First define some global variables. This makes it easy to change them if the need should arise. The filler and separator should be non-word characters."
      ],
      "metadata": {
        "id": "Cyr_bpZFTijA"
      }
    },
    {
      "cell_type": "code",
      "metadata": {
        "id": "hDLQdog4xeKp"
      },
      "source": [
        "filler = '+'\n",
        "sep = ','"
      ],
      "execution_count": null,
      "outputs": []
    },
    {
      "cell_type": "markdown",
      "metadata": {
        "id": "y848vFsCxtg_"
      },
      "source": [
        "Now break down the problem and define some helper functions. Because taking the five final characters of a word will fail if the word is too short, step one is to write a helper function that ‘fills up’ a word with fillers if necessary, otherwise the word is returned as it was."
      ]
    },
    {
      "cell_type": "code",
      "metadata": {
        "id": "WTL5rPP6xpRw"
      },
      "source": [
        "def fill_pret (verb):\n",
        "  if len(verb) < 5:\n",
        "    return (5 - len(verb)) * filler + verb\n",
        "  else: return verb\n",
        "\n",
        "fill_pret('ået')"
      ],
      "execution_count": null,
      "outputs": []
    },
    {
      "cell_type": "code",
      "source": [
        "fill_pret('abonnerte')"
      ],
      "metadata": {
        "id": "-xXMTdtNzZi3"
      },
      "execution_count": null,
      "outputs": []
    },
    {
      "cell_type": "markdown",
      "metadata": {
        "id": "DVaXlO2HyCI-"
      },
      "source": [
        "Step two is to write the main conversion function that first uses the helper function and then joins the necessary features with commas."
      ]
    },
    {
      "cell_type": "code",
      "metadata": {
        "id": "Sj-SWN8cgHxB"
      },
      "source": [
        "def convert_pret (verb):\n",
        "  verb = fill_pret(verb)\n",
        "  return sep.join(verb[-5:-1]) + verb[-1]\n",
        "\n",
        "convert_pret ('ået')"
      ],
      "execution_count": null,
      "outputs": []
    },
    {
      "cell_type": "code",
      "source": [
        "convert_pret('abonnerte')"
      ],
      "metadata": {
        "id": "54JzEA8BzrXg"
      },
      "execution_count": null,
      "outputs": []
    },
    {
      "cell_type": "markdown",
      "metadata": {
        "id": "xWYVCpCj8auo"
      },
      "source": [
        "## Convert input file to output file\n",
        "\n",
        "Now we are ready to apply the conversion to every line that is read from a file and to write the results to another file. The input file is remotely available. The output will be a temporary file (downloadable)."
      ]
    },
    {
      "cell_type": "code",
      "source": [
        "import requests\n",
        "vpret_url = 'https://git.app.uib.no/desmedt/teaching/-/raw/main/vpret-et-te.txt'"
      ],
      "metadata": {
        "id": "-f0LTfguTMHI"
      },
      "execution_count": null,
      "outputs": []
    },
    {
      "cell_type": "markdown",
      "source": [
        "Open the url as a stream from which you can read lines. With an open output file, first print a header (column names). Then iterate over lines from the stream, and print the converted lined to the output file. The `.strip` function strips whitespace (including newlines) from the beginning and end of the line."
      ],
      "metadata": {
        "id": "aGmr9qWLVxBx"
      }
    },
    {
      "cell_type": "code",
      "source": [
        "vpret_stream = requests.get(vpret_url, stream=True)\n",
        "\n",
        "with open('vpret.csv', 'w') as outfile:\n",
        "  print(sep.join(['ant','pen','fin','suffix']), file=outfile)\n",
        "  for line in vpret_stream.iter_lines(decode_unicode=True):\n",
        "    print(convert_pret(line.strip()), file=outfile)"
      ],
      "metadata": {
        "id": "4ds2yH1-TYEm"
      },
      "execution_count": null,
      "outputs": []
    },
    {
      "cell_type": "markdown",
      "metadata": {
        "id": "fmafHvQo-bAD"
      },
      "source": [
        "Check the contents of the resulting file. Read and print only the first 100 characters."
      ]
    },
    {
      "cell_type": "code",
      "metadata": {
        "id": "RUYLk96W-pme"
      },
      "source": [
        "with open('vpret.csv') as f:\n",
        "  print(f.read(100))"
      ],
      "execution_count": null,
      "outputs": []
    },
    {
      "cell_type": "markdown",
      "metadata": {
        "id": "OTqYo1zGDiSS"
      },
      "source": [
        "Alternatively, shown the first ten lines with an operating system command."
      ]
    },
    {
      "cell_type": "code",
      "metadata": {
        "id": "nW0-fqb3DJLv"
      },
      "source": [
        "!head vpret.csv"
      ],
      "execution_count": null,
      "outputs": []
    },
    {
      "cell_type": "markdown",
      "metadata": {
        "id": "Zlh6mUUx1PvL"
      },
      "source": [
        "### Exercises\n",
        "\n",
        "1.   Change the filler and separator. Run the program and check the result.\n",
        "2.   If you want to use 6 letters, for instance, instead of 5, you have to change the program in several places. This may be inconvenient and prone to errors. A better way is to make a global variable `nletters` for the number of letters of the word that will be used in the output. Add this variable at the beginning and adapt the program where necessary to use this variable."
      ]
    }
  ]
}