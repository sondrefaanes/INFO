{
  "nbformat": 4,
  "nbformat_minor": 0,
  "metadata": {
    "colab": {
      "provenance": []
    },
    "kernelspec": {
      "name": "python3",
      "display_name": "Python 3"
    },
    "language_info": {
      "name": "python"
    }
  },
  "cells": [
    {
      "cell_type": "markdown",
      "source": [
        "# Groups and visualization with Anscombe’s quartet\n",
        "\n",
        "by Koenraad De Smedt at UiB"
      ],
      "metadata": {
        "id": "EXO6DRcT-CMR"
      }
    },
    {
      "cell_type": "markdown",
      "source": [
        "---\n",
        "This notebook shows:\n",
        "\n",
        "1.   How to read a JSON file into a dataframe\n",
        "2.   How to make groups by values in a column\n",
        "3.   How to plot the data in each group.\n",
        "\n",
        "This is illustrated with the *Anscombe’s quartet*, a well-known example from statistics. The dataset for this example, `anscombe.json`, is formatted in JSON, a structured data type which is similar to a *dict*.\n",
        "\n",
        "---"
      ],
      "metadata": {
        "id": "w9CsRNbr-JHN"
      }
    },
    {
      "cell_type": "markdown",
      "source": [
        "Use *pandas* to read the JSON dataset from the Google Colab sample data into a dataframe. Alternatively, if you are not using Colab, you can read the file from another location."
      ],
      "metadata": {
        "id": "ildK0Jl0WUgA"
      }
    },
    {
      "cell_type": "code",
      "execution_count": null,
      "metadata": {
        "id": "pNQczbVr6YBu"
      },
      "outputs": [],
      "source": [
        "import pandas as pd\n",
        "df = pd.read_json('/content/sample_data/anscombe.json')\n",
        "# df = pd.read_json('https://huggingface.co/datasets/merve/test-dataset/raw/4a3883db6cdc57e61f202c981f6924a87bece781/anscombe.json')\n",
        "# df = pd.read_json('https://raw.githubusercontent.com/vega/vega/main/docs/data/anscombe.json')\n",
        "df"
      ]
    },
    {
      "cell_type": "markdown",
      "source": [
        "Group by different values in the Series column. Describe the groups. You can see that the groups have the same number of data points and the same (or very similar) summary statistics, such as the means and standard deviations for X and Y."
      ],
      "metadata": {
        "id": "GS4UWcjm-noK"
      }
    },
    {
      "cell_type": "code",
      "source": [
        "quartet = df.groupby('Series')\n",
        "quartet.describe()"
      ],
      "metadata": {
        "id": "gPRqbRHG75Ls"
      },
      "execution_count": null,
      "outputs": []
    },
    {
      "cell_type": "markdown",
      "source": [
        "Each group has the same (or very close) correlation between X and Y."
      ],
      "metadata": {
        "id": "miLp-It__LiE"
      }
    },
    {
      "cell_type": "code",
      "source": [
        "quartet.corr()"
      ],
      "metadata": {
        "id": "muMH-p168gKt"
      },
      "execution_count": null,
      "outputs": []
    },
    {
      "cell_type": "markdown",
      "source": [
        "The surprising part comes when we plot the data points in each group. This illustrates the importance of data visualization, as pointed out by [Anscombe](https://en.wikipedia.org/wiki/Anscombe%27s_quartet)."
      ],
      "metadata": {
        "id": "C8vtb_Db_VQi"
      }
    },
    {
      "cell_type": "code",
      "source": [
        "quartet.plot.scatter('X','Y')"
      ],
      "metadata": {
        "id": "uPvDf9R38lqN"
      },
      "execution_count": null,
      "outputs": []
    },
    {
      "cell_type": "markdown",
      "source": [
        "Here is an alternative way to plot the data using Seaborn."
      ],
      "metadata": {
        "id": "95WlHO8b9gXF"
      }
    },
    {
      "cell_type": "code",
      "source": [
        "import seaborn as sns\n",
        "sns.relplot(data=df, x='X', y='Y', col='Series', col_wrap=2)"
      ],
      "metadata": {
        "id": "JSNfYFDf8tgo"
      },
      "execution_count": null,
      "outputs": []
    },
    {
      "cell_type": "markdown",
      "source": [
        "###Exercises\n",
        "\n",
        "1. (optional) Read [the article about the Datasaurus dozen](https://www.autodesk.com/research/publications/same-stats-different-graphs), download the data, move the TSV file to your Google Drive (or upload to Colab), [read the table from file into a dataframe](https://pandas.pydata.org/docs/reference/api/pandas.read_csv.html) and plot the data."
      ],
      "metadata": {
        "id": "QVNQ7TdpKg6E"
      }
    }
  ]
}