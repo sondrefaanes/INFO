{
  "nbformat": 4,
  "nbformat_minor": 0,
  "metadata": {
    "colab": {
      "provenance": []
    },
    "kernelspec": {
      "name": "python3",
      "display_name": "Python 3"
    },
    "language_info": {
      "name": "python"
    }
  },
  "cells": [
    {
      "cell_type": "markdown",
      "source": [
        "# Summing values in groups\n",
        "\n",
        "by Koenraad De Smedt for University of Bergen\n"
      ],
      "metadata": {
        "id": "n5Xg2dCXY_v2"
      }
    },
    {
      "cell_type": "markdown",
      "source": [
        "---\n",
        "Based on a real research case, this notebook shows how to:\n",
        "\n",
        "1.   Read a TSV file (*tab* separated values) into a *pandas* dataframe\n",
        "2.   Find rows with missing values (NaN)\n",
        "3.   Group rows based on values in a column\n",
        "4.   Sum values in another column within each group\n",
        "5.   Display the sums in a bar plot\n",
        "6.   Save the plot and write the table to a CSV file.\n",
        "\n",
        "The examples uses data downloaded from NorGramBank, a large Norwegian treebank containing thousands of texts from different years, accessible in [CLARINO](https://clarino.uib.no/iness). Each row represents one text and has two columns: the number of sentences in that text and the year for that text.\n",
        "\n",
        "The challenge is to get a better overview by making the sum of the sentence counts for each year. We should also find out how many sentences do not have a year.\n",
        "\n",
        "---"
      ],
      "metadata": {
        "id": "s4muQaPtyHeQ"
      }
    },
    {
      "cell_type": "code",
      "execution_count": null,
      "metadata": {
        "id": "G7qlwd1eY7by"
      },
      "outputs": [],
      "source": [
        "import pandas as pd\n",
        "url = 'https://git.app.uib.no/desmedt/teaching/-/raw/main/ngb-years.tsv'\n",
        "\n",
        "# Alternative source\n",
        "# url = 'https://raw.githubusercontent.com/clarino/teaching/main/ngb-years.tsv'"
      ]
    },
    {
      "cell_type": "markdown",
      "source": [
        "We start by reading the table as a pandas dataframe. The separator is the tab character, there is no header, and we ignore comment lines.\n",
        "\n",
        "The column names are *sentences* and *year*. \n",
        "\n",
        "The datatype of the columns can be specified with `dtype`. Sentences are integers and years are strings. The latter is necessary because we have some rows with missing years; such missing values become `NaN` (not a number), also called `NA` (not available), which is incompatible with an integer array."
      ],
      "metadata": {
        "id": "kR1jTABUct05"
      }
    },
    {
      "cell_type": "code",
      "source": [
        "texts = pd.read_csv(url, sep='\\t', header=None, comment='#',\n",
        "                    names=['sentences', 'year'],\n",
        "                    dtype={'sentences': int, 'year': str})\n",
        "texts"
      ],
      "metadata": {
        "id": "K5k3H_b0ceJ2"
      },
      "execution_count": null,
      "outputs": []
    },
    {
      "cell_type": "markdown",
      "source": [
        "Show the first ten lines."
      ],
      "metadata": {
        "id": "J9IstC8P0MY5"
      }
    },
    {
      "cell_type": "code",
      "source": [
        "texts.head(10)"
      ],
      "metadata": {
        "id": "a0pGzloP0OlN"
      },
      "execution_count": null,
      "outputs": []
    },
    {
      "cell_type": "markdown",
      "source": [
        "\n",
        "Take all rows with missing values (NaN) for the *year* column."
      ],
      "metadata": {
        "id": "aYHnlcRbetqL"
      }
    },
    {
      "cell_type": "code",
      "source": [
        "no_year_texts = texts[texts['year'].isna()]\n",
        "no_year_texts"
      ],
      "metadata": {
        "id": "htQXUZ2LepDC"
      },
      "execution_count": null,
      "outputs": []
    },
    {
      "cell_type": "markdown",
      "source": [
        "Take all rows where the year is missing and compute the sum of the sentences."
      ],
      "metadata": {
        "id": "-M_cnh8cA-Z3"
      }
    },
    {
      "cell_type": "code",
      "source": [
        "no_year_texts['sentences'].sum()"
      ],
      "metadata": {
        "id": "R0udF025Akpy"
      },
      "execution_count": null,
      "outputs": []
    },
    {
      "cell_type": "markdown",
      "source": [
        "Group by year. At the same time, we drop the rows with NaN values. We could also keep the NaN values if we wanted. Display the counts in each group. Be careful: these numbers are *not the sums* of all sentence values for each year, but the *counts* of the sentence values in each group, in other words, the number of texts."
      ],
      "metadata": {
        "id": "Rf0cXXTTfDi3"
      }
    },
    {
      "cell_type": "code",
      "source": [
        "grouped = texts.groupby('year', dropna=True)\n",
        "grouped.count()"
      ],
      "metadata": {
        "id": "e5v2rLrofC5k"
      },
      "execution_count": null,
      "outputs": []
    },
    {
      "cell_type": "markdown",
      "source": [
        "We sum the values for the sentences in each group, producing a series with `year` as index and *sentences* as values. This is the information we wanted."
      ],
      "metadata": {
        "id": "dfn9L7s9gP6U"
      }
    },
    {
      "cell_type": "code",
      "source": [
        "sum_years = grouped.sum()\n",
        "sum_years"
      ],
      "metadata": {
        "id": "Ldick9p8gKOQ"
      },
      "execution_count": null,
      "outputs": []
    },
    {
      "cell_type": "markdown",
      "source": [
        "Make a bar plot. Some bars may be too small to be shown. There are no bars for years without sentences. "
      ],
      "metadata": {
        "id": "dqIxZNx0iGN-"
      }
    },
    {
      "cell_type": "code",
      "source": [
        "barplot = sum_years.plot.bar()"
      ],
      "metadata": {
        "id": "Etp9Z1RSiBko"
      },
      "execution_count": null,
      "outputs": []
    },
    {
      "cell_type": "markdown",
      "source": [
        "If desired, save the plot in a picture file. The dpi indicates the resolution and bbox_inches='tight' makes tight margins. Remember that files created in Colab are temporary, but can be downloaded during the session."
      ],
      "metadata": {
        "id": "UWw4_0lwji98"
      }
    },
    {
      "cell_type": "code",
      "source": [
        "pic = barplot.get_figure()\n",
        "pic.savefig('sentences-years', dpi=200, bbox_inches='tight')"
      ],
      "metadata": {
        "id": "uaYKEon8jPFK"
      },
      "execution_count": null,
      "outputs": []
    },
    {
      "cell_type": "markdown",
      "source": [
        "If desired, write the series to a CSV file. By default, the header is included and a column for the series index (the years) is also included."
      ],
      "metadata": {
        "id": "X-ewj0IItW01"
      }
    },
    {
      "cell_type": "code",
      "source": [
        "sum_years.to_csv('ngb-years.csv', sep=';')"
      ],
      "metadata": {
        "id": "RFQpN_-ttT2-"
      },
      "execution_count": null,
      "outputs": []
    },
    {
      "cell_type": "markdown",
      "source": [
        "Show the first ten lines of the file that was just written. This is an operating system command."
      ],
      "metadata": {
        "id": "eAbvRRnN_zTR"
      }
    },
    {
      "cell_type": "code",
      "source": [
        "!head ngb-years.csv"
      ],
      "metadata": {
        "id": "AOWCBs2w_x50"
      },
      "execution_count": null,
      "outputs": []
    },
    {
      "cell_type": "markdown",
      "source": [
        "## Exercises\n",
        "\n",
        "1.   Write code for getting the total number of sentences written in 1999 from `sum_years`.\n",
        "2.   Write code for writing out the minimal and maximal number of sentences in a `sum_years`.\n",
        "3.   Change `dropna` so as to keep the NaN values and see what happens when you do the sums and the plot.\n",
        "\n"
      ],
      "metadata": {
        "id": "B6uSxnI3hb-z"
      }
    }
  ]
}