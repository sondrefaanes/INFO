{
  "nbformat": 4,
  "nbformat_minor": 5,
  "metadata": {
    "kernelspec": {
      "display_name": "Python 3",
      "language": "python",
      "name": "python3"
    },
    "language_info": {
      "codemirror_mode": {
        "name": "ipython",
        "version": 3
      },
      "file_extension": ".py",
      "mimetype": "text/x-python",
      "name": "python",
      "nbconvert_exporter": "python",
      "pygments_lexer": "ipython3",
      "version": "3.9.4"
    },
    "colab": {
      "provenance": [],
      "collapsed_sections": [
        "2qtd-xGgVrze"
      ]
    }
  },
  "cells": [
    {
      "cell_type": "markdown",
      "metadata": {
        "id": "637cc60d"
      },
      "source": [
        "# Accessing the National Library of Norway\n",
        "\n",
        "## Part I: Concordances\n",
        "\n",
        "by Koenraad De Smedt at UiB\n",
        "(based on materials from the National Library)"
      ],
      "id": "637cc60d"
    },
    {
      "cell_type": "markdown",
      "metadata": {
        "id": "k4bCyKtiH2J1"
      },
      "source": [
        "---\n",
        "The National Library of Norway (Nasjonalbiblioteket, NB) offers access to its collections from Python or R. This notebook gives a few examples of how to make custom corpora and how to show KWIC-concordances (keyword in context). For more information, see [DH-lab at NB](https://dh.nb.no) (in Norwegian).\n",
        "\n",
        "---"
      ],
      "id": "k4bCyKtiH2J1"
    },
    {
      "cell_type": "markdown",
      "source": [
        "\n",
        "Some stuff needs to be installed and imported."
      ],
      "metadata": {
        "id": "K7mfcPe9TN4N"
      },
      "id": "K7mfcPe9TN4N"
    },
    {
      "cell_type": "code",
      "metadata": {
        "id": "BahVvUb9IP7_"
      },
      "source": [
        "!pip install dhlab"
      ],
      "execution_count": null,
      "outputs": [],
      "id": "BahVvUb9IP7_"
    },
    {
      "cell_type": "code",
      "source": [
        "import dhlab as dh\n",
        "#import dhlab.nbtext as nb"
      ],
      "metadata": {
        "id": "DVWmT6CHglEB"
      },
      "execution_count": null,
      "outputs": [],
      "id": "DVWmT6CHglEB"
    },
    {
      "cell_type": "markdown",
      "source": [
        "Make a small corpus based on a [Dewey code](https://en.wikipedia.org/wiki/List_of_Dewey_Decimal_classes#Class_900_%E2%80%93_History_and_geography) and a subject. The argument `ddk='9%'` means all Dewey codes starting with 9. The result is a corpus, which is a kind of dataframe."
      ],
      "metadata": {
        "id": "x0Wl1r7UhgDz"
      },
      "id": "x0Wl1r7UhgDz"
    },
    {
      "cell_type": "code",
      "source": [
        "fiske = dh.Corpus(ddk='9%', subject='fiske', limit=5)\n",
        "fiske"
      ],
      "metadata": {
        "id": "KMWcL6LzgZc3"
      },
      "execution_count": null,
      "outputs": [],
      "id": "KMWcL6LzgZc3"
    },
    {
      "cell_type": "markdown",
      "source": [
        "Make another small corpus, this time from an author's texts."
      ],
      "metadata": {
        "id": "WdX6FzdUhnAM"
      },
      "id": "WdX6FzdUhnAM"
    },
    {
      "cell_type": "code",
      "source": [
        "hjorth = dh.Corpus(author='Vigdis Hjorth', limit=5)\n",
        "hjorth"
      ],
      "metadata": {
        "id": "1coxY1D8gu6f"
      },
      "execution_count": null,
      "outputs": [],
      "id": "1coxY1D8gu6f"
    },
    {
      "cell_type": "markdown",
      "source": [
        "Make a small corpus based on type, a word occurring in the text, and period."
      ],
      "metadata": {
        "id": "W19zAtych8V2"
      },
      "id": "W19zAtych8V2"
    },
    {
      "cell_type": "code",
      "source": [
        "demokrati = dh.Corpus(doctype='digibok', fulltext='demokrati', from_year=1990, to_year=2000, limit=5)\n",
        "demokrati"
      ],
      "metadata": {
        "id": "0C4lRo1Rh2qw"
      },
      "execution_count": null,
      "outputs": [],
      "id": "0C4lRo1Rh2qw"
    },
    {
      "cell_type": "markdown",
      "source": [
        "Make a small corpus of newspapers in a period."
      ],
      "metadata": {
        "id": "-If_nKejiZC5"
      },
      "id": "-If_nKejiZC5"
    },
    {
      "cell_type": "code",
      "source": [
        "aviser = dh.Corpus(doctype='digavis', from_year=1990, limit=10)\n",
        "aviser"
      ],
      "metadata": {
        "id": "wBtwckthiQez"
      },
      "execution_count": null,
      "outputs": [],
      "id": "wBtwckthiQez"
    },
    {
      "cell_type": "code",
      "source": [
        "aviser.size"
      ],
      "metadata": {
        "id": "oCgOGbV5mFiP"
      },
      "execution_count": null,
      "outputs": [],
      "id": "oCgOGbV5mFiP"
    },
    {
      "cell_type": "markdown",
      "source": [
        "Take a sample of a corpus."
      ],
      "metadata": {
        "id": "rARqvQ0jmisF"
      },
      "id": "rARqvQ0jmisF"
    },
    {
      "cell_type": "code",
      "source": [
        "smp = aviser.corpus.sample(3)\n",
        "smp"
      ],
      "metadata": {
        "id": "NXvN39YOmNNJ"
      },
      "execution_count": null,
      "outputs": [],
      "id": "NXvN39YOmNNJ"
    },
    {
      "cell_type": "markdown",
      "source": [
        "Show a KWIC (keyword in context) based on a corpus."
      ],
      "metadata": {
        "id": "7yNwg5_EmcG1"
      },
      "id": "7yNwg5_EmcG1"
    },
    {
      "cell_type": "code",
      "source": [
        "dh.Concordance(corpus=smp, query='Stortinget').show()"
      ],
      "metadata": {
        "id": "3dMX_SRlikky"
      },
      "execution_count": null,
      "outputs": [],
      "id": "3dMX_SRlikky"
    },
    {
      "cell_type": "markdown",
      "source": [
        "A query with alternatives."
      ],
      "metadata": {
        "id": "HM5zlOTOnZJb"
      },
      "id": "HM5zlOTOnZJb"
    },
    {
      "cell_type": "code",
      "source": [
        "dh.Concordance(corpus=smp, query='skole OR skolen OR skule').show()"
      ],
      "metadata": {
        "id": "yTi1sTrxm8KQ"
      },
      "execution_count": null,
      "outputs": [],
      "id": "yTi1sTrxm8KQ"
    },
    {
      "cell_type": "markdown",
      "source": [
        "### Exercises\n",
        "\n",
        "1. Make your own corpus based on different keywords and a [Dewey code](https://en.wikipedia.org/wiki/List_of_Dewey_Decimal_classes). Make a concordance for one or more words in the corpus. "
      ],
      "metadata": {
        "id": "2qtd-xGgVrze"
      },
      "id": "2qtd-xGgVrze"
    }
  ]
}