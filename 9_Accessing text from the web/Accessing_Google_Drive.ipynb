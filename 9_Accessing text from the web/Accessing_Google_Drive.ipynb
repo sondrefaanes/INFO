{
  "nbformat": 4,
  "nbformat_minor": 0,
  "metadata": {
    "colab": {
      "provenance": []
    },
    "kernelspec": {
      "name": "python3",
      "display_name": "Python 3"
    },
    "language_info": {
      "name": "python"
    }
  },
  "cells": [
    {
      "cell_type": "markdown",
      "metadata": {
        "id": "DU5gipxAlHPM"
      },
      "source": [
        "# Accessing files on Google Drive from Colab\n",
        "\n",
        "by Koenraad De Smedt at UiB"
      ]
    },
    {
      "cell_type": "markdown",
      "metadata": {
        "id": "UOSIcZBalL8H"
      },
      "source": [
        "---\n",
        "\n",
        "If you use Colab to run this notebook, you can access your Google Drive to read or write data files. These files will be permanently on your Drive stored even after your session is terminated. \n",
        "\n",
        "This notebook shows how to:\n",
        "\n",
        "1.  Mount Google Drive so you can access your files stored on it\n",
        "2.  Write files to your Google Drive (or your computer’s storage)\n",
        "3.  Read files from your Google Drive (or your computer’s storage)\n",
        "\n",
        "If you use a different platform like Kaggle, Deepnote or Binder to run your notebook, consult the documentation of the alternative platform.\n",
        "\n",
        "If you want to access your local filesystem on your own machine, skip the mounting instructions, but `open` will work in the same way.\n",
        "\n",
        "---\n"
      ]
    },
    {
      "cell_type": "markdown",
      "source": [
        "## 0. Mounting Google Drive (skip if not using Google Drive)\n",
        "\n",
        "There are a couple of ways to connect your notebook to your Drive:\n",
        "\n",
        "1. Click on the folder icon in the left margin. If the Drive icon appears slashed, your Drive is mounted. Otherwise, click on the Mount Drive icon and follow instructions.\n",
        "\n",
        "<img src=\"https://git.app.uib.no/desmedt/teaching/-/raw/main/Mount%20Google%20Drive.png\" width=250px>\n",
        "\n",
        "2. Alternatively, if you execute the following cell, Google will ask for your authorization. Upon successful mount, the output will tell you that the volume is mounted."
      ],
      "metadata": {
        "id": "OGx3ZvRRrIoC"
      }
    },
    {
      "cell_type": "code",
      "metadata": {
        "id": "QyMfLiZNk4P8"
      },
      "source": [
        "# skip this cell if you are running Python locally\n",
        "from google.colab import drive\n",
        "drive.mount('/content/drive/')"
      ],
      "execution_count": null,
      "outputs": []
    },
    {
      "cell_type": "markdown",
      "metadata": {
        "id": "Mf8KbR6SpxBY"
      },
      "source": [
        "After the drive is mounted, files can be read or written using the path `drive/MyDrive/`. You can also access any subfolders that you have."
      ]
    },
    {
      "cell_type": "code",
      "source": [
        "# change this path to wherever you want to read or write files\n",
        "path = 'drive/MyDrive/Colab Notebooks/'"
      ],
      "metadata": {
        "id": "QnobHslt0u6n"
      },
      "execution_count": null,
      "outputs": []
    },
    {
      "cell_type": "markdown",
      "source": [
        "## 1. Writing a file\n",
        "\n",
        "Let's open a file for writing by giving the file path and name as the first argument to the `open` function and giving `'w'` (write) as the second argument. With the open file as `f`, we can now write to it within the indented block. After the indented block has been executed, the file is automatically closed.\n",
        "\n",
        "Write to a file with `.write()` or `print()`. Notice the difference in their use. The `print` function adds a newline, but `.write` does not."
      ],
      "metadata": {
        "id": "DHrOhvPgKzKr"
      }
    },
    {
      "cell_type": "code",
      "metadata": {
        "id": "ujuOwYamm4YD"
      },
      "source": [
        "rhyme = '''Mary had a little lamb,\n",
        "whose fleece was white as snow.\n",
        "And everywhere that Mary went,\n",
        "the lamb was sure to go.'''\n",
        "\n",
        "with open(path+'rhyme.txt', 'w') as f:\n",
        "  f.write('RHYME\\n')\n",
        "  # print('RHYME', file=f)\n",
        "  f.write(rhyme)"
      ],
      "execution_count": null,
      "outputs": []
    },
    {
      "cell_type": "markdown",
      "metadata": {
        "id": "EfZHxbJ7pqEU"
      },
      "source": [
        "In Colab, the new file can be found in the file browser on the left. If you are running this notebook on your own computer, you should see it in your file system."
      ]
    },
    {
      "cell_type": "markdown",
      "metadata": {
        "id": "_MoRkZ97q-qG"
      },
      "source": [
        "##2. Reading from a file\n",
        "\n",
        "Likewise, we can open a file for reading, which is the default. We don't need to worry about closing the file, because this is done automatically after the indented block under `with` has been executed."
      ]
    },
    {
      "cell_type": "code",
      "metadata": {
        "id": "MmgI_bt1rfRQ"
      },
      "source": [
        "with open(path+'rhyme.txt') as infile:\n",
        "  print(infile.read())"
      ],
      "execution_count": null,
      "outputs": []
    },
    {
      "cell_type": "markdown",
      "metadata": {
        "id": "0BRqblGUBw-Y"
      },
      "source": [
        "With a numeric argument, read reads only a limited number of characters."
      ]
    },
    {
      "cell_type": "code",
      "metadata": {
        "id": "waExSM3oB6E8"
      },
      "source": [
        "with open(path+'rhyme.txt') as infile:\n",
        "  print(infile.read(30).upper())"
      ],
      "execution_count": null,
      "outputs": []
    },
    {
      "cell_type": "markdown",
      "source": [
        "Read one line."
      ],
      "metadata": {
        "id": "P6SUP9xyiAe0"
      }
    },
    {
      "cell_type": "code",
      "source": [
        "with open(path+'rhyme.txt') as infile:\n",
        "  print(infile.readline())"
      ],
      "metadata": {
        "id": "jOd7wh3Gh8N6"
      },
      "execution_count": null,
      "outputs": []
    },
    {
      "cell_type": "markdown",
      "metadata": {
        "id": "Hu_Poq_R24g5"
      },
      "source": [
        "##3. Reading and writing in parallel\n",
        "\n",
        "It is possible to have several files open, for instance, for reading from one file and writing to another file. The use of `with` secures that files are closed at the end. Check the content of the new file in the file browser."
      ]
    },
    {
      "cell_type": "code",
      "metadata": {
        "id": "TdFQ4CqA2iUH"
      },
      "source": [
        "with open(path+'rhyme.txt') as infile, open(path+'rhymecasefold.txt', 'w') as outfile:\n",
        "  print(infile.read().casefold(), file=outfile)"
      ],
      "execution_count": null,
      "outputs": []
    },
    {
      "cell_type": "markdown",
      "metadata": {
        "id": "soDbNt-e3XI8"
      },
      "source": [
        "Files can also be read and written line by line. Use `strip()` to strip blanks, including newlines, from the beginning and end of each line.\n",
        "\n",
        "The following code first reads and displays the title line. Then all other lines are read and each is written, with its length, to an output file.  Check the content of the new file in the file browser."
      ]
    },
    {
      "cell_type": "code",
      "metadata": {
        "id": "0KeB1hqd3ijx"
      },
      "source": [
        "with open(path+'rhyme.txt') as infile, open(path+'rhymelines.txt', 'w') as outfile:\n",
        "  print(infile.readline())\n",
        "  for line in infile:\n",
        "    line = line.strip()\n",
        "    print(len(line), line, file=outfile)"
      ],
      "execution_count": null,
      "outputs": []
    },
    {
      "cell_type": "markdown",
      "source": [
        "##4. Appending to an existing file\n",
        "\n",
        "Finally, we can also add text to an existing file instead of overwriting the file."
      ],
      "metadata": {
        "id": "XiAUImy_jLsZ"
      }
    },
    {
      "cell_type": "code",
      "source": [
        "with open(path+'rhymelines.txt', 'a') as f:\n",
        "  f.write(' - The End')"
      ],
      "metadata": {
        "id": "TFlBVkQNjNvN"
      },
      "execution_count": null,
      "outputs": []
    },
    {
      "cell_type": "markdown",
      "source": [
        "Read the file."
      ],
      "metadata": {
        "id": "JZZBe94h_wY2"
      }
    },
    {
      "cell_type": "code",
      "source": [
        "with open(path+'rhymelines.txt') as f:\n",
        "  print(f.read())"
      ],
      "metadata": {
        "id": "Zlw9wdRK_pMx"
      },
      "execution_count": null,
      "outputs": []
    },
    {
      "cell_type": "markdown",
      "metadata": {
        "id": "LzxsDezeCunG"
      },
      "source": [
        "### Exercises\n",
        "\n",
        "1.   Write a file in which each line of the poem is printed backwards. Check the file afterwards.\n"
      ]
    }
  ]
}