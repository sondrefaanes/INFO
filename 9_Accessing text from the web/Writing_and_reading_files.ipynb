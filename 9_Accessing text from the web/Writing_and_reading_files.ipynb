{
  "nbformat": 4,
  "nbformat_minor": 0,
  "metadata": {
    "colab": {
      "provenance": []
    },
    "kernelspec": {
      "name": "python3",
      "display_name": "Python 3"
    },
    "language_info": {
      "name": "python"
    }
  },
  "cells": [
    {
      "cell_type": "markdown",
      "metadata": {
        "id": "C1QbA1M2NDj7"
      },
      "source": [
        "# Writing and reading files\n",
        "\n",
        "## and downloading and uploading in Colab\n",
        "\n",
        "by Koenraad De Smedt"
      ]
    },
    {
      "cell_type": "markdown",
      "metadata": {
        "id": "WEZZjCdPj5MZ"
      },
      "source": [
        "---\n",
        "\n",
        "This notebook shows how to:\n",
        "\n",
        "1.  Write and read files\n",
        "2.  Download temporary files from Colab to your computer\n",
        "3.  Upload temporary files from your computer to Colab\n",
        "\n",
        "If you run this notebook locally on your own computer, you can write and read files on your computer's file system.\n",
        "\n",
        "If you run this notebook in Colab, you can write and read temporary files in Colab's session storage, which will be deleted when your session is terminated. However, during your session you can also download and upload files between your own computer and Colab.\n",
        "\n",
        "---"
      ]
    },
    {
      "cell_type": "markdown",
      "metadata": {
        "id": "In18IBWPRx-d"
      },
      "source": [
        "## 0. Basic writing and reading\n",
        "\n",
        "Let's open a file for writing (`'w'`) and write a string to it. The file will be automatically closed afterwards."
      ]
    },
    {
      "cell_type": "code",
      "metadata": {
        "id": "qcArtsQPR8a_"
      },
      "source": [
        "with open('example.txt', 'w') as f:\n",
        "  f.write('BERGEN?')"
      ],
      "execution_count": null,
      "outputs": []
    },
    {
      "cell_type": "markdown",
      "metadata": {
        "id": "vugWXWnxP2fq"
      },
      "source": [
        "If you are running this file on Colab, you will see the new file in your Colab folder for temporary session storage (click on Files icon at the left)\n",
        "\n",
        "If you are running this file locally, you will see this file on your file system in your current working directory (or wherever you chose to write it, such as `'folder/example.txt'`)."
      ]
    },
    {
      "cell_type": "markdown",
      "source": [
        "Let's read the file that was just written. When opening a file, the default is read mode (`'r'`). The file contents are read as one string. We can then do whatever we like with that string."
      ],
      "metadata": {
        "id": "5CFGoO8YnnC5"
      }
    },
    {
      "cell_type": "code",
      "metadata": {
        "id": "w21euwFKPyLk"
      },
      "source": [
        "with open('example.txt') as f:\n",
        "  content = f.read()\n",
        "  print(content)"
      ],
      "execution_count": null,
      "outputs": []
    },
    {
      "cell_type": "markdown",
      "source": [
        "One can also append (`'a'`) text to the end of an existing file. This example also demonstrates another way of writing to a file."
      ],
      "metadata": {
        "id": "fvrr1kf2p_i9"
      }
    },
    {
      "cell_type": "code",
      "source": [
        "with open('example.txt', 'a') as f:\n",
        "  print(' BERGEN!', file=f)\n",
        "  print('... og ikke Tromsø.', file=f)"
      ],
      "metadata": {
        "id": "VAkgv_yep4Rl"
      },
      "execution_count": null,
      "outputs": []
    },
    {
      "cell_type": "markdown",
      "source": [
        "Read again. Notice that `.write` did not add a newline, but `print` does."
      ],
      "metadata": {
        "id": "vjaotaQyrmGk"
      }
    },
    {
      "cell_type": "code",
      "source": [
        "with open('example.txt') as f:\n",
        "  content = f.read()\n",
        "  print(content)"
      ],
      "metadata": {
        "id": "KlapwSyUrHwo"
      },
      "execution_count": null,
      "outputs": []
    },
    {
      "cell_type": "markdown",
      "source": [
        "## 1. Reading parts of a file\n",
        "\n",
        "We can limit reading to a number of characters."
      ],
      "metadata": {
        "id": "0tIKOalM60Et"
      }
    },
    {
      "cell_type": "code",
      "source": [
        "with open('example.txt') as f:\n",
        "  content = f.read(10)\n",
        "  print(content)"
      ],
      "metadata": {
        "id": "-w--izta6mPH"
      },
      "execution_count": null,
      "outputs": []
    },
    {
      "cell_type": "markdown",
      "source": [
        "Read a single line."
      ],
      "metadata": {
        "id": "DktozYUl7X7a"
      }
    },
    {
      "cell_type": "code",
      "source": [
        "with open('example.txt') as f:\n",
        "  line = f.readline()\n",
        "  print(line)"
      ],
      "metadata": {
        "id": "_P1zfzdR7PAq"
      },
      "execution_count": null,
      "outputs": []
    },
    {
      "cell_type": "markdown",
      "source": [
        "Read the file, line by line, strip the line (removing blanks including newline from the beginning and end) and print the line with its length. Check what happens if you omit `.strip()`"
      ],
      "metadata": {
        "id": "Bk8-Hk9H7-10"
      }
    },
    {
      "cell_type": "code",
      "source": [
        "with open('example.txt') as f:\n",
        "  for line in f:\n",
        "    line = line.strip()\n",
        "    print(len(line), line)"
      ],
      "metadata": {
        "id": "AENlSOzU7kIv"
      },
      "execution_count": null,
      "outputs": []
    },
    {
      "cell_type": "markdown",
      "source": [
        "Note: You can open a file without `with`, but this is not recommended. The use of `with` ensures that open files get closed."
      ],
      "metadata": {
        "id": "Lnur_8KM9uMb"
      }
    },
    {
      "cell_type": "markdown",
      "metadata": {
        "id": "B9geoIHSMvXP"
      },
      "source": [
        "## 2. File encodings\n",
        "\n",
        "Python3 uses the UTF-8 encoding by default for reading and writing. If you are not sure about the encoding of a file, Python can guess the encoding as follows, for instance. However, Python's guess is not always reliable. "
      ]
    },
    {
      "cell_type": "code",
      "source": [
        "with open('example.txt') as f:\n",
        "  print(f.encoding)"
      ],
      "metadata": {
        "id": "FrzVsM5qY-Uu"
      },
      "execution_count": null,
      "outputs": []
    },
    {
      "cell_type": "markdown",
      "source": [
        "Suppose you want to read a file with a different encoding, then you must specify the encoding explicitly, as in the following example. If the encoding is wrong, the characters may not be displayed correctly."
      ],
      "metadata": {
        "id": "_KCsHbmBuwzw"
      }
    },
    {
      "cell_type": "code",
      "source": [
        "with open('example.txt', encoding='Windows-1252') as f:\n",
        "  content = f.read()\n",
        "  print(content)"
      ],
      "metadata": {
        "id": "wKbDKHPturlp"
      },
      "execution_count": null,
      "outputs": []
    },
    {
      "cell_type": "markdown",
      "source": [
        "## 3. Download and upload (Colab)\n",
        "\n",
        "If you wish to download files from Colab session storage to your own computer, or upload to Colab from your computer, use the interface in the Files browser on the left. Alternatively, you can use the following for download."
      ],
      "metadata": {
        "id": "bCl5BVYNfCld"
      }
    },
    {
      "cell_type": "code",
      "metadata": {
        "id": "NwPYPjlUm-9q"
      },
      "source": [
        "from google.colab import files"
      ],
      "execution_count": null,
      "outputs": []
    },
    {
      "cell_type": "markdown",
      "source": [
        "Download the file that was just written. The file will be saved in your download folder on your computer."
      ],
      "metadata": {
        "id": "dC6T-2n7f5On"
      }
    },
    {
      "cell_type": "code",
      "metadata": {
        "id": "DQpL-deJnzh_"
      },
      "source": [
        "files.download('example.txt')"
      ],
      "execution_count": null,
      "outputs": []
    },
    {
      "cell_type": "markdown",
      "source": [
        "## Exercises\n",
        "\n",
        "1.  Open a file for writing and write something to it. Then read the contents of the file, casefold it and print."
      ],
      "metadata": {
        "id": "IJFynw2nE6j9"
      }
    }
  ]
}