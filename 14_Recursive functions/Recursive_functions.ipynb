{
  "nbformat": 4,
  "nbformat_minor": 0,
  "metadata": {
    "colab": {
      "provenance": []
    },
    "kernelspec": {
      "name": "python3",
      "display_name": "Python 3"
    },
    "language_info": {
      "name": "python"
    }
  },
  "cells": [
    {
      "cell_type": "markdown",
      "source": [
        "# Recursive functions and `assert`\n",
        "\n",
        "by Koenraad De Smedt at UiB"
      ],
      "metadata": {
        "id": "GxBqFIUDfqHe"
      }
    },
    {
      "cell_type": "markdown",
      "source": [
        "---\n",
        "A function is *recursive* when it calls itself. This notebook shows how to:\n",
        "\n",
        "1.  Define and use recursive functions\n",
        "2.  Make sure the recursion stops\n",
        "3.  Check variables with `assert`.\n",
        "\n",
        "---"
      ],
      "metadata": {
        "id": "ePyUPHE0gKZz"
      }
    },
    {
      "cell_type": "markdown",
      "source": [
        "The following is a simple example of a function that writes out numbers from *m* to (but not including) *n*. If *m* is equal to *n*, the function stops. Otherwise *m* is printed and the function calls itself with increasing *m*. This goes on until *m* is equal to *n*."
      ],
      "metadata": {
        "id": "LmlztcbEvKW7"
      }
    },
    {
      "cell_type": "code",
      "execution_count": null,
      "metadata": {
        "id": "KiKUUx5SfoYj"
      },
      "outputs": [],
      "source": [
        "def count_from_to (m, n):\n",
        "  if m != n:\n",
        "    print(m)\n",
        "    count_from_to (m + 1, n)\n",
        "\n",
        "count_from_to(4, 10)"
      ]
    },
    {
      "cell_type": "markdown",
      "source": [
        "It is of course important to make sure that the recursion will stop and will not go on [endlessly](https://www.flickr.com/photos/wallyg/4015099153). In the above definition, endless recursion is a risk because there is nothing to prevent *m* being bigger than *n*, in which case *m* will increase infinitely because it can never be equal to *n*.\n",
        "\n",
        "There are several possible solutions to secure the function. One possibility is the use of `assert`, which performs a check that must be met."
      ],
      "metadata": {
        "id": "Xs8PNQ1vgr1W"
      }
    },
    {
      "cell_type": "code",
      "source": [
        "def count_from_to (m, n):\n",
        "  assert m <= n\n",
        "  if m != n:\n",
        "    print(m)\n",
        "    count_from_to (m + 1, n)\n",
        "\n",
        "count_from_to(4, 10)"
      ],
      "metadata": {
        "id": "WRABDB-zgrT2"
      },
      "execution_count": null,
      "outputs": []
    },
    {
      "cell_type": "markdown",
      "source": [
        "If the `assert` condition is false, the function stops with an error."
      ],
      "metadata": {
        "id": "FS9mdq6UZstU"
      }
    },
    {
      "cell_type": "code",
      "source": [
        "count_from_to(10, 4)"
      ],
      "metadata": {
        "id": "i050jpwhicr7"
      },
      "execution_count": null,
      "outputs": []
    },
    {
      "cell_type": "markdown",
      "source": [
        "The above recursive functions print values, but do not return any result. Recursive functions that return values can be used to accumulate results, as in the following example, which sums up the numbers from *m* to *n* (inclusive)."
      ],
      "metadata": {
        "id": "5l-Ive5yL4zW"
      }
    },
    {
      "cell_type": "code",
      "source": [
        "def arithmetic_series (m, n):\n",
        "  assert m <= n\n",
        "  if m == n:\n",
        "    return n\n",
        "  else:\n",
        "    return m + arithmetic_series(m + 1, n)\n",
        "\n",
        "arithmetic_series (1, 4)"
      ],
      "metadata": {
        "id": "QCH8Nh4ZMYFn"
      },
      "execution_count": null,
      "outputs": []
    },
    {
      "cell_type": "markdown",
      "source": [
        "Recursion can be traced by printing values when entering and exiting function calls. This shows that our function builds upon the result of its recursive calls."
      ],
      "metadata": {
        "id": "VDyV11dqzCQ-"
      }
    },
    {
      "cell_type": "code",
      "source": [
        "def arithmetic_series (m, n):\n",
        "  assert m <= n\n",
        "  print(f'm is {m}')\n",
        "  if m == n:\n",
        "    return n\n",
        "  else:\n",
        "    p = arithmetic_series(m + 1, n)\n",
        "    print(f'm + p is {m} + {p} = {m + p}')\n",
        "    return m + p\n",
        "\n",
        "arithmetic_series (1, 4)"
      ],
      "metadata": {
        "id": "rOzs9XLxxQch"
      },
      "execution_count": null,
      "outputs": []
    },
    {
      "cell_type": "markdown",
      "source": [
        "### Exercises\n",
        "\n",
        "1.  There is another simple way in which the function `count_from_to` can stop if *m* is bigger than *n*, but without signalling an error. Try it.\n",
        "2.  A third way to handle unsuitable arguments is to add a condition and print a message. Try it.\n",
        "3.  Define a recursive function char_searches with two arguments, a sequence of characters and a string. The function should return True if all characters in the sequence are present in the string (not necessarily in order), otherwise False. The function should test if the first character is present, and if yes, should perform recursion with the remaining characters. Use the following as a starting point and as tests."
      ],
      "metadata": {
        "id": "eY_qyK3Bqlc0"
      }
    },
    {
      "cell_type": "code",
      "source": [
        "def char_searches (chars, s):\n",
        "  'All chars should be present in s'\n",
        "  if len(chars) == 0:\n",
        "    return True\n",
        "  elif ... in ...:\n",
        "    return ...\n",
        "  else:\n",
        "    return False\n",
        "\n",
        "print(char_searches('', 'toast')) # should give True\n",
        "\n",
        "print(char_searches('ao', 'toast')) # should give True\n",
        "print(char_searches(['a', 'o'], 'toast')) # should give True\n",
        "\n",
        "print(char_searches('it', 'toast')) # should give False\n",
        "print(char_searches('oi', 'toast')) # should give False"
      ],
      "metadata": {
        "id": "WTy3LnN8XgFk"
      },
      "execution_count": null,
      "outputs": []
    }
  ]
}