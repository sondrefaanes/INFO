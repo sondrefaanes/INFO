{
  "nbformat": 4,
  "nbformat_minor": 0,
  "metadata": {
    "colab": {
      "provenance": []
    },
    "kernelspec": {
      "name": "python3",
      "display_name": "Python 3"
    },
    "language_info": {
      "name": "python"
    }
  },
  "cells": [
    {
      "cell_type": "markdown",
      "source": [
        "# Levenshtein distance as a recursive function\n",
        "\n",
        "by Koenraad De Smedt at UiB"
      ],
      "metadata": {
        "id": "GxBqFIUDfqHe"
      }
    },
    {
      "cell_type": "markdown",
      "source": [
        "---\n",
        "Read ➜ Jurafsky & Martin. *Speech and Language Processing*, 3rd ed. [Ch. 2: Regular Expressions, Text Normalization, Edit Distance](https://web.stanford.edu/~jurafsky/slp3/2.pdf)\n",
        "\n",
        "For spelling correction and other applications, it may be useful to compute how similar or different two strings are. One string distance measure is *edit distance*, in particular *Levenshtein* distance. The idea is to compute the cost of editing one string into another by deleting (*d*), inserting (*i*) or substituting (*s*) letters. The minimum edit distance, i.e. the lowest cost of editing one string into the other, determines string similarity. Here is an example from the book.\n",
        "\n",
        ">```\n",
        "I N T E * N T I O N\n",
        "| | | | | | | | | |\n",
        "* E X E C U T I O N\n",
        "d s s   i s\n",
        "```\n",
        "\n",
        "Many possible combinations of editing steps can be tried out, but the minimum editing distance for these strings turns out to be 5.\n",
        "\n",
        ">```\n",
        "I N T E N * T I O N\n",
        "| | | | | | | | | |\n",
        "E * X E C U T I O N\n",
        "s d s   s i\n",
        "```\n",
        "\n",
        "The book describes a fairly complex algorithm for computing the Levenshtein distance by creating a matrix. The present notebook takes a simpler, more elegant approach. It shows how to:\n",
        "\n",
        "1.  Write a recursive function for the Levenshtein distance, inspired by [an example on Rosettacode](http://rosettacode.org/wiki/Levenshtein_distance#Memoized_recursion).\n",
        "\n",
        "2.  Optimize execution by remembering earlier partial results.\n",
        "\n",
        "---"
      ],
      "metadata": {
        "id": "ePyUPHE0gKZz"
      }
    },
    {
      "cell_type": "markdown",
      "source": [
        "If one of the strings is empty, return the length of the other string. If the first character of each string is the same, compute the distance of the remainders of the strings. Otherwise, try recursion with insertion, substitution or deletion and return the minimal cost of those three with the `min` function."
      ],
      "metadata": {
        "id": "ZmlqNvVUu5iQ"
      }
    },
    {
      "cell_type": "code",
      "execution_count": null,
      "metadata": {
        "id": "KiKUUx5SfoYj"
      },
      "outputs": [],
      "source": [
        "def ld(s, t):\n",
        "  if not s: return len(t)\n",
        "  if not t: return len(s)\n",
        "  if s[0] == t[0]: return ld(s[1:], t[1:])\n",
        "  lins = ld(s, t[1:]) +1\n",
        "  lsub = ld(s[1:], t[1:]) +1\n",
        "  ldel = ld(s[1:], t) +1\n",
        "  return min(lins, lsub, ldel)"
      ]
    },
    {
      "cell_type": "markdown",
      "source": [
        "Let's test."
      ],
      "metadata": {
        "id": "Xs8PNQ1vgr1W"
      }
    },
    {
      "cell_type": "code",
      "source": [
        "ld(\"graf\", \"giraffe\")"
      ],
      "metadata": {
        "id": "WRABDB-zgrT2"
      },
      "execution_count": null,
      "outputs": []
    },
    {
      "cell_type": "markdown",
      "source": [
        "This program is inefficient because it repeats a lot of computations in search of the minimum. The excessive time and memory consumption becomes apparent when comparing large strings. In the worst case, you can get a stack overflow.\n",
        "\n",
        "The use of `@lru_cache` from the `functools` module optimizes the execution by remembering earlier results (called “caching” or “memoizing”)."
      ],
      "metadata": {
        "id": "AMjwEVFyg1Bs"
      }
    },
    {
      "cell_type": "code",
      "source": [
        "from functools import lru_cache\n",
        "\n",
        "@lru_cache(maxsize=4095)\n",
        "def ld(s, t):\n",
        "  # check if s or t is empty\n",
        "  if not s: return len(t)\n",
        "  if not t: return len(s)\n",
        "  # check if first characters are the same: recursion at no cost\n",
        "  if s[0] == t[0]: return ld(s[1:], t[1:])\n",
        "  # try recursion with insertion, substitution and deletion, adding a cost\n",
        "  lins = ld(s, t[1:]) +1\n",
        "  lsub = ld(s[1:], t[1:]) +1\n",
        "  ldel = ld(s[1:], t) +1\n",
        "  # return the recursive result with the lowest cost\n",
        "  return min(lins, lsub, ldel)"
      ],
      "metadata": {
        "id": "amfZggeuqhn-"
      },
      "execution_count": null,
      "outputs": []
    },
    {
      "cell_type": "markdown",
      "source": [
        "More testing."
      ],
      "metadata": {
        "id": "kPTenp2tq1JL"
      }
    },
    {
      "cell_type": "code",
      "source": [
        "ld(\"intention\", \"execution\")"
      ],
      "metadata": {
        "id": "Y82EQD5Aq246"
      },
      "execution_count": null,
      "outputs": []
    },
    {
      "cell_type": "markdown",
      "source": [
        "### Exercises\n",
        "\n",
        "- This program uses the same cost of 1 for all edits. One could argue that a substitution is a combination of a deletion and an insertion, so it should be more costly. Change the program so that a substition has a cost of 2 and test."
      ],
      "metadata": {
        "id": "eY_qyK3Bqlc0"
      }
    },
    {
      "cell_type": "markdown",
      "source": [
        "## Note\n",
        "\n",
        "There are other approaches to spelling errors that take into account the context of letters, keyboard layout, sound similarity, or [different possible error sources](https://aclanthology.org/A88-1011/)."
      ],
      "metadata": {
        "id": "Qrpg4HRTqdeq"
      }
    }
  ]
}