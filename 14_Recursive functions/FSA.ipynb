{
  "nbformat": 4,
  "nbformat_minor": 5,
  "metadata": {
    "kernelspec": {
      "display_name": "Python 3",
      "language": "python",
      "name": "python3"
    },
    "language_info": {
      "codemirror_mode": {
        "name": "ipython",
        "version": 3
      },
      "file_extension": ".py",
      "mimetype": "text/x-python",
      "name": "python",
      "nbconvert_exporter": "python",
      "pygments_lexer": "ipython3",
      "version": "3.9.4"
    },
    "colab": {
      "provenance": [],
      "collapsed_sections": [
        "2qtd-xGgVrze"
      ]
    }
  },
  "cells": [
    {
      "cell_type": "markdown",
      "metadata": {
        "id": "637cc60d"
      },
      "source": [
        "# Finite state automata\n",
        "\n",
        "by Koenraad De Smedt at UiB"
      ],
      "id": "637cc60d"
    },
    {
      "cell_type": "markdown",
      "metadata": {
        "id": "k4bCyKtiH2J1"
      },
      "source": [
        "---\n",
        "A *finite state automaton* (FSA) is a formal computational device that recognizes strings belonging to a formal language. The descriptive capacity is equivalent to that of regular expressions. See also the page about FSA in the LING123 modules.\n",
        "\n",
        "This notebook presents simple Python programs that accept strings according to a\n",
        "\n",
        "1.   deterministic FSA\n",
        "2.   non-deterministic FSA\n",
        "\n",
        "Its purpose is to show step by step how an FSA works.\n",
        "\n",
        "---"
      ],
      "id": "k4bCyKtiH2J1"
    },
    {
      "cell_type": "markdown",
      "source": [
        "## 1. Deterministic FSA\n",
        "\n",
        "Consider a simple deterministic finite state automaton that recognizes the language `a+b?`\n",
        "\n",
        "<img src=\"https://git.app.uib.no/desmedt/teaching/-/raw/main/dfsa-ab.png\" alt = \"dfsa\" width = 450px>\n",
        "\n",
        "Symbols that are input to an FSA can be represented as characters in a string. Transitions can be represented in a dict. With every state in that dict, we associate another dict: every symbol that can be read from that state has the new state for that symbol.\n",
        "Also states without any departing transitions must be in the dict."
      ],
      "metadata": {
        "id": "pNMnTjRYTY6T"
      },
      "id": "pNMnTjRYTY6T"
    },
    {
      "cell_type": "code",
      "source": [
        "dfsa1 = {'q0': {'a':'q1',},\n",
        "         'q1': {'a':'q1','b':'q2'},\n",
        "         'q2': {}}"
      ],
      "metadata": {
        "id": "tg-uQATPUKjX"
      },
      "id": "tg-uQATPUKjX",
      "execution_count": null,
      "outputs": []
    },
    {
      "cell_type": "markdown",
      "source": [
        "Here is a function that attempts to accept a string given a deterministic FSA. As arguments, the function takes a string of symbols, a dict with transitions, an initial state and a set of final states.\n",
        "\n",
        "During computation, the function prints out every symbol that is read from the input string, as well as the new state, if any. If no transition is found, the function returns `False`. When all symbols are read, the result is `TRUE` if a final state is reached, `FALSE` otherwise."
      ],
      "metadata": {
        "id": "u71V2N_PUmM4"
      },
      "id": "u71V2N_PUmM4"
    },
    {
      "cell_type": "code",
      "source": [
        "def accepts(s, trans, state, final):\n",
        "  print('Initial state is', state)\n",
        "  for c in s:\n",
        "    print('Reading', c)\n",
        "    state = trans[state].get(c)\n",
        "    if state:\n",
        "      print('- moving to state', state)\n",
        "    else:\n",
        "      print('- no new state found')\n",
        "      return False\n",
        "  return state in final"
      ],
      "metadata": {
        "id": "tupcEj4iUh2m"
      },
      "id": "tupcEj4iUh2m",
      "execution_count": null,
      "outputs": []
    },
    {
      "cell_type": "markdown",
      "source": [
        "Call the function with a string of symbols, a transition dict, an initial state and a set of final states. Here are some tests."
      ],
      "metadata": {
        "id": "ihsNU2J1UwEG"
      },
      "id": "ihsNU2J1UwEG"
    },
    {
      "cell_type": "code",
      "source": [
        "accepts('aa', dfsa1, 'q0', {'q1','q2'})"
      ],
      "metadata": {
        "id": "HhQoQRgVU30g"
      },
      "id": "HhQoQRgVU30g",
      "execution_count": null,
      "outputs": []
    },
    {
      "cell_type": "code",
      "source": [
        "accepts('aaab', dfsa1, 'q0', {'q1','q2'})"
      ],
      "metadata": {
        "id": "XqWUTN2JUvhV"
      },
      "id": "XqWUTN2JUvhV",
      "execution_count": null,
      "outputs": []
    },
    {
      "cell_type": "code",
      "source": [
        "accepts('aba', dfsa1, 'q0', {'q1','q2'})"
      ],
      "metadata": {
        "id": "rOfYJYlhU4q0"
      },
      "id": "rOfYJYlhU4q0",
      "execution_count": null,
      "outputs": []
    },
    {
      "cell_type": "code",
      "source": [
        "accepts('b', dfsa1, 'q0', {'q1','q2'})"
      ],
      "metadata": {
        "id": "pXjdYMFw2ihd"
      },
      "id": "pXjdYMFw2ihd",
      "execution_count": null,
      "outputs": []
    },
    {
      "cell_type": "markdown",
      "source": [
        "The following is my recursive solution, which I personally consider more elegant. You can do the same tests as above."
      ],
      "metadata": {
        "id": "x9_0vPolWbVI"
      },
      "id": "x9_0vPolWbVI"
    },
    {
      "cell_type": "code",
      "source": [
        "def accepts (s, trans, state, final):\n",
        "  if not state:\n",
        "    return False\n",
        "  print('State is', state, '- string is', s)\n",
        "  if not s:\n",
        "    return state in final\n",
        "  else:\n",
        "    return accepts(s[1:], trans, trans[state].get(s[0]), final)"
      ],
      "metadata": {
        "id": "u-N95a_PWBWX"
      },
      "id": "u-N95a_PWBWX",
      "execution_count": null,
      "outputs": []
    },
    {
      "cell_type": "markdown",
      "source": [
        "## 2. Non-deterministic FSA\n",
        "\n",
        "Consider the following non-deterministic variant for the same language.\n",
        "\n",
        "<img src=\"https://git.app.uib.no/desmedt/teaching/-/raw/main/nfsa-ab.png\" alt = \"nfsa-ab\" width = 450px>\n",
        "\n",
        "From a state, several transitions with the same symbol can depart. From *q0* in this automaton, reading symbol *a* gives two new nodes, *q0* and *q1*. In the dict, we will therefore require that with each symbol, a *list* of new states will be associated."
      ],
      "metadata": {
        "id": "sSOCULC0yuY1"
      },
      "id": "sSOCULC0yuY1"
    },
    {
      "cell_type": "code",
      "source": [
        "nfsa1 = {'q0': {'a':['q1', 'q0']},\n",
        "         'q1': {'b':['q2']},\n",
        "         'q2': {}}"
      ],
      "metadata": {
        "id": "6lAjEbND1hSK"
      },
      "id": "6lAjEbND1hSK",
      "execution_count": null,
      "outputs": []
    },
    {
      "cell_type": "markdown",
      "source": [
        "With such non-determinism, we cannot simply proceed from one state to the next. Instead, we need to try moving from several states onwards.\n",
        "\n",
        "Therefore we need not only a recursion over the string of symbols, but also a recursion over a list of states. Make a new recursive function `accepts_l` that takes a list of states instead of a single state for its third parameter.\n",
        "\n",
        "Then redefine `accepts` so that it puts the initial state in a list when it calls `accepts_l`."
      ],
      "metadata": {
        "id": "oH0OLcjh1iou"
      },
      "id": "oH0OLcjh1iou"
    },
    {
      "cell_type": "code",
      "source": [
        "def accepts_l (s, trans, states, final):\n",
        "  if not states:\n",
        "    return False\n",
        "  print('States are', states, '- string is', s)\n",
        "  if not s:\n",
        "    return set(states) & final # intersection non-empty?\n",
        "  else:\n",
        "    return (accepts_l (s[1:], trans, trans[states[0]].get(s[0]), final)\n",
        "            or accepts_l (s, trans, states[1:], final))\n",
        "\n",
        "def accepts (s, trans, state, final):\n",
        "  return accepts_l(s, trans, [state], final)"
      ],
      "metadata": {
        "id": "MtIblyFE1yin"
      },
      "id": "MtIblyFE1yin",
      "execution_count": null,
      "outputs": []
    },
    {
      "cell_type": "markdown",
      "source": [
        "The new `accepts` function can be used in the same way as the old one, except that we give it a FSA in the new format which is potentially non-deterministic. The result, if not False, will consist of the current nodes which are also final states."
      ],
      "metadata": {
        "id": "GWs2UgwD2Z7c"
      },
      "id": "GWs2UgwD2Z7c"
    },
    {
      "cell_type": "code",
      "source": [
        "accepts('aa', nfsa1, 'q0', {'q1', 'q2'})"
      ],
      "metadata": {
        "id": "gtgUD5uZ2ciX"
      },
      "id": "gtgUD5uZ2ciX",
      "execution_count": null,
      "outputs": []
    },
    {
      "cell_type": "code",
      "source": [
        "accepts('aaab', nfsa1, 'q0', {'q1', 'q2'})"
      ],
      "metadata": {
        "id": "xG9o8LZD2mll"
      },
      "id": "xG9o8LZD2mll",
      "execution_count": null,
      "outputs": []
    },
    {
      "cell_type": "code",
      "source": [
        "accepts('aba', nfsa1, 'q0', {'q1', 'q2'})"
      ],
      "metadata": {
        "id": "jeXyWEOv2vXl"
      },
      "id": "jeXyWEOv2vXl",
      "execution_count": null,
      "outputs": []
    },
    {
      "cell_type": "code",
      "source": [
        "accepts('b', nfsa1, 'q0', {'q1', 'q2'})"
      ],
      "metadata": {
        "id": "FYoI7_Uc2xPs"
      },
      "id": "FYoI7_Uc2xPs",
      "execution_count": null,
      "outputs": []
    },
    {
      "cell_type": "markdown",
      "source": [
        "### Exercises\n",
        "\n",
        "1.  Write a deterministic FSA for the regexp `a+[bc]+` and test acceptance of several strings.\n",
        "2.  Extend the non-deterministic FSA to `a+b+` by adding a loop with *b* at *q1*, which causes additional non-determinism. Perform tests.\n",
        "3.  (optional) Write a program that converts a representation of transitions as shown in \"1. Deterministic FSA\" to the format shown in \"2. Non-deterministic FSA\"."
      ],
      "metadata": {
        "id": "2qtd-xGgVrze"
      },
      "id": "2qtd-xGgVrze"
    }
  ]
}