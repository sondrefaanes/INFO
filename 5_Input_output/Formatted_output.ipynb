{
  "nbformat": 4,
  "nbformat_minor": 0,
  "metadata": {
    "colab": {
      "provenance": []
    },
    "kernelspec": {
      "name": "python3",
      "display_name": "Python 3"
    },
    "language_info": {
      "name": "python"
    }
  },
  "cells": [
    {
      "cell_type": "markdown",
      "metadata": {
        "id": "jId2Pst6ok_R"
      },
      "source": [
        "# Formatted output\n",
        "\n",
        "by Koenraad De Smedt at UiB"
      ]
    },
    {
      "cell_type": "markdown",
      "metadata": {
        "id": "4AibI1P5pIVa"
      },
      "source": [
        "---\n",
        "This notebook presents a few ways to write output to the default output (normally the screen). There are various way to control the format of the output. This notebook also shows some uses of the splat `*` for unpacking the elements of a sequence.\n",
        "\n",
        "---"
      ]
    },
    {
      "cell_type": "markdown",
      "source": [
        "As previously demonstrated, the `print` function writes out all its arguments with spaces in between and puts a newline at the end. Here is another example."
      ],
      "metadata": {
        "id": "nFysyAXT511p"
      }
    },
    {
      "cell_type": "code",
      "source": [
        "def mean_value (l):\n",
        "  return sum(l) / len(l)\n",
        "\n",
        "v = [4, 2, 3, 1.5, 5, 4, 0]\n",
        "\n",
        "print('The mean of', v, 'is', mean_value(v))"
      ],
      "metadata": {
        "id": "eCmB1pew0C2N"
      },
      "execution_count": null,
      "outputs": []
    },
    {
      "cell_type": "markdown",
      "source": [
        "It is possible to *unpack* the elements in the list with the unpack operator `*` (also called splat).\n",
        "\n",
        "Note: unpack and multiplication are both written as a `*` but are used in different contexts."
      ],
      "metadata": {
        "id": "YdXMlt7Q8YwP"
      }
    },
    {
      "cell_type": "code",
      "source": [
        "print('The mean of', *v, 'is', mean_value(v))"
      ],
      "metadata": {
        "id": "I3uR4fTh8Rgc"
      },
      "execution_count": null,
      "outputs": []
    },
    {
      "cell_type": "markdown",
      "source": [
        "The default output separator between arguments of `print` is a space, but optionally, a different separator can be given."
      ],
      "metadata": {
        "id": "KpQ8ZmQd-42l"
      }
    },
    {
      "cell_type": "code",
      "source": [
        "print(*v, sep=' and ')"
      ],
      "metadata": {
        "id": "M24xH0fxkcDE"
      },
      "execution_count": null,
      "outputs": []
    },
    {
      "cell_type": "markdown",
      "source": [
        "Unpacking also works for a string."
      ],
      "metadata": {
        "id": "HtXenp3K8hsF"
      }
    },
    {
      "cell_type": "code",
      "source": [
        "print(*'abcde', sep=', ')"
      ],
      "metadata": {
        "id": "-L2mnrTJ8kbN"
      },
      "execution_count": null,
      "outputs": []
    },
    {
      "cell_type": "markdown",
      "source": [
        "\n",
        "Python has several other ways to give you more control over the format of the output. One way is the use of formatted strings (or *f-strings*). Inside an f-string, computed values can be inserted between braces  `{ }`. In addition, the number of decimals in floating point numbers can be indicated."
      ],
      "metadata": {
        "id": "kgx_BKxY34Ev"
      }
    },
    {
      "cell_type": "code",
      "source": [
        "print(f'The mean of {v} is {mean_value(v):.2f}')"
      ],
      "metadata": {
        "id": "fpmNd7pp4Zd6"
      },
      "execution_count": null,
      "outputs": []
    },
    {
      "cell_type": "markdown",
      "source": [
        "The `print` function by default adds spaces between the things that are printed, but in an f-string you can control all spacing yourself."
      ],
      "metadata": {
        "id": "s2buTN68FnRm"
      }
    },
    {
      "cell_type": "code",
      "source": [
        "print(f'mean_value({v})--->{mean_value(v):.2f}')"
      ],
      "metadata": {
        "id": "US4l7TKzBgdI"
      },
      "execution_count": null,
      "outputs": []
    },
    {
      "cell_type": "markdown",
      "source": [
        "You can also just compute the f-string without printing it. This is sometimes a useful way to create a string."
      ],
      "metadata": {
        "id": "vtFDVqMz5IUu"
      }
    },
    {
      "cell_type": "code",
      "source": [
        "myfstring = f'The mean of {v} is {mean_value(v):.2f}'\n",
        "myfstring"
      ],
      "metadata": {
        "id": "KcypkJRs4qQc"
      },
      "execution_count": null,
      "outputs": []
    },
    {
      "cell_type": "markdown",
      "source": [
        "The splat behaves somewhat differently in an f-string."
      ],
      "metadata": {
        "id": "bGHjzTXuAAat"
      }
    },
    {
      "cell_type": "code",
      "source": [
        "print(f'Mean of {*v,}  =  {mean_value(v):.2f}')"
      ],
      "metadata": {
        "id": "bizNnwo48_T7"
      },
      "execution_count": null,
      "outputs": []
    },
    {
      "cell_type": "markdown",
      "source": [
        "By the way, the splat operator can also be used to unpack all characters from a string into a list or set."
      ],
      "metadata": {
        "id": "iJG0vzyPBS3V"
      }
    },
    {
      "cell_type": "code",
      "source": [
        "letter = 'theta'\n",
        "print([*letter])\n",
        "print({*letter})"
      ],
      "metadata": {
        "id": "6m803IkHAPLI"
      },
      "execution_count": null,
      "outputs": []
    },
    {
      "cell_type": "markdown",
      "metadata": {
        "id": "USfAIUONrbf9"
      },
      "source": [
        "### Exercises\n",
        "\n",
        "1.   Try printing a number with more decimals, and with 0 decimals.\n",
        "2.   Rewrite the function `print_trip` from an earlier notebook so that it uses f-strings for the outputs. This makes it easier to include a period at the end without having a space in front of it. \n",
        "3.   (optional) Write a function to turn a list of numbers like `v` into this kind of string: `'4, 2, 3, 1.5, 5, 4 and 0'`. Tip: first use a comprehension to turn every number into a string. Then use `.join` to put commas between all elements except the last. Then concatenate this with ` and ` as well as the last element."
      ]
    }
  ]
}