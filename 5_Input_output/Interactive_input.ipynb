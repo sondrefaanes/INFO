{
  "nbformat": 4,
  "nbformat_minor": 0,
  "metadata": {
    "colab": {
      "provenance": []
    },
    "kernelspec": {
      "name": "python3",
      "display_name": "Python 3"
    },
    "language_info": {
      "name": "python"
    }
  },
  "cells": [
    {
      "cell_type": "markdown",
      "source": [
        "# Interactive user input and type conversion\n",
        "\n",
        "by Koenraad De Smedt at UiB\n"
      ],
      "metadata": {
        "id": "AET_V58Burz8"
      }
    },
    {
      "cell_type": "markdown",
      "source": [
        "---\n",
        "This notebook shows how to obtain a line of input from the user and convert this if needed.  It also introduces the `while` construction for conditional iteration.\n",
        "\n",
        "---"
      ],
      "metadata": {
        "id": "tEGrtgi-Ercf"
      }
    },
    {
      "cell_type": "markdown",
      "source": [
        "The following is a simple example. The `input` function obtains a line of input from the user as a string. The function then computes the length of the string and prints suitable output."
      ],
      "metadata": {
        "id": "Z9qtCTtDu7Dd"
      }
    },
    {
      "cell_type": "code",
      "execution_count": null,
      "metadata": {
        "id": "t3AqQvFdupIA"
      },
      "outputs": [],
      "source": [
        "def print_len ():\n",
        "  s = input('Type a line of text: ')\n",
        "  print(f'The line you typed has {len(s)} characters.')\n",
        "\n",
        "print_len()"
      ]
    },
    {
      "cell_type": "markdown",
      "source": [
        "If you need to interpret user input as a number, you need to convert from a string to a number. Use the `int` function to convert to an integer. An error will be signaled if conversion is not possible."
      ],
      "metadata": {
        "id": "aXd1FxvQAEOz"
      }
    },
    {
      "cell_type": "code",
      "source": [
        "def print_square ():\n",
        "  i = int(input('Type an integer: '))\n",
        "  print(f'The square of this number is {i**2}')\n",
        "\n",
        "print_square()"
      ],
      "metadata": {
        "id": "DyhVxgEtAWte"
      },
      "execution_count": null,
      "outputs": []
    },
    {
      "cell_type": "markdown",
      "source": [
        "Here is an example which gets input from the user to guess a secret randomly chosen number. The process is repeated until the secret number is found. The `while` performs conditional iteration: it iterates as long as a condition is true, then it stops."
      ],
      "metadata": {
        "id": "uxaQGj2aVt3o"
      }
    },
    {
      "cell_type": "code",
      "source": [
        "from random import randrange\n",
        "\n",
        "def guess_number (n):\n",
        "  secret = randrange(n+1) # from 0 to n+1 (exclusive)\n",
        "  #print(secret)\n",
        "  i = input(f'Guess an integer between 0 and {n} (inclusive): ')\n",
        "  while int(i) != secret:\n",
        "    i = input('Try again: ')\n",
        "  print('The number was', secret)\n",
        "\n",
        "guess_number(9)"
      ],
      "metadata": {
        "id": "JC4VP4iLVtHs"
      },
      "execution_count": null,
      "outputs": []
    },
    {
      "cell_type": "markdown",
      "source": [
        "Line three in the above definition illustrates how a print command can be used for testing."
      ],
      "metadata": {
        "id": "9nZCGxNvlSvC"
      }
    },
    {
      "cell_type": "markdown",
      "source": [
        "### Exercises\n",
        "\n",
        "1.   Modify `guess_number` so that if the user types `stop`, the `while` interation stops. Use `and` to join this second condition.\n",
        "2.   Check what happens if the user types in a string that is not all digits. Add another test `not i.isdigit()'` in `guess_number` to test for this and avoid a possible error in converting the string to an integer.\n",
        "3.   Write a function `print_mean` which asks the user to type some integers, separated by space, on a line. Print the mean, using the function `mean_value` from an earlier notebook. The input string will have to be split and converted to a list of integers. Use a comprehension for this conversion.\n",
        "4.   Write a function that asks the user to write a string of words separated by spaces. Print the average length of the words."
      ],
      "metadata": {
        "id": "2qJv8uDlC195"
      }
    }
  ]
}