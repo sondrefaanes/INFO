{
  "nbformat": 4,
  "nbformat_minor": 0,
  "metadata": {
    "colab": {
      "provenance": [],
      "include_colab_link": true
    },
    "kernelspec": {
      "name": "python3",
      "display_name": "Python 3"
    },
    "language_info": {
      "name": "python"
    }
  },
  "cells": [
    {
      "cell_type": "markdown",
      "metadata": {
        "id": "view-in-github",
        "colab_type": "text"
      },
      "source": [
        "<a href=\"https://colab.research.google.com/github/sondrefaanes/INFO/blob/main/Parameters_in_functions.ipynb\" target=\"_parent\"><img src=\"https://colab.research.google.com/assets/colab-badge.svg\" alt=\"Open In Colab\"/></a>"
      ]
    },
    {
      "cell_type": "markdown",
      "metadata": {
        "id": "jId2Pst6ok_R"
      },
      "source": [
        "# Parameters in functions\n",
        "\n",
        "by Koenraad De Smedt at UiB\n"
      ]
    },
    {
      "cell_type": "markdown",
      "source": [
        "---\n",
        "A parameter is a variable listed inside the parentheses in the function definition. Arguments are the values that are given to the function when it is called.\n",
        "\n",
        "Functions may operate on zero, one or more arguments.Function definitions may therefore have zero, one or more parameters.\n",
        "\n",
        "---"
      ],
      "metadata": {
        "id": "30z-sVDi47St"
      }
    },
    {
      "cell_type": "markdown",
      "source": [
        "Here is a function with zero parameters, so there is nothing in the parameter list. The function must therefore also be called with empty arguments. The `()` must still be there! This function prints something, but does not result in any value, because it does not contain a `return` command."
      ],
      "metadata": {
        "id": "nIe-n09ETU28"
      }
    },
    {
      "cell_type": "code",
      "source": [
        "def print_message ():\n",
        "  print('Nothing to see here. Move on.')\n",
        "print_message()"
      ],
      "metadata": {
        "id": "ensYxaZAatbM"
      },
      "execution_count": null,
      "outputs": []
    },
    {
      "cell_type": "markdown",
      "source": [
        "The following function prints a message, like the previous function, but in addition it returns a value."
      ],
      "metadata": {
        "id": "4veFusMFDDnO"
      }
    },
    {
      "cell_type": "code",
      "source": [
        "def print_message ():\n",
        "  print('Nothing to see here. Move on.')\n",
        "  return 404\n",
        "print_message()"
      ],
      "metadata": {
        "id": "AUAerb8rDAlE"
      },
      "execution_count": null,
      "outputs": []
    },
    {
      "cell_type": "markdown",
      "metadata": {
        "id": "_5lvlMkYp5GL"
      },
      "source": [
        "Here is a function definition with two parameters. The function returns the last `n` items of `seq`. This implies that `n` must be an integer and `seq` must be a sequence (such as a string, list or tuple)."
      ]
    },
    {
      "cell_type": "code",
      "metadata": {
        "id": "p55XNQYjqekt"
      },
      "source": [
        "def lastelements (seq, n):\n",
        "  return seq[-n:]\n",
        "print(lastelements('eponymous', 4))"
      ],
      "execution_count": null,
      "outputs": []
    },
    {
      "cell_type": "markdown",
      "source": [
        "The following picture illustrates how the function call is executed.\n",
        "\n",
        "<img src=\"https://git.app.uib.no/desmedt/teaching/-/raw/main/python-function-call.png\" alt = \"function call\" width = 600px>"
      ],
      "metadata": {
        "id": "aUG-oMfRmbHT"
      }
    },
    {
      "cell_type": "markdown",
      "source": [
        "Here are some other calls of this function, this time with a list as the first argument."
      ],
      "metadata": {
        "id": "Y-xms9NadEcR"
      }
    },
    {
      "cell_type": "code",
      "source": [
        "cities = ['Bergen', 'Bodø', 'Kristiansand', 'Tromsø', 'Arendal']\n",
        "print(lastelements(cities, 2))\n",
        "print(lastelements(cities, 4))"
      ],
      "metadata": {
        "id": "EnOwz_5DdA67"
      },
      "execution_count": null,
      "outputs": []
    },
    {
      "cell_type": "markdown",
      "metadata": {
        "id": "Z92YmF-iqwXK"
      },
      "source": [
        "The argument list may have optional arguments at the end, which can be given a default value. If only one argument is given in the following, the missing parameter `n` gets the value 1."
      ]
    },
    {
      "cell_type": "code",
      "metadata": {
        "id": "3_QTuO3Bq1bp"
      },
      "source": [
        "def lastelements (seq, n=1):\n",
        "  return seq[-n:]\n",
        "print(lastelements('eponymous'))\n",
        "print(lastelements('eponymous', 4))\n",
        "print(lastelements(cities))\n",
        "print(lastelements(cities, n=3))"
      ],
      "execution_count": null,
      "outputs": []
    },
    {
      "cell_type": "markdown",
      "metadata": {
        "id": "USfAIUONrbf9"
      },
      "source": [
        "### Exercises\n",
        "\n",
        "1.   Define a function `f_score` that computes the harmonic mean of its two numeric arguments (precision, recall) according to this formula:\n",
        "$F = 2 \\cdot \\normalsize \\frac{precision\\ \\cdot\\ recall}{precision\\ + \\ recall}$\n",
        "\n",
        ">(optional) If you want to know more about precision and recall, read the [notebook on probabilities with Bayes' theorem](https://colab.research.google.com/drive/1ELPPTuAOYiN9He7f5A4jPRrxcx7ErzND)."
      ]
    }
  ]
}