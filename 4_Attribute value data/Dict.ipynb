{
  "nbformat": 4,
  "nbformat_minor": 0,
  "metadata": {
    "colab": {
      "provenance": []
    },
    "kernelspec": {
      "name": "python3",
      "display_name": "Python 3.9.6 64-bit"
    },
    "language_info": {
      "name": "python",
      "version": "3.9.6",
      "mimetype": "text/x-python",
      "codemirror_mode": {
        "name": "ipython",
        "version": 3
      },
      "pygments_lexer": "ipython3",
      "nbconvert_exporter": "python",
      "file_extension": ".py"
    },
    "interpreter": {
      "hash": "aee8b7b246df8f9039afb4144a1f6fd8d2ca17a180786b69acc140d282b71a49"
    }
  },
  "cells": [
    {
      "cell_type": "markdown",
      "metadata": {
        "id": "sT7_VFLlaWME"
      },
      "source": [
        "# Dict\n",
        "\n",
        "by Koenraad De Smedt at UiB"
      ]
    },
    {
      "cell_type": "markdown",
      "metadata": {
        "id": "IWq-JE9EafXH"
      },
      "source": [
        "---\n",
        "A dict in Python is a data structure that associates *values* with *keys*, thus creating a simple database. It can be changed. A key can occur only once. A dict is written with curly braces (like a set), and uses a colon between each key and value.\n",
        "\n",
        "This notebook shows how to make, change and use dicts.\n",
        "\n",
        "---"
      ]
    },
    {
      "cell_type": "markdown",
      "source": [
        "The following dict associates genders with some names."
      ],
      "metadata": {
        "id": "vXsORiOOD2kD"
      }
    },
    {
      "cell_type": "code",
      "metadata": {
        "id": "-pMp27UxaU8U"
      },
      "source": [
        "people_genders = {'Alex':'male', 'Lucy':'female', 'Paul':'male', 'Ella':'female'}"
      ],
      "execution_count": null,
      "outputs": []
    },
    {
      "cell_type": "markdown",
      "metadata": {
        "id": "LdxTgccpn44_"
      },
      "source": [
        "By using a key in square brackets, we can obtain the information associated with it."
      ]
    },
    {
      "cell_type": "code",
      "metadata": {
        "id": "nR36-c2Gn_fA"
      },
      "source": [
        "people_genders['Alex']"
      ],
      "execution_count": null,
      "outputs": []
    },
    {
      "cell_type": "markdown",
      "source": [
        "It is possible to change the value associated with a key."
      ],
      "metadata": {
        "id": "TDJtnQQMWH1k"
      }
    },
    {
      "cell_type": "code",
      "source": [
        "people_genders['Alex'] = 'female'\n",
        "people_genders['Alex']"
      ],
      "metadata": {
        "id": "FhptFGF0V-fg"
      },
      "execution_count": null,
      "outputs": []
    },
    {
      "cell_type": "markdown",
      "source": [
        "We can also add a new key with a value."
      ],
      "metadata": {
        "id": "TTlY6sHMTyCN"
      }
    },
    {
      "cell_type": "code",
      "source": [
        "people_genders['Oscar'] = 'male'\n",
        "people_genders"
      ],
      "metadata": {
        "id": "ZWWzgGyk9mZQ"
      },
      "execution_count": null,
      "outputs": []
    },
    {
      "cell_type": "markdown",
      "source": [
        "An error is signaled if the key does not exist in the dict."
      ],
      "metadata": {
        "id": "xdkwzYK2-3Ys"
      }
    },
    {
      "cell_type": "code",
      "source": [
        "people_genders['Evelyn']"
      ],
      "metadata": {
        "id": "PGFWAOou-9Tq"
      },
      "execution_count": null,
      "outputs": []
    },
    {
      "cell_type": "markdown",
      "source": [
        "If you're not sure the key exists, and you want to test this while avoiding an error, you can use `get`, which will return `None` if the key is not found."
      ],
      "metadata": {
        "id": "3NxUo-z4_Coh"
      }
    },
    {
      "cell_type": "code",
      "source": [
        "people_genders.get('Evelyn')"
      ],
      "metadata": {
        "id": "PFqi6eVZ_aFV"
      },
      "execution_count": null,
      "outputs": []
    },
    {
      "cell_type": "markdown",
      "source": [
        "Also, you can simply test if a key exists in the dict."
      ],
      "metadata": {
        "id": "gOGpRUG87q9U"
      }
    },
    {
      "cell_type": "code",
      "source": [
        "'Oscar' in people_genders"
      ],
      "metadata": {
        "id": "DQo4wLX77v-U"
      },
      "execution_count": null,
      "outputs": []
    },
    {
      "cell_type": "markdown",
      "metadata": {
        "id": "HC_oSIQWhyEh"
      },
      "source": [
        "Items can be popped from the dict."
      ]
    },
    {
      "cell_type": "code",
      "metadata": {
        "id": "QyTiSjNXh0Jg"
      },
      "source": [
        "people_genders.pop('Lucy')"
      ],
      "execution_count": null,
      "outputs": []
    },
    {
      "cell_type": "markdown",
      "metadata": {
        "id": "h91Y-k5kiQVb"
      },
      "source": [
        "When popped, the item (key and value) is effectively removed from the dict."
      ]
    },
    {
      "cell_type": "code",
      "metadata": {
        "id": "PVrRz8T9h9K_"
      },
      "source": [
        "people_genders"
      ],
      "execution_count": null,
      "outputs": []
    },
    {
      "cell_type": "markdown",
      "source": [
        "The `len` function gives the number of items in the dict."
      ],
      "metadata": {
        "id": "aWiXHvgF73gj"
      }
    },
    {
      "cell_type": "code",
      "source": [
        "len(people_genders)"
      ],
      "metadata": {
        "id": "OpMFQoX38A2c"
      },
      "execution_count": null,
      "outputs": []
    },
    {
      "cell_type": "markdown",
      "source": [
        "A list of all values can be obtained as follows."
      ],
      "metadata": {
        "id": "9cPM5jPp7948"
      }
    },
    {
      "cell_type": "code",
      "source": [
        "people_genders.values()"
      ],
      "metadata": {
        "id": "qG2BSesC73Pl"
      },
      "execution_count": null,
      "outputs": []
    },
    {
      "cell_type": "markdown",
      "source": [
        "Therefore, all different values can also be obtained like this."
      ],
      "metadata": {
        "id": "yjOs_vVD8VM0"
      }
    },
    {
      "cell_type": "code",
      "source": [
        "set(people_genders.values())"
      ],
      "metadata": {
        "id": "CejKXCBG8OoO"
      },
      "execution_count": null,
      "outputs": []
    },
    {
      "cell_type": "markdown",
      "source": [
        "A list of all keys can be obtained as follows. Keys can only occur once in a dict."
      ],
      "metadata": {
        "id": "Hj6v4g3b8KXK"
      }
    },
    {
      "cell_type": "code",
      "source": [
        "people_genders.keys()"
      ],
      "metadata": {
        "id": "Dy4nC5488GFp"
      },
      "execution_count": null,
      "outputs": []
    },
    {
      "cell_type": "markdown",
      "source": [
        "The `.items()` method returns a list of key and value pairs."
      ],
      "metadata": {
        "id": "XDBDKQEFRxf3"
      }
    },
    {
      "cell_type": "code",
      "source": [
        "people_genders.items()"
      ],
      "metadata": {
        "id": "FceEypALR6V7"
      },
      "execution_count": null,
      "outputs": []
    },
    {
      "cell_type": "markdown",
      "metadata": {
        "id": "9E5e0nqURI4H"
      },
      "source": [
        "A *dict comprehension* is an elegant way to construct a new dict. It is similar to a set comprehension, but uses the `key:value` notation."
      ]
    },
    {
      "cell_type": "code",
      "execution_count": null,
      "metadata": {
        "id": "BNT1v4vJRByM"
      },
      "outputs": [],
      "source": [
        "{name:'man' for name, sex in people_genders.items() if sex == 'male'}"
      ]
    },
    {
      "cell_type": "markdown",
      "source": [
        "Here is an example of how a dict can be used. The following dict  associates alphabetic grades with numerical ones. This can then be used to convert a string of alphabetic grades to a list of corresponding numerical grades."
      ],
      "metadata": {
        "id": "XnG23ROsWemu"
      }
    },
    {
      "cell_type": "code",
      "source": [
        "grade_dict = {'A':5, 'B':4, 'C':3, 'D':2, 'E':1, 'F':0}\n",
        "\n",
        "def num_grades (grade_string):\n",
        "  grade_list = grade_string.split(', ')\n",
        "  return [grade_dict[grade] for grade in grade_list]\n",
        "  \n",
        "num_grades('A, C, B, B, E, A, D')"
      ],
      "metadata": {
        "id": "4FYKN2g5E3hB"
      },
      "execution_count": null,
      "outputs": []
    },
    {
      "cell_type": "markdown",
      "source": [
        "In the function definition of `num_grades`, a local variable is introduced: `grade_list`. We could also have written the function definition without this local variable, but such local variables are often a clearer way to split up a process in steps."
      ],
      "metadata": {
        "id": "Wglvf3gTzOhp"
      }
    },
    {
      "cell_type": "markdown",
      "metadata": {
        "id": "HSwMhht6mMXB"
      },
      "source": [
        "### Exercises\n",
        "\n",
        "1.   Make a dict, add an item, change the value of the item.\n",
        "2.   Define a function `sum_grades` which uses `num_grades` and returns the sum of the numerical grades.\n",
        "3.   Define a function `mean_grade` which is similar to `sum_grades` but returns the mean value of the numerical grades.\n",
        "4.   Use a *dict comprehension* to convert `people_genders` to a new dict where the value `male` is replaced by `boy` and `female` by `girl`. Tip: use an extra dict `{'male':'boy', 'female':'girl'}` that defines the translations.\n",
        "5.   Assign a list of good book titles to the variable `good_reads` and a list of bad book titles to the variable `bad_reads`. Then write code to build a dict of book titles, where each title is a key and its value is `good` or `bad` according to the variables."
      ]
    }
  ]
}