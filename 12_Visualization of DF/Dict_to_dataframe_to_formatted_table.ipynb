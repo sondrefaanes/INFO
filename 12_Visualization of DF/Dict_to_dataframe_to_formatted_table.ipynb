{
  "nbformat": 4,
  "nbformat_minor": 0,
  "metadata": {
    "colab": {
      "provenance": []
    },
    "kernelspec": {
      "name": "python3",
      "display_name": "Python 3"
    },
    "language_info": {
      "name": "python"
    }
  },
  "cells": [
    {
      "cell_type": "markdown",
      "metadata": {
        "id": "b2nTDLP9c0Xb"
      },
      "source": [
        "# Dict to dataframe to formatted table\n",
        "\n",
        "##A simple translation dictionary as an example\n",
        "\n",
        "by Koenraad De Smedt at UiB"
      ]
    },
    {
      "cell_type": "markdown",
      "metadata": {
        "id": "ZlsR0DSpd3vW"
      },
      "source": [
        "---\n",
        "Starting from a simple example, this notebook shows how to:\n",
        "\n",
        "1.   Make a two-column dataframe from a dict\n",
        "2.   Style a dataframe\n",
        "3.   Format the dataframe in different ways, such as HTML tables for webpages and LaTeX tables for publications\n",
        "4.   Write a formatted table to file, for inclusion in papers or theses.\n",
        "\n",
        "---"
      ]
    },
    {
      "cell_type": "code",
      "metadata": {
        "id": "T8fiLBR-cxAL"
      },
      "source": [
        "import pandas as pd"
      ],
      "execution_count": null,
      "outputs": []
    },
    {
      "cell_type": "markdown",
      "source": [
        "Let's make a dict for translations of terms. Many English programming terms have an obvious Norwegian counterpart, such as *string:streng, function:funksjon,* etc. The dict below provides possible translations for some less transparent terms."
      ],
      "metadata": {
        "id": "1PJo8XKcZQyJ"
      }
    },
    {
      "cell_type": "code",
      "source": [
        "en_no = {'array':'matrise', 'dataframe':'dataramme', 'cross-tabulation':'krysstabulering',\n",
        "         'comprehension':'inklusjon', 'iteration':'gjentagelse', 'condition':'betingelse',\n",
        "         'tokenize':'tokenisering', 'line plot':'linjediagram', 'bar plot':'stolpediagram',\n",
        "         'zip':'glidelås', 'range':'rekke', 'loop':'løkke', 'value':'verdi',\n",
        "         'keyword':'nøkkelord', 'regular expression':'regulært uttrykk',\n",
        "         'indentation':'innrykk', 'concatenate':'slå sammen', 'set':'sett',\n",
        "         'sequence':'sekvens'}"
      ],
      "metadata": {
        "id": "_6t9TtMqZd3y"
      },
      "execution_count": null,
      "outputs": []
    },
    {
      "cell_type": "markdown",
      "source": [
        "## 1. Convert to dataframe and sort\n",
        "\n",
        "Make a dataframe from the items (pairs of keys an values) in the dict. Name the columns."
      ],
      "metadata": {
        "id": "m9T9ezGKZ7k2"
      }
    },
    {
      "cell_type": "code",
      "source": [
        "table = pd.DataFrame(en_no.items(), columns=['english', 'norsk'])\n",
        "table"
      ],
      "metadata": {
        "id": "oZFq7KiWZwMu"
      },
      "execution_count": null,
      "outputs": []
    },
    {
      "cell_type": "markdown",
      "source": [
        "Sort by the desired column."
      ],
      "metadata": {
        "id": "zMwqoTlx2KPF"
      }
    },
    {
      "cell_type": "code",
      "source": [
        "ts = table.sort_values(by='norsk')\n",
        "ts"
      ],
      "metadata": {
        "id": "u6KxeWtK2JLL"
      },
      "execution_count": null,
      "outputs": []
    },
    {
      "cell_type": "markdown",
      "source": [
        "If desired, change the order of columns."
      ],
      "metadata": {
        "id": "xL-G_YLf2bnu"
      }
    },
    {
      "cell_type": "code",
      "source": [
        "ts = ts.reindex(columns=['norsk','english'])\n",
        "ts"
      ],
      "metadata": {
        "id": "GyXHxHh82a2l"
      },
      "execution_count": null,
      "outputs": []
    },
    {
      "cell_type": "markdown",
      "source": [
        "By clicking on the copy icon in the output, you can copy the table in a few formats. The following will show how the table can be styled and exported to some other formats."
      ],
      "metadata": {
        "id": "RxRNUiQ9bQ6c"
      }
    },
    {
      "cell_type": "markdown",
      "metadata": {
        "id": "s_m8Dzxe62A0"
      },
      "source": [
        "## 2. Styling\n",
        "\n",
        "Use `.style` to apply some styles. If we don't need to display the index, we can hide it. We can also set a caption."
      ]
    },
    {
      "cell_type": "code",
      "source": [
        "ts_styled = ts.style.hide(axis=\"index\").set_caption('Translation of terms')\n",
        "ts_styled"
      ],
      "metadata": {
        "id": "3nFrOg6IRTH7"
      },
      "execution_count": null,
      "outputs": []
    },
    {
      "cell_type": "markdown",
      "source": [
        "## 3. HTML\n",
        "\n",
        "With `.to_html()` one can export the contents of a styled dataframe to HTML for display on a webpage. Right now we don't need CSS styles in the HTML."
      ],
      "metadata": {
        "id": "L4aWhVTWRnpg"
      }
    },
    {
      "cell_type": "code",
      "metadata": {
        "id": "YFzjnfz0yjh2"
      },
      "source": [
        "ts_html = ts_styled.to_html(exclude_styles=True)\n",
        "print(ts_html)"
      ],
      "execution_count": null,
      "outputs": []
    },
    {
      "cell_type": "markdown",
      "source": [
        "The HTML can be displayed directly in the browser if you import the following module. Alternatively, the HTML can also be written to a file and embedded in web pages."
      ],
      "metadata": {
        "id": "fn5cpGwKIczE"
      }
    },
    {
      "cell_type": "code",
      "source": [
        "import IPython\n",
        "IPython.display.HTML(ts_html)"
      ],
      "metadata": {
        "id": "YEMVLFn-IU_n"
      },
      "execution_count": null,
      "outputs": []
    },
    {
      "cell_type": "markdown",
      "source": [
        "If you wish, edit the HTML by adding color, for instance. This can be done with CSS, but also by simply editing the HTML."
      ],
      "metadata": {
        "id": "5wljXCxWH1FE"
      }
    },
    {
      "cell_type": "code",
      "source": [
        "ts_html = ts_html.replace('<thead>', '<thead style = \"background-color: lightgreen\">')\n",
        "IPython.display.HTML(ts_html)"
      ],
      "metadata": {
        "id": "g3SDLPL_H3Zk"
      },
      "execution_count": null,
      "outputs": []
    },
    {
      "cell_type": "markdown",
      "metadata": {
        "id": "5RXl2r6x2cho"
      },
      "source": [
        "## 4. LaTeX\n",
        "\n",
        "For inclusion in a publication, a dataframe can  be exported to LaTeX format. The table already has a caption, but we provide a label for reference and we add horizontal rules. The columns will be right- and left-aligned and the table will be centered."
      ]
    },
    {
      "cell_type": "code",
      "metadata": {
        "id": "XWQEd6YC2uYZ"
      },
      "source": [
        "ts_latex = ts_styled.to_latex(label='tab:lang', hrules=True, column_format='rl',\n",
        "                              position='h', position_float='centering')\n",
        "print(ts_latex)"
      ],
      "execution_count": null,
      "outputs": []
    },
    {
      "cell_type": "markdown",
      "metadata": {
        "id": "--pO8yZpy2j9"
      },
      "source": [
        "In order to use such a table in a document, give a file argument for redirecting the output. Make sure you have access to wherever you want your file to be written. Here we put the file on Google Drive (make sure your Drive is mounted)."
      ]
    },
    {
      "cell_type": "code",
      "source": [
        "doc_path = \"drive/MyDrive/Colab Notebooks/ling123/doc/\"\n",
        "\n",
        "ts_styled.to_latex(doc_path + 'mytable.tex', label='tab:lang',\n",
        "                   hrules=True, column_format='rl',\n",
        "                   position='h', position_float='centering')"
      ],
      "metadata": {
        "id": "uYKcX_1jpQIA"
      },
      "execution_count": null,
      "outputs": []
    },
    {
      "cell_type": "markdown",
      "source": [
        "The file with the LaTeX table can then be included in a LaTeX document by using `\\input{mytable.tex}`. You can refer to the table by using the given label with `\\ref{tab:lang}`. In the LaTeX preamble, you have to write `\\usepackage{booktabs}`."
      ],
      "metadata": {
        "id": "yPqNtne1phFH"
      }
    },
    {
      "cell_type": "markdown",
      "source": [
        "## Exercises\n",
        "\n",
        "1.  Write code to search the translation of a word in the dict.\n",
        "2.  Sort the table by a different column.\n",
        "3.  Convert the dict into a new dict in the other direction, containing for instance, `'tabell':'array'`, etc.\n",
        "4.  (optional) Input the formatted LaTeX table in a LaTeX document and typeset.\n",
        "5.  (optional) Include the formatted HTML table in a webpage and display the page in a browser."
      ],
      "metadata": {
        "id": "GingTGE8edMn"
      }
    }
  ]
}