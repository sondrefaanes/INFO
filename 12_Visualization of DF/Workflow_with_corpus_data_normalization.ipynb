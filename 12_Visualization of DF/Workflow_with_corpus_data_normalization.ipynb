{
  "nbformat": 4,
  "nbformat_minor": 0,
  "metadata": {
    "colab": {
      "provenance": [],
      "collapsed_sections": [
        "m8d2tTXouNri"
      ]
    },
    "kernelspec": {
      "name": "python3",
      "display_name": "Python 3"
    },
    "language_info": {
      "name": "python"
    }
  },
  "cells": [
    {
      "cell_type": "markdown",
      "source": [
        "# Workflow with corpus data normalization\n",
        "\n",
        "by Koenraad De Smedt at UiB"
      ],
      "metadata": {
        "id": "KJQBzgShULEX"
      }
    },
    {
      "cell_type": "markdown",
      "source": [
        "---\n",
        "\n",
        "The starting point for this notebook is the simple hypothesis that certain words are characteristic for male or female teenage speech. Data is obtained from COLT (Corpus of London Teenage Speech, transcribed) accessible through [Corpuscle](https://clarino.uib.no/corpuscle), a service in [CLARINO](https://clarino.uib.no/iness).\n",
        "\n",
        "To complicate matters, the total corpus material for male speakers does not have the same size as that for female speakers. So we cannot compute percentages directly from absolute counts. To compare groups fairly, *weighted* percentages must be obtained that take into account the different group sizes.\n",
        "\n",
        "A *workflow* with the following steps is described in this notebook.\n",
        "\n",
        "1.  Compose a query that you can use to search a corpus\n",
        "2.  Download raw frequencies and read them into Python\n",
        "3.  Normalize the data to produce weighted percentages\n",
        "4.  Visualize numerical data in a styled, sorted dataframe and a barplot\n",
        "3.  Write text, tables and figures to files for inclusion in a LaTeX document.\n",
        "\n",
        "---"
      ],
      "metadata": {
        "id": "YOSVRGgzUSad"
      }
    },
    {
      "cell_type": "markdown",
      "source": [
        "## 0. Querying the corpus\n",
        "\n",
        "We start by writing two strings of words separated with commas. The first string has words which are assumed to be characteristic for boys’ speech and the other has words characteristic for girls’ speech."
      ],
      "metadata": {
        "id": "z3GNoQUIX_ZR"
      }
    },
    {
      "cell_type": "code",
      "source": [
        "boyswords = 'beat, bloke, cool, crap, football, music'\n",
        "girlswords = 'cat, clothes, kiss, love, model, phone'"
      ],
      "metadata": {
        "id": "DXxbHNbSpIxc"
      },
      "execution_count": null,
      "outputs": []
    },
    {
      "cell_type": "markdown",
      "source": [
        "\n",
        "Convert the strings to lists and concatenate those."
      ],
      "metadata": {
        "id": "SOZAk1EmpJ1C"
      }
    },
    {
      "cell_type": "code",
      "execution_count": null,
      "metadata": {
        "id": "t1qgIsuCUHmI"
      },
      "outputs": [],
      "source": [
        "gwordlist = girlswords.split(', ')\n",
        "bwordlist = boyswords.split(', ')\n",
        "allwords = gwordlist + bwordlist\n",
        "print(allwords)\n",
        "print(len(allwords))"
      ]
    },
    {
      "cell_type": "markdown",
      "source": [
        "Join the words with `|` to formulate a query."
      ],
      "metadata": {
        "id": "H2y7vvdrp8s7"
      }
    },
    {
      "cell_type": "code",
      "source": [
        "query = '|'.join(allwords)\n",
        "print(query)"
      ],
      "metadata": {
        "id": "md60izb9p7Ms"
      },
      "execution_count": null,
      "outputs": []
    },
    {
      "cell_type": "markdown",
      "source": [
        "Copy the query, sign in to [Corpuscle](https://clarino.uib.no/corpuscle) (and accept the License if you have not done it before), select only the ICAME collection and the COLT corpus, paste the query in *Search expression* and run it. Observe the Concordance.\n",
        "\n",
        "Then compute the Distribution of *gender* relative to *word*, ignoring case and with Type: *absolute*. Notice that some occurrences in the corpus lack a value for gender.\n",
        "\n",
        "Showing *percentages* gives unweighted percentages for each gender and each word. This is however not a good basis for comparing gender differences because the total size of material for each gender group is not the same. We therefore need to adjust the numbers in Python.\n",
        "\n",
        "Download the *count* values. This will give you a file like `distribution.txt`, which has tab-separated counts for each word. Put this file in your Google Drive folder, or upload it to Colab session storage, and inspect it. Note that the first line is a comment, the second is a header with column names (but the name of the last column is missing) and the third line has column totals (which we don't need)."
      ],
      "metadata": {
        "id": "yRuZLTf-YiKc"
      }
    },
    {
      "cell_type": "markdown",
      "source": [
        "## 1. Loading the data\n",
        "\n",
        "Mount Google drive, if that is where you have put the file with the absolute counts that was downloaded from Corpuscle. Otherwise skip."
      ],
      "metadata": {
        "id": "w2WA0W8fcXDe"
      }
    },
    {
      "cell_type": "code",
      "metadata": {
        "id": "QyMfLiZNk4P8"
      },
      "source": [
        "# skip this cell if you are running Python locally\n",
        "from google.colab import drive\n",
        "drive.mount('/content/drive/')"
      ],
      "execution_count": null,
      "outputs": []
    },
    {
      "cell_type": "markdown",
      "source": [
        "Change the following to your path and filename. Make sure they exist."
      ],
      "metadata": {
        "id": "tJfQ9iKaGcfd"
      }
    },
    {
      "cell_type": "code",
      "source": [
        "data_path = 'drive/MyDrive/Colab Notebooks/ling123/data/'\n",
        "data_file = 'distribution.txt'"
      ],
      "metadata": {
        "id": "Nz_hAp08cWdW"
      },
      "execution_count": null,
      "outputs": []
    },
    {
      "cell_type": "markdown",
      "source": [
        "\n",
        "Read the file with the absolute (raw) counts into a Pandas dataframe. Skip lines with comments. The first non-comment line is by default the header. Also skip the row which contains the totals."
      ],
      "metadata": {
        "id": "N3PL7c8OA78w"
      }
    },
    {
      "cell_type": "code",
      "source": [
        "import pandas as pd\n",
        "\n",
        "rawtable = pd.read_csv(data_path + data_file, comment='#', sep='\\t', skiprows=[3])\n",
        "rawtable"
      ],
      "metadata": {
        "id": "ixldrVdbcAOX"
      },
      "execution_count": null,
      "outputs": []
    },
    {
      "cell_type": "markdown",
      "source": [
        "Note that the name of the last column is missing in the file. That column has occurrences without a gender. We are not interested in this column anyway, so we drop it. The `inplace` parameter means change the current dataframe rather than making a copy."
      ],
      "metadata": {
        "id": "EfbQuCXLfEp6"
      }
    },
    {
      "cell_type": "code",
      "source": [
        "rawtable.drop(columns=['Unnamed: 4'], inplace=True)\n",
        "rawtable"
      ],
      "metadata": {
        "id": "i1wPh-vI5Ieq"
      },
      "execution_count": null,
      "outputs": []
    },
    {
      "cell_type": "markdown",
      "source": [
        "We use the `Word` column as the index. The result is a *crosstable* with word labels on rows and gender labels on columns."
      ],
      "metadata": {
        "id": "OPLiNO7FfJI3"
      }
    },
    {
      "cell_type": "code",
      "source": [
        "rawtable.set_index('Word', inplace=True)\n",
        "rawtable"
      ],
      "metadata": {
        "id": "ldHcFPMzXwD_"
      },
      "execution_count": null,
      "outputs": []
    },
    {
      "cell_type": "markdown",
      "source": [
        "Compute the sum of all observations."
      ],
      "metadata": {
        "id": "TKQItWuJFIxn"
      }
    },
    {
      "cell_type": "code",
      "source": [
        "obs = rawtable['Sum'].sum()\n",
        "obs"
      ],
      "metadata": {
        "id": "kp-U_sJVEaBq"
      },
      "execution_count": null,
      "outputs": []
    },
    {
      "cell_type": "markdown",
      "source": [
        "## 2. Normalizing towards weighted values\n",
        "\n",
        "Computing percentages of counts in each row would not take into account the fact that the total amounts of male and female speech in the corpus are not balanced: female speech accounts for 46.934%, male speech for 50.063% of all words in the corpus.\n",
        "\n",
        "The following first makes a copy of the table, dropping the Sum column, and then adjusts the numbers to what they would be if female and male were each to account for 50%."
      ],
      "metadata": {
        "id": "F4FDgSusb_PC"
      }
    },
    {
      "cell_type": "code",
      "source": [
        "normtable = rawtable.drop(columns='Sum')\n",
        "normtable['f'] = normtable['f'] * 50/46.934\n",
        "normtable['m'] = normtable['m'] * 50/50.063\n",
        "normtable"
      ],
      "metadata": {
        "id": "B4GFaUL8e60F"
      },
      "execution_count": null,
      "outputs": []
    },
    {
      "cell_type": "markdown",
      "source": [
        "Now compute the percentages by dividing values along each row by the sum of the columns for each row and multiplying with 100. This is the main result that we wanted."
      ],
      "metadata": {
        "id": "rogMo58YgOxA"
      }
    },
    {
      "cell_type": "code",
      "source": [
        "normpct = normtable.div(normtable.sum(axis='columns'), axis='index').mul(100)\n",
        "normpct"
      ],
      "metadata": {
        "id": "XKmXft2gg_QR"
      },
      "execution_count": null,
      "outputs": []
    },
    {
      "cell_type": "markdown",
      "source": [
        "## 3. Sorting, styling and visualizing the data\n",
        "\n",
        "We need to make an effort to make the differences in the data easier to see.\n",
        "Sort and style the dataframe. Set the precision and caption and add a background gradient."
      ],
      "metadata": {
        "id": "0BnSX0dE3x3q"
      }
    },
    {
      "cell_type": "code",
      "source": [
        "sortpct = normpct.sort_values(by='f')\n",
        "styledpct = sortpct.style.format(precision=1)\n",
        "styledpct.set_caption('Percentages weighted by group sizes.')\n",
        "styledpct.background_gradient(cmap=\"Blues\", axis=None)\n",
        "styledpct"
      ],
      "metadata": {
        "id": "OYRP-PTG3YLC"
      },
      "execution_count": null,
      "outputs": []
    },
    {
      "cell_type": "markdown",
      "source": [
        "Make a stacked plot."
      ],
      "metadata": {
        "id": "QgeS3IHjhCnQ"
      }
    },
    {
      "cell_type": "code",
      "source": [
        "barplot = sortpct.plot.bar(stacked=True)"
      ],
      "metadata": {
        "id": "XnrbLnxKgNUh"
      },
      "execution_count": null,
      "outputs": []
    },
    {
      "cell_type": "markdown",
      "source": [
        "## 4. Writing text, tables and figures to files\n",
        "\n",
        "In order to present data in various ways in a paper, we save text, tables and figures to files, so that they can be input into LaTeX. Define your own path; make sure the directory exists.\n",
        "\n",
        "Also, make a helper function for writing textual data to files in your path."
      ],
      "metadata": {
        "id": "-tiKydwRhqaE"
      }
    },
    {
      "cell_type": "code",
      "source": [
        "doc_path = \"drive/MyDrive/Colab Notebooks/ling123/doc/\"\n",
        "\n",
        "def write_text (data, file):\n",
        "  'Write text to file'\n",
        "  with open(doc_path + file, 'w') as out:\n",
        "    print(data, file=out)"
      ],
      "metadata": {
        "id": "rn1HF_R8il3q"
      },
      "execution_count": null,
      "outputs": []
    },
    {
      "cell_type": "markdown",
      "source": [
        " Write some pieces of textual data to files."
      ],
      "metadata": {
        "id": "NmVA3lRCilJ6"
      }
    },
    {
      "cell_type": "code",
      "source": [
        "write_text(girlswords, 'girlswords.tex') # assumed girls' words\n",
        "write_text(boyswords, 'boyswords.tex') # assumed boys' words\n",
        "write_text(len(allwords), 'nrwords.tex') # number of words\n",
        "write_text(rawtable['Sum'].sum(), 'nrobs.tex') # number of observations in corpus"
      ],
      "metadata": {
        "id": "XDxKRo-JiQSN"
      },
      "execution_count": null,
      "outputs": []
    },
    {
      "cell_type": "markdown",
      "source": [
        "Get the picture of the plot which we had kept in the variable `barplot` and save it in a file. The `dpi` indicates the resolution and `bbox_inches='tight'` makes tight margins."
      ],
      "metadata": {
        "id": "4bjEr5FvjrGY"
      }
    },
    {
      "cell_type": "code",
      "source": [
        "pic = barplot.get_figure()\n",
        "pic.savefig(doc_path + 'sortpct', dpi=200, bbox_inches='tight')"
      ],
      "metadata": {
        "id": "cYXiIx8-jyO_"
      },
      "execution_count": null,
      "outputs": []
    },
    {
      "cell_type": "markdown",
      "source": [
        "Write the dataframe with the absolute counts as a LaTeX table. Add a caption and horizontal rules. Add a label to refer to the table. Position the table on the page."
      ],
      "metadata": {
        "id": "ohh6yiauj3cO"
      }
    },
    {
      "cell_type": "code",
      "source": [
        "rawtable.style.to_latex(doc_path+'rawfreqtable.tex',\n",
        "  caption='Absolute words counts. Sum may include occurrences without value for gender.',\n",
        "  label='tab:rawfreq', hrules=True, position='hbt', position_float='centering')"
      ],
      "metadata": {
        "id": "bAim3WTqkGs7"
      },
      "execution_count": null,
      "outputs": []
    },
    {
      "cell_type": "markdown",
      "source": [
        "Similarly, write the styled dataframe with the normalized percentages as a LaTeX table. This styled dataframe already had a caption etc. The `convert_css` option is needed to convert CSS styles (such as for color) to LaTeX-compatible formats."
      ],
      "metadata": {
        "id": "ykwdkGLHtGan"
      }
    },
    {
      "cell_type": "code",
      "source": [
        "styledpct.to_latex(doc_path+'normpcttable.tex', convert_css=True,\n",
        "  label='tab:normpct', hrules=True, position='hbt', position_float='centering')"
      ],
      "metadata": {
        "id": "P_3_7tvStDI-"
      },
      "execution_count": null,
      "outputs": []
    },
    {
      "cell_type": "markdown",
      "source": [
        "Now all there is to do is import the saved files in a LaTeX document. See, for instance, *boysandgirls.pdf* in the Files folder at Mitt UiB.\n",
        "\n",
        "The figure can be included with `\\includegraphics{file}`.\n",
        "The text and tables can be included with `\\input{file}`. You can refer to each table and figure with its label (see earlier notebook). Remember to write `\\usepackage{booktabs}` and other necessary packages in the LaTeX preamble.\n",
        "\n",
        "The advantage of such a workflow is that, once it is set up, it is easy to redo the whole procedure with the same words or different words, or to make minor adjustments in the program.\n"
      ],
      "metadata": {
        "id": "L66CjEOWke2a"
      }
    },
    {
      "cell_type": "markdown",
      "source": [
        "---\n",
        "\n",
        "*Acknowledgements*:  The example words were suggested by Erlend Astad Lorentzen. The problem is adapted from an exercise by Knut Hofland."
      ],
      "metadata": {
        "id": "d6EkcXBNOryR"
      }
    },
    {
      "cell_type": "markdown",
      "source": [
        "### Exercises\n",
        "\n",
        "1.  Choose different words and redo the whole thing. Due to the limited size of the corpus it is recommended to choose rather frequent words.\n",
        "2.  (optional) Compute the distribution of a different attribute, such as age, instead of gender (see *Menu search* in Corpuscle).\n",
        "3.  (optional) Write your own LaTeX article and include the result data and figures from your analysis."
      ],
      "metadata": {
        "id": "m8d2tTXouNri"
      }
    }
  ]
}