{
  "nbformat": 4,
  "nbformat_minor": 0,
  "metadata": {
    "colab": {
      "provenance": []
    },
    "kernelspec": {
      "name": "python3",
      "display_name": "Python 3"
    },
    "language_info": {
      "name": "python"
    }
  },
  "cells": [
    {
      "cell_type": "markdown",
      "metadata": {
        "id": "rOZQCpVAO5W8"
      },
      "source": [
        "# Counters and plotting\n",
        "\n",
        "by Koenraad De Smedt at UiB"
      ]
    },
    {
      "cell_type": "markdown",
      "metadata": {
        "id": "uTczdOMkPCoB"
      },
      "source": [
        "---\n",
        "We have already seen that a frequency distribution (FreqDist) in NLTK is a kind of counter. We can also make our own counters to find the frequency of each item in a sequence. \n",
        "\n",
        "This notebook shows:\n",
        "1.   How to make a counter with the help of `Counter` (a subclass of dict) from the `collections` module. \n",
        "2.   How to plot the counts in a bar or line plot.\n",
        "\n",
        "---\n"
      ]
    },
    {
      "cell_type": "markdown",
      "source": [
        "\n",
        "The genetic code in RNA is also a language! As an example, consider the sequence of nucleotides in the five-prime untranslated region (5' UTR) of [the mRNA in the BNT162b2 vaccine](https://berthub.eu/articles/posts/reverse-engineering-source-code-of-the-biontech-pfizer-vaccine/). We want to count how many times the different nucleotides occur in the sequence."
      ],
      "metadata": {
        "id": "8d6Eoej-PDlX"
      }
    },
    {
      "cell_type": "code",
      "metadata": {
        "id": "Wjo9gs5mO2xu"
      },
      "source": [
        "from collections import Counter\n",
        "fiveprimeutr = 'GAAΨAAACΨAGΨAΨΨCΨΨCΨGGΨCCCCACAGACΨCAGAGAGAACCCGCCACC'\n",
        "cntr = Counter(fiveprimeutr)\n",
        "cntr\n"
      ],
      "execution_count": null,
      "outputs": []
    },
    {
      "cell_type": "markdown",
      "source": [
        "Let's make a bar plot of the counter. A counter is a kind of dict, so we can retrieve its keys and values."
      ],
      "metadata": {
        "id": "D2xJjhR3Ak0Z"
      }
    },
    {
      "cell_type": "code",
      "source": [
        "import matplotlib.pyplot as plt\n",
        "plt.bar(cntr.keys(), cntr.values(), align='center')\n",
        "plt.title('Nucleotide frequencies')\n",
        "plt.show()"
      ],
      "metadata": {
        "id": "370ljFluADxl"
      },
      "execution_count": null,
      "outputs": []
    },
    {
      "cell_type": "markdown",
      "metadata": {
        "id": "BXSbbBlTQ7Sl"
      },
      "source": [
        "---\n",
        "\n",
        "Let's count character frequencies in a text."
      ]
    },
    {
      "cell_type": "code",
      "metadata": {
        "id": "HH-Qyl-SRDKH"
      },
      "source": [
        "story ='''Once upon a time, there was a princess called Buttercup. She had a\n",
        "farm-hand called Westley; whenever she tells him to do something, he always\n",
        "answers: \"As you wish.\" At first she didn't realize he loves her, but\n",
        "eventually she realizes it and she loves him too! Westley leaves to seek his\n",
        "fortune overseas so they can marry. When his ship is attacked by the Dread\n",
        "Pirate Roberts, who is infamous for never leaving survivors, Westley is\n",
        "presumed dead...'''\n",
        "\n",
        "charcount = Counter(story.casefold())\n",
        "charcount"
      ],
      "execution_count": null,
      "outputs": []
    },
    {
      "cell_type": "markdown",
      "metadata": {
        "id": "x3OIMb2ISHNi"
      },
      "source": [
        "A counter is unordered. If we want to get the counted items by decreasing frequency, we can use the `most_common()` method. This produces a list of pairs with keys and values."
      ]
    },
    {
      "cell_type": "code",
      "metadata": {
        "id": "2VvW2iAJUa2e"
      },
      "source": [
        "charcount.most_common()"
      ],
      "execution_count": null,
      "outputs": []
    },
    {
      "cell_type": "markdown",
      "metadata": {
        "id": "99kapCYHUq3G"
      },
      "source": [
        "Let's get the 10 most common items in a specified format and print each character with its frequency. Of course, the space is invisible."
      ]
    },
    {
      "cell_type": "code",
      "metadata": {
        "id": "5RoCbvADRqep"
      },
      "source": [
        "for ch, freq in charcount.most_common(10):\n",
        "  print(ch, freq)"
      ],
      "execution_count": null,
      "outputs": []
    },
    {
      "cell_type": "markdown",
      "metadata": {
        "id": "hFaQUFeiQcBJ"
      },
      "source": [
        "Put only the frequencies of all items, in decreasing order, into a list. Print the first ten of these numbers."
      ]
    },
    {
      "cell_type": "code",
      "metadata": {
        "id": "MZsoDWx6UJoF"
      },
      "source": [
        "frequencies = [freq for ch, freq in charcount.most_common()]\n",
        "print(frequencies[:10])"
      ],
      "execution_count": null,
      "outputs": []
    },
    {
      "cell_type": "markdown",
      "metadata": {
        "id": "bl1k9pfuVHx2"
      },
      "source": [
        "Make a line plot of all frequencies with the `pyplot` module. Uncomment the `plt.figure` instruction to specify the plot resolution."
      ]
    },
    {
      "cell_type": "code",
      "metadata": {
        "id": "LOrBxYg8VNdf"
      },
      "source": [
        "# plt.figure(dpi=120)\n",
        "plt.plot(frequencies)\n",
        "plt.title('Character frequencies')\n",
        "plt.ylabel('Frequency')\n",
        "plt.xlabel('Index')\n",
        "plt.show()"
      ],
      "execution_count": null,
      "outputs": []
    },
    {
      "cell_type": "markdown",
      "metadata": {
        "id": "NStVob2FWg54"
      },
      "source": [
        "### Exercises\n",
        "\n",
        "1.   Can you make a counter of a set? Does it make sense?\n",
        "2.   For which purposes can knowledge about character frequencies be useful?\n",
        "3.   If you look at a frequency plot of characters in normal text, what do you observe? Why is it not a straight line?"
      ]
    }
  ]
}