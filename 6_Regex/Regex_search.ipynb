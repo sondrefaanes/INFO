{
  "nbformat": 4,
  "nbformat_minor": 0,
  "metadata": {
    "colab": {
      "provenance": []
    },
    "kernelspec": {
      "name": "python3",
      "display_name": "Python 3"
    },
    "language_info": {
      "name": "python"
    }
  },
  "cells": [
    {
      "cell_type": "markdown",
      "metadata": {
        "id": "6XUW5Lu0xI-N"
      },
      "source": [
        "# Regular expression search\n",
        "\n",
        "by Koenraad De Smedt at UiB"
      ]
    },
    {
      "cell_type": "markdown",
      "metadata": {
        "id": "O8tT0w7nxRxp"
      },
      "source": [
        "---\n",
        "Searching for patterns is a basic method in data science.\n",
        "\n",
        "Strings can be searched and manipulated by means of a regular expression (*RE* or *regex*) using functions from the `re` module. Regular expression indicate patterns of characters.\n",
        "\n",
        "This notebook demonstrates how to:\n",
        "\n",
        "1.   Search in a string for a match to a pattern\n",
        "2.   Find all matches to a pattern in a string\n",
        "\n",
        "For more information on regular expressions and their use for NLP, read Jurafsky & Martin. *Speech and Language Processing, 3rd ed.* Ch. 2: [Regular Expressions, Text Normalization, Edit Distance](https://web.stanford.edu/~jurafsky/slp3/2.pdf). However, note that there are a few system dependent conventions. Jurafsky & Martin use slashes to delimit regular expressions, but in Python they are simply strings.\n",
        "\n",
        "See also the [documentation of Python regular expression operations](https://docs.python.org/3/library/re.html) and the [Python regular expression howto](https://docs.python.org/3/howto/regex.html).\n",
        "\n",
        "---"
      ]
    },
    {
      "cell_type": "markdown",
      "source": [
        "In order to use regular expressions in Python, we should import the `re` module. Let's also make an example string in which we will search."
      ],
      "metadata": {
        "id": "WxtOvnQGkNaf"
      }
    },
    {
      "cell_type": "code",
      "metadata": {
        "id": "15dYjGd4xIKc"
      },
      "source": [
        "import re\n",
        "\n",
        "phrase = '- A whimsical musical... comedy!' "
      ],
      "execution_count": null,
      "outputs": []
    },
    {
      "cell_type": "markdown",
      "metadata": {
        "id": "OADLFltV7awa"
      },
      "source": [
        "## Search for a pattern match\n",
        "\n",
        "The `re.search` function searches for a regular expression in a string. It returns a match object containing the start and end points of the *first* match and the matching part of the string. If no match is found, the function returns `None`. The simplest regex is a string of regular characters. Note that search is case-sensitive."
      ]
    },
    {
      "cell_type": "code",
      "metadata": {
        "id": "a2wD-auj2265"
      },
      "source": [
        "print(re.search('ical', phrase))\n",
        "print(re.search('ICAL', phrase))"
      ],
      "execution_count": null,
      "outputs": []
    },
    {
      "cell_type": "markdown",
      "source": [
        "Some characters have a special meaning in a regular expression. The vertical bar `|` means *or* (disjunction). The following looks for two alternative strings and the search is successful as soon as one of them is found."
      ],
      "metadata": {
        "id": "KIIAZZlsP2rg"
      }
    },
    {
      "cell_type": "code",
      "source": [
        "print(re.search('comical|musical', phrase))"
      ],
      "metadata": {
        "id": "FXbskGJTQNP4"
      },
      "execution_count": null,
      "outputs": []
    },
    {
      "cell_type": "markdown",
      "source": [
        "Use parentheses for making a group. The following searches for *com* or *mus*, followed by *ical*. It is equivalent to the previous search, but more compact."
      ],
      "metadata": {
        "id": "5lhZxxNTQj_C"
      }
    },
    {
      "cell_type": "code",
      "source": [
        "print(re.search('(com|mus)ical', phrase))"
      ],
      "metadata": {
        "id": "EpDXbi_sPv9m"
      },
      "execution_count": null,
      "outputs": []
    },
    {
      "cell_type": "markdown",
      "metadata": {
        "id": "oNJMC2ir21_9"
      },
      "source": [
        "Square brackets contain a list of alternative *characters*. The regex `'[Aa] '` matches an *A* or *a* followed by a space. The first match is returned."
      ]
    },
    {
      "cell_type": "code",
      "metadata": {
        "id": "kpls8aha0l6L"
      },
      "source": [
        "print(re.search('[Aa] ', phrase))\n",
        "print(re.search('[Ww] ', phrase))"
      ],
      "execution_count": null,
      "outputs": []
    },
    {
      "cell_type": "markdown",
      "source": [
        "Between square brackets, the hyphen indicates a *span* of alternative characters. The following looks for all uppercase characters from A to and including Z."
      ],
      "metadata": {
        "id": "pV8QjoWUx09Y"
      }
    },
    {
      "cell_type": "code",
      "source": [
        "print(re.search('[A-Z]', phrase))"
      ],
      "metadata": {
        "id": "fOK4CiKnxr-z"
      },
      "execution_count": null,
      "outputs": []
    },
    {
      "cell_type": "markdown",
      "metadata": {
        "id": "NjS8m51i7g-B"
      },
      "source": [
        "The result of the search can be interpreted as a truth value and can thus be used in a conditional expression."
      ]
    },
    {
      "cell_type": "code",
      "metadata": {
        "id": "Q23pG82F09Hn"
      },
      "source": [
        "if (re.search('[x-z]!', phrase)):\n",
        "  print('There is a match')\n",
        "else:\n",
        "  print('There is no match')"
      ],
      "execution_count": null,
      "outputs": []
    },
    {
      "cell_type": "markdown",
      "source": [
        "A period in a regex stands for an arbitrary character."
      ],
      "metadata": {
        "id": "zxEmIgHhXhyX"
      }
    },
    {
      "cell_type": "code",
      "source": [
        "print(re.search('i..l', phrase))"
      ],
      "metadata": {
        "id": "aohXT2nVXdiR"
      },
      "execution_count": null,
      "outputs": []
    },
    {
      "cell_type": "markdown",
      "metadata": {
        "id": "63Gz4LZ4uD_1"
      },
      "source": [
        "If you want to match a literal period, use `\\.` In cases where the Python meaning of `\\` in a string literal might interfere with its meaning in a regular expression, one might prefer a [*raw* string preceded by `r`](https://docs.python.org/3/library/re.html#raw-string-notation). In practice, this seems necessary only in substitutions (see the notebook on Regex substitution)."
      ]
    },
    {
      "cell_type": "code",
      "metadata": {
        "id": "0V3EhjDIuMKd"
      },
      "source": [
        "print(re.search('....cal\\.', phrase))\n",
        "print(re.search(r'....cal\\.', phrase))"
      ],
      "execution_count": null,
      "outputs": []
    },
    {
      "cell_type": "markdown",
      "metadata": {
        "id": "sSgjZc8VsudQ"
      },
      "source": [
        "The asterisk indicates that the expression just before it should be matched zero or more times. The plus sign indicates that the previous expression should be matched one or more times."
      ]
    },
    {
      "cell_type": "code",
      "metadata": {
        "id": "q1RP6zZdstgW"
      },
      "source": [
        "print(re.search('....cal\\.* ', phrase))\n",
        "print(re.search('....cal\\.+ ', phrase))"
      ],
      "execution_count": null,
      "outputs": []
    },
    {
      "cell_type": "markdown",
      "source": [
        "Between square brackets, the period and other special characters do not need to be escaped. The following finds all matches of sequences containing one or more periods, exclamation marks and/or question marks."
      ],
      "metadata": {
        "id": "Z92eLvx3qoKv"
      }
    },
    {
      "cell_type": "code",
      "source": [
        "punctuation = '[.!?]+'\n",
        "re.findall(punctuation, phrase)"
      ],
      "metadata": {
        "id": "1T1HeYg2qnVA"
      },
      "execution_count": null,
      "outputs": []
    },
    {
      "cell_type": "markdown",
      "source": [
        "## Find all matches\n",
        "\n",
        "The `re.findall` function returns *all non-overlapping* matching parts of the string, not just the first one. Notice that the second expression in the following gives only one result, due to overlap."
      ],
      "metadata": {
        "id": "PjiSEs7ioDGp"
      }
    },
    {
      "cell_type": "code",
      "source": [
        "print(re.findall('....cal', phrase))\n",
        "print(re.findall('......cal', phrase))"
      ],
      "metadata": {
        "id": "05wlftJLnx4E"
      },
      "execution_count": null,
      "outputs": []
    },
    {
      "cell_type": "markdown",
      "source": [
        "RE matching is *eager*, which means it attempts to find the longest matching part of the string. Even if there are two potential shorter matches, the longest match is returned."
      ],
      "metadata": {
        "id": "3YVABpR8t_SC"
      }
    },
    {
      "cell_type": "code",
      "source": [
        "print(re.findall('.+cal', phrase))"
      ],
      "metadata": {
        "id": "h530rsUgtxMI"
      },
      "execution_count": null,
      "outputs": []
    },
    {
      "cell_type": "markdown",
      "source": [
        "If you use *groups* with parentheses in `re.findall`, then only the matches for the groups are returned. If there is more than one group, you will get a list of tuples containing the groups."
      ],
      "metadata": {
        "id": "l8GHOQ7V6NZF"
      }
    },
    {
      "cell_type": "code",
      "source": [
        "print(re.findall('([A-Za-z]+)al', phrase))\n",
        "print(re.findall('([A-Za-z]+)(al)', phrase))"
      ],
      "metadata": {
        "id": "hcVLzeEH5upK"
      },
      "execution_count": null,
      "outputs": []
    },
    {
      "cell_type": "markdown",
      "source": [
        "## Lookbehind and lookahead\n",
        "\n",
        "Matches are non-overlapping. After the first match, the matching part of the string cannot be usef for other matches. Even though there are two potential matches, `'ome'` and `'edy'`, these two overlap, so that only the first one is returned."
      ],
      "metadata": {
        "id": "ZFcX4ClWKL8G"
      }
    },
    {
      "cell_type": "code",
      "source": [
        "re.findall('[oey][md][oey]', 'comedy')"
      ],
      "metadata": {
        "id": "I2ndTIIBKFci"
      },
      "execution_count": null,
      "outputs": []
    },
    {
      "cell_type": "markdown",
      "source": [
        "If you want overlapping matches anyway, a possible solution is looking for patterns before and/or after a match, without actually making them part of the match. In the following, `?<=` looks behind to a left context and `?=` looks ahead to a right context. Notice that the lookbehind and lookahead are not part of the match."
      ],
      "metadata": {
        "id": "WtcChBXJLKp5"
      }
    },
    {
      "cell_type": "code",
      "source": [
        "re.findall('(?<=[oey])[md](?=[oey])', 'comedy')"
      ],
      "metadata": {
        "id": "fk9JYm9ZLJap"
      },
      "execution_count": null,
      "outputs": []
    },
    {
      "cell_type": "markdown",
      "metadata": {
        "id": "KjURbnxTCzQj"
      },
      "source": [
        "### Exercises\n",
        "\n",
        "Use the following text (loosely based on a news report) to test your exercise solutions.\n",
        "```\n",
        "text = '''20 isbreer i Norge er nå borte:\n",
        "364 kvadratkilometer isbre har forsvunnet mellom 2006 og\n",
        "2022. Det tilsvarer et område på størrelse med Mjøsa!!!\n",
        "Samtidig som de 20 breene har forsvunnet, har isbreer\n",
        "i Norge totalt minket 14,5 prosent siden forrige kartlegging.\n",
        "Ismassene som har smeltet bort siden da, har en størrelse\n",
        "på 364 kvadratkilometer til sammen; det er et område like\n",
        "stort som omtrent 50.000 fotballbaner... Kan denne utviklingen\n",
        "stanses??\n",
        "'''\n",
        "```\n",
        "\n",
        "1.   Use a regex to find the number of sentence delimiters in the text, where a sentence delimiter consists of *one or more* consecutive periods, colons, semicolons, exclamation marks or question marks, followed by a space or newline.\n",
        "2.   Use a regex to find how many digits there are in the string. Note: instead of `[0-9]`, you can also use `\\d`. Try it.\n",
        "3.   Use a regex to find the numbers in the text, where a number is a sequence of digits, possibly containing a period or comma between digits. Tip: use a disjunction. Before the `|` write a pattern for numbers with period or comma and after `|` write a pattern for plain numbers.\n"
      ]
    }
  ]
}