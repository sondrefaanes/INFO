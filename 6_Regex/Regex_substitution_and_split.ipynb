{
  "nbformat": 4,
  "nbformat_minor": 0,
  "metadata": {
    "colab": {
      "provenance": []
    },
    "kernelspec": {
      "name": "python3",
      "display_name": "Python 3"
    },
    "language_info": {
      "name": "python"
    }
  },
  "cells": [
    {
      "cell_type": "markdown",
      "metadata": {
        "id": "6XUW5Lu0xI-N"
      },
      "source": [
        "# Regular expressions: substitution and split\n",
        "\n",
        "by Koenraad De Smedt at UiB"
      ]
    },
    {
      "cell_type": "markdown",
      "metadata": {
        "id": "O8tT0w7nxRxp"
      },
      "source": [
        "---\n",
        "This tutorial is a continuation of the one about regex search. It shows substitution and splitting of strings based on regex. These are basic techniques for manipulating string patterns. There are some more techniques which are not demonstrated here. If you want to know more about regex in Python, see the [documentation](https://docs.python.org/3/library/re.html).\n",
        "\n",
        "---"
      ]
    },
    {
      "cell_type": "code",
      "source": [
        "import re\n",
        "\n",
        "phrase = '- A whimsical musical... comedy!'"
      ],
      "metadata": {
        "id": "ClEnzih3uq9t"
      },
      "execution_count": null,
      "outputs": []
    },
    {
      "cell_type": "markdown",
      "metadata": {
        "id": "AEq6xYz698px"
      },
      "source": [
        "## Substitution\n",
        "\n",
        "The `re.sub` function substitutes parts that match a regular expression. Notice that the longest possible match is used."
      ]
    },
    {
      "cell_type": "code",
      "metadata": {
        "id": "YLU0kyhpzFhI"
      },
      "source": [
        "print(re.sub('w.*ical', 'tragical', phrase))"
      ],
      "execution_count": null,
      "outputs": []
    },
    {
      "cell_type": "markdown",
      "metadata": {
        "id": "wWxc9kZj2SZi"
      },
      "source": [
        "If several matches are found, each of them is replaced. The following substitutes a newline for each sequence of periods and/or spaces.\n"
      ]
    },
    {
      "cell_type": "code",
      "metadata": {
        "id": "kWUrAB1t3dnN"
      },
      "source": [
        "print(re.sub('[. ]+', '\\n', phrase))"
      ],
      "execution_count": null,
      "outputs": []
    },
    {
      "cell_type": "markdown",
      "source": [
        "A *caret* (circumflex) at the beginning of a square bracket expression means *negation*. In the following, all characters that are *not* *a, e, i, o, u* or *y* are substituted."
      ],
      "metadata": {
        "id": "-bLlR7XNkhru"
      }
    },
    {
      "cell_type": "code",
      "source": [
        "print(re.sub('[^aeiouy]', '*', phrase))"
      ],
      "metadata": {
        "id": "_6iw9d6tkH7F"
      },
      "execution_count": null,
      "outputs": []
    },
    {
      "cell_type": "markdown",
      "source": [
        "## Word characters\n",
        "\n",
        "`\\w` matches any letter, digit or underscore."
      ],
      "metadata": {
        "id": "olCNPvZBp9Qq"
      }
    },
    {
      "cell_type": "code",
      "metadata": {
        "id": "Y3cXiVht97mC"
      },
      "source": [
        "print(re.sub('\\w', '*', phrase))"
      ],
      "execution_count": null,
      "outputs": []
    },
    {
      "cell_type": "markdown",
      "metadata": {
        "id": "Zw24CNQ44mnQ"
      },
      "source": [
        "Text can be omitted by replacing it with the empty string."
      ]
    },
    {
      "cell_type": "code",
      "metadata": {
        "id": "4hWnpq1d4ljn"
      },
      "source": [
        "print(re.sub('\\w+', '', phrase))"
      ],
      "execution_count": null,
      "outputs": []
    },
    {
      "cell_type": "markdown",
      "metadata": {
        "id": "wd8z2XVo45bm"
      },
      "source": [
        "`\\W` matches anything which is *not* a letter, digit or underscore."
      ]
    },
    {
      "cell_type": "code",
      "metadata": {
        "id": "oxjN8Ywv4XP1"
      },
      "source": [
        "print(re.sub('\\W+', ' ', phrase))\n",
        "print(re.sub('\\W+', '', phrase))"
      ],
      "execution_count": null,
      "outputs": []
    },
    {
      "cell_type": "markdown",
      "source": [
        "Since Python3 supports Unicode, `\\w` matches not only `[a-zA-Z0-9_]` but also letters from other alphabets. Similarly for `\\W`."
      ],
      "metadata": {
        "id": "uwL_vtFgtsuI"
      }
    },
    {
      "cell_type": "code",
      "source": [
        "print(re.sub('\\w', '*', '- Håkon bløffer fælt.'))\n",
        "print(re.sub('\\W', '*', '- Håkon bløffer fælt.'))"
      ],
      "metadata": {
        "id": "Wi5y3--Wtv_U"
      },
      "execution_count": null,
      "outputs": []
    },
    {
      "cell_type": "markdown",
      "metadata": {
        "id": "cXS9ZiONdRCP"
      },
      "source": [
        "## Groups\n",
        "\n",
        "Groups are marked with parentheses. The replacement refers to matching groups by means of indices with backslash, such as `\\1`, `\\2`, and so on.\n",
        "\n",
        "The use of \\ for the numbered groups interferes with the normal use of \\ to escape characters in Python strings. Therefor you must either write a [raw string preceded by `r`](https://docs.python.org/3/library/re.html#raw-string-notation), or you must used double backslash, such as `\\\\1`.\n",
        "\n",
        "The following replaces a *c* by an *s* before an *i* or *e*."
      ]
    },
    {
      "cell_type": "code",
      "source": [
        "print(re.sub('c([ie])', 's\\\\1', 'citron'))"
      ],
      "metadata": {
        "id": "3_FRDWgcovn5"
      },
      "execution_count": null,
      "outputs": []
    },
    {
      "cell_type": "markdown",
      "source": [
        "The following example refers to two matching groups and reverses them."
      ],
      "metadata": {
        "id": "2ybWnBShpcbE"
      }
    },
    {
      "cell_type": "code",
      "metadata": {
        "id": "owFwK82K5Yo6"
      },
      "source": [
        "print(re.sub('(\\w+ical) (\\w+ical)', r'\\2 \\1', phrase))"
      ],
      "execution_count": null,
      "outputs": []
    },
    {
      "cell_type": "markdown",
      "source": [
        "## Lookbehind and lookahead\n",
        "\n",
        "Substitution is performed only on non-overlapping patterns. Consider the following simplified rule for intervocalic voicing of fricatives. After matching `'ofi'`, this part of the string has been consumed, so that `'ifa'` will not match."
      ],
      "metadata": {
        "id": "bBA8Y8uo-JWi"
      }
    },
    {
      "cell_type": "code",
      "source": [
        "re.sub('([aio])f([aio])', r'\\1v\\2', 'xofifan')"
      ],
      "metadata": {
        "id": "xMCYLxXD-BRF"
      },
      "execution_count": null,
      "outputs": []
    },
    {
      "cell_type": "markdown",
      "source": [
        "A possible workaround is looking for patterns before and/or after a match, without actually making them part of the match. In the following, `?<=` looks behind to a left context and `?=` looks ahead to a right context."
      ],
      "metadata": {
        "id": "wvOaFCrv-mbZ"
      }
    },
    {
      "cell_type": "code",
      "source": [
        "re.sub('(?<=[aio])f(?=[aio])', r'v', 'xofifan')"
      ],
      "metadata": {
        "id": "oB5zu5vD_Xcu"
      },
      "execution_count": null,
      "outputs": []
    },
    {
      "cell_type": "markdown",
      "source": [
        "## Anchors\n",
        "\n",
        "The characters `^` and `$` are *anchors* that indicate the beginning and end of the string, respectively. In the following `^p` matches a *p* only at the beginning of the string, and `,$` matches a comma only at the end of the string."
      ],
      "metadata": {
        "id": "pCsEDG0TLnWE"
      }
    },
    {
      "cell_type": "code",
      "source": [
        "genres = '''poetry,\n",
        "novel,\n",
        "short story,\n",
        "documentary,\n",
        "biography,'''\n",
        "\n",
        "print(re.sub('^p', 'P', (re.sub(',$', '.', genres))))"
      ],
      "metadata": {
        "id": "VdsSRy_yLIGP"
      },
      "execution_count": null,
      "outputs": []
    },
    {
      "cell_type": "markdown",
      "source": [
        "If you want to match a newline, use the `\\n` code. Note that the end of the string is not necessarily a newline."
      ],
      "metadata": {
        "id": "-NCth-kRNuyG"
      }
    },
    {
      "cell_type": "code",
      "source": [
        "print(re.sub('[,.]\\n', ' or ', genres))"
      ],
      "metadata": {
        "id": "ZHyfbsq_M8ju"
      },
      "execution_count": null,
      "outputs": []
    },
    {
      "cell_type": "markdown",
      "metadata": {
        "id": "GTNq7tdU_RfF"
      },
      "source": [
        "## Flags\n",
        "\n",
        "Normally RE operations are case-sensitive. Adding the `re.I` flag ignores case in the matching. The question mark indicates that the previous item is optional."
      ]
    },
    {
      "cell_type": "code",
      "metadata": {
        "id": "5rzsCVAA_dBK"
      },
      "source": [
        "print(re.sub('C.?M', 'TRAG', phrase, flags=re.I))"
      ],
      "execution_count": null,
      "outputs": []
    },
    {
      "cell_type": "markdown",
      "source": [
        "## Special characters\n",
        "\n",
        "By now, it should be clear that several characters have special meanings in regular expressions:\n",
        "\n",
        "> `. * + [ ] ( ) | ? ^ $`\n",
        "\n",
        "Also the following have special meanings, see the [chapter on regular expressions by Jurafsky & Martin](https://web.stanford.edu/~jurafsky/slp3/2.pdf), but I will not give examples here.\n",
        "\n",
        "> `{ }`\n",
        "\n",
        "As mentioned before, special characters must be escaped in regex search strings if they are to be taken literally."
      ],
      "metadata": {
        "id": "aaVoT_UTietw"
      }
    },
    {
      "cell_type": "code",
      "source": [
        "print(re.sub('\\.+ ', ' — ', phrase))"
      ],
      "metadata": {
        "id": "8kOjQsSakXdN"
      },
      "execution_count": null,
      "outputs": []
    },
    {
      "cell_type": "markdown",
      "metadata": {
        "id": "nEJlmWDQoYfP"
      },
      "source": [
        "## [Split](https://hr.wikipedia.org/wiki/Split)\n",
        "\n",
        "A string can be split with a given regular expression. This results in a list of strings. The following splits a string at a series of periods and/or spaces."
      ]
    },
    {
      "cell_type": "code",
      "metadata": {
        "id": "EjfAXFItn2OJ"
      },
      "source": [
        "print(re.split('[. ]+', phrase))"
      ],
      "execution_count": null,
      "outputs": []
    },
    {
      "cell_type": "markdown",
      "source": [
        "If there is a matching group at the beginning or end of the string, an empty string may appear in the result."
      ],
      "metadata": {
        "id": "oweu8Gutsf_a"
      }
    },
    {
      "cell_type": "code",
      "source": [
        "re.split('\\W+', 'Bergen? -- Bergen... Bergen!')"
      ],
      "metadata": {
        "id": "Kg-UhWkusAq3"
      },
      "execution_count": null,
      "outputs": []
    },
    {
      "cell_type": "markdown",
      "metadata": {
        "id": "KjURbnxTCzQj"
      },
      "source": [
        "### Exercises\n",
        "\n",
        "1.   Extend the previous expression to include other punctuation marks, such as question marks, exclamation marks, etc. Use this to divide a longer text into sentences.\n",
        "2.   Use a regexp to omit vowels `[aeiouy]` from a string. Test. \n",
        "3.   Expand English contractions with negation in a text. For instance, replace *n’t* at the end of a word by a space followed by *not*, so that *don’t* becomes *do not* and *doesn’t* becomes *does not*. Note that some other contractions, such as *won’t* and *can't*, must be handled separately."
      ]
    }
  ]
}