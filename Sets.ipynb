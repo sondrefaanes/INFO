{
  "nbformat": 4,
  "nbformat_minor": 0,
  "metadata": {
    "colab": {
      "provenance": [],
      "include_colab_link": true
    },
    "kernelspec": {
      "name": "python3",
      "display_name": "Python 3"
    },
    "language_info": {
      "name": "python"
    }
  },
  "cells": [
    {
      "cell_type": "markdown",
      "metadata": {
        "id": "view-in-github",
        "colab_type": "text"
      },
      "source": [
        "<a href=\"https://colab.research.google.com/github/sondrefaanes/INFO/blob/main/Sets.ipynb\" target=\"_parent\"><img src=\"https://colab.research.google.com/assets/colab-badge.svg\" alt=\"Open In Colab\"/></a>"
      ]
    },
    {
      "cell_type": "markdown",
      "metadata": {
        "id": "l36pscp3TgT3"
      },
      "source": [
        "# Sets\n",
        "\n",
        "by Koenraad De Smedt at UiB\n"
      ]
    },
    {
      "cell_type": "markdown",
      "metadata": {
        "id": "HjFvRCpyTvFs"
      },
      "source": [
        "---\n",
        "Sets are *unordered* collections of *unique* items. Because a set is not ordered, it cannot be indexed or sorted.\n",
        "\n",
        "---"
      ]
    },
    {
      "cell_type": "code",
      "metadata": {
        "id": "c2GxGh-VZAd-"
      },
      "source": [
        "languages = {'Wolof', 'Akan', 'French', 'Akan', 'Wolof'}\n",
        "print(languages)"
      ],
      "execution_count": null,
      "outputs": []
    },
    {
      "cell_type": "markdown",
      "source": [
        "Some operations work on sets as well as on sequences."
      ],
      "metadata": {
        "id": "OfnU-r9PJCnI"
      }
    },
    {
      "cell_type": "code",
      "metadata": {
        "id": "gUtndUdCRbQ0"
      },
      "source": [
        "' & '.join(languages)"
      ],
      "execution_count": null,
      "outputs": []
    },
    {
      "cell_type": "code",
      "source": [
        "'Wolof' in languages"
      ],
      "metadata": {
        "id": "8fElTihxuKCK"
      },
      "execution_count": null,
      "outputs": []
    },
    {
      "cell_type": "markdown",
      "source": [
        "Because sets are unordered, the following is True."
      ],
      "metadata": {
        "id": "SmpWcshxfhsV"
      }
    },
    {
      "cell_type": "code",
      "source": [
        "{'Warlpiri', 'Estonian'} == {'Estonian', 'Warlpiri'}"
      ],
      "metadata": {
        "id": "PKn-S_hLfkZd"
      },
      "execution_count": null,
      "outputs": []
    },
    {
      "cell_type": "markdown",
      "metadata": {
        "id": "6wncHwaIvHzp"
      },
      "source": [
        "Sets can be changed. We cannot use `.append`, because sets are unordered. Instead, we can `.add` an element to a set, if it is not already there."
      ]
    },
    {
      "cell_type": "code",
      "metadata": {
        "id": "MLLbke11vRi3"
      },
      "source": [
        "languages.add('Tagalog')\n",
        "languages"
      ],
      "execution_count": null,
      "outputs": []
    },
    {
      "cell_type": "markdown",
      "source": [
        "We can also `.remove` an element from a set. These adding and removing operations effectively change the set."
      ],
      "metadata": {
        "id": "DvGdHdU8b1Tl"
      }
    },
    {
      "cell_type": "code",
      "source": [
        "languages.remove('French')\n",
        "languages"
      ],
      "metadata": {
        "id": "Qk7vthwlcVCU"
      },
      "execution_count": null,
      "outputs": []
    },
    {
      "cell_type": "markdown",
      "source": [
        "It is an error if the element does not exist. To avoid an error, a condition can be used. After `if`, write a test, a colon and an indented block which will only be executed if the test is true."
      ],
      "metadata": {
        "id": "wguR37ThdTrJ"
      }
    },
    {
      "cell_type": "code",
      "source": [
        "if 'Frisian' in languages:\n",
        "  languages.remove('Frisian')\n",
        "languages"
      ],
      "metadata": {
        "id": "8ZHZ5ekodEWc"
      },
      "execution_count": null,
      "outputs": []
    },
    {
      "cell_type": "markdown",
      "source": [
        "Sets cannot be concatenated because they are unordered, but we can compute the *union* of two sets."
      ],
      "metadata": {
        "id": "g2QmJZg7Fk2g"
      }
    },
    {
      "cell_type": "code",
      "source": [
        "languages | {'Hindi', 'Kannada', 'Dogri', 'Akan'}"
      ],
      "metadata": {
        "id": "e0VROBiHFlP1"
      },
      "execution_count": null,
      "outputs": []
    },
    {
      "cell_type": "markdown",
      "source": [
        "We can also compute set difference, i.e. all items which are in the first set but not in the second. The set union and difference operators produce a new set and do not modify the original sets."
      ],
      "metadata": {
        "id": "stIhdHfPZ0Q5"
      }
    },
    {
      "cell_type": "code",
      "source": [
        "languages - {'Wolof', 'Hopi'}"
      ],
      "metadata": {
        "id": "DLIgdlF2ZzWU"
      },
      "execution_count": null,
      "outputs": []
    },
    {
      "cell_type": "markdown",
      "metadata": {
        "id": "KOdTzkpPiE3P"
      },
      "source": [
        "A set can be made with the elements of a sequence."
      ]
    },
    {
      "cell_type": "code",
      "metadata": {
        "id": "6AkzBYfkiO8t"
      },
      "source": [
        "grades = [10, 6, 8, 6, 7.5, 9, 9]\n",
        "set(grades)"
      ],
      "execution_count": null,
      "outputs": []
    },
    {
      "cell_type": "markdown",
      "source": [
        "Conversely, you can make a list with all elements of a set. This may be useful if you want to sort the elements of a set, because a set itself cannot be sorted."
      ],
      "metadata": {
        "id": "tcf_YP_tNcWf"
      }
    },
    {
      "cell_type": "code",
      "source": [
        "list(languages)"
      ],
      "metadata": {
        "id": "EJvRKMu1NsBc"
      },
      "execution_count": null,
      "outputs": []
    },
    {
      "cell_type": "code",
      "source": [
        "sorted(list(languages))"
      ],
      "metadata": {
        "id": "AdDKDDO2NxDM"
      },
      "execution_count": null,
      "outputs": []
    },
    {
      "cell_type": "code",
      "source": [
        "sorted(list(set(grades)))"
      ],
      "metadata": {
        "id": "on6pWE5T5bCX"
      },
      "execution_count": null,
      "outputs": []
    },
    {
      "cell_type": "markdown",
      "metadata": {
        "id": "dzZ9PIwHiWAs"
      },
      "source": [
        "### Exercises\n",
        "\n",
        "1.   What happens if you try to take the first element of a set?\n",
        "2.   What happens if you try to `.add` an element which is already there?\n",
        "3.   Why doesn’t it make sense to use `.count` on a set?\n",
        "4.   Can you make a set from a string? Try it.\n",
        "5.   Check if two strings are composed of the same set of letters.\n"
      ]
    }
  ]
}