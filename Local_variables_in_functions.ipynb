{
  "nbformat": 4,
  "nbformat_minor": 0,
  "metadata": {
    "colab": {
      "provenance": [],
      "include_colab_link": true
    },
    "kernelspec": {
      "name": "python3",
      "display_name": "Python 3"
    },
    "language_info": {
      "name": "python"
    }
  },
  "cells": [
    {
      "cell_type": "markdown",
      "metadata": {
        "id": "view-in-github",
        "colab_type": "text"
      },
      "source": [
        "<a href=\"https://colab.research.google.com/github/sondrefaanes/INFO/blob/main/Local_variables_in_functions.ipynb\" target=\"_parent\"><img src=\"https://colab.research.google.com/assets/colab-badge.svg\" alt=\"Open In Colab\"/></a>"
      ]
    },
    {
      "cell_type": "markdown",
      "metadata": {
        "id": "jId2Pst6ok_R"
      },
      "source": [
        "## Local variables in functions\n",
        "\n",
        "by Koenraad De Smedt at UiB"
      ]
    },
    {
      "cell_type": "markdown",
      "source": [
        "---\n",
        "Function parameters are *local* variables, in the sense that they only hold their value in the scope of the function, that is, while the function is executing. \n",
        "\n",
        "Additional local variables can be assigned inside a function. All these local variables lose their value after the function is executed.\n",
        "\n",
        "In contrast, *global* variables are those which are assigned a value outside the scope of a function. They keep their value for the duration of the session or until they are assigned another value.\n",
        "\n",
        "---"
      ],
      "metadata": {
        "id": "cwEKLcwSVaZX"
      }
    },
    {
      "cell_type": "markdown",
      "source": [
        "The following function returns the mean of the numbers in a list. The parameter `l` holds the values of the argument which is passed to the function. This value is known inside the function."
      ],
      "metadata": {
        "id": "0lLvIL5QG8E3"
      }
    },
    {
      "cell_type": "code",
      "source": [
        "def mean_value (l):\n",
        "  print('The list has', len(l), 'elements')\n",
        "  return sum(l) / len(l)\n",
        "mean_value([4, 2, 3, 1, 5, 4, 0])"
      ],
      "metadata": {
        "id": "ensYxaZAatbM"
      },
      "execution_count": null,
      "outputs": []
    },
    {
      "cell_type": "markdown",
      "source": [
        "\n",
        "After execution, the parameter `l` loses its value. Therefore, the following will not work."
      ],
      "metadata": {
        "id": "791c_mlLe1qQ"
      }
    },
    {
      "cell_type": "code",
      "source": [
        "print(l)"
      ],
      "metadata": {
        "id": "OBxz8_kwexsw"
      },
      "execution_count": null,
      "outputs": []
    },
    {
      "cell_type": "markdown",
      "source": [
        "Functions can introduce additional *local* variables. This is often a useful way to break down the computation in steps. These local variables only hold during execution of the function."
      ],
      "metadata": {
        "id": "dseZIhLlqmRU"
      }
    },
    {
      "cell_type": "code",
      "source": [
        "def mean_value (l):\n",
        "  s = sum(l)\n",
        "  ll = len(l)\n",
        "  print('The list has', ll, 'elements with sum', s)\n",
        "  return s / ll\n",
        "mean_value([4, 2, 3, 1, 5, 4, 0])"
      ],
      "metadata": {
        "id": "80J4mVaIpiyd"
      },
      "execution_count": null,
      "outputs": []
    },
    {
      "cell_type": "markdown",
      "source": [
        "It is important that all consecutive statements are in an indented block, so that it is clear where the definition ends. The following will not work, because the `print` statement is outside the indented block and therefore `s` and `ll` are unknown."
      ],
      "metadata": {
        "id": "Toh38IuQrJa_"
      }
    },
    {
      "cell_type": "code",
      "source": [
        "def mean_value (l):\n",
        "  s = sum(l)\n",
        "  ll = len(l)\n",
        "print('The list has', ll, 'elements with sum', s)\n",
        "mean_value([4, 2, 3, 1, 5, 4, 0])"
      ],
      "metadata": {
        "id": "ohsIz-P7rNH9"
      },
      "execution_count": null,
      "outputs": []
    },
    {
      "cell_type": "markdown",
      "source": [
        "In contrast, `li` in the following is a *global* variable, which means it keeps its value for the duration of the session or until it is explicitly changed."
      ],
      "metadata": {
        "id": "1CulLZIpZfe1"
      }
    },
    {
      "cell_type": "code",
      "source": [
        "li = [4, 2, 3, 1, 5, 4, 0]\n",
        "def mean_value (l):\n",
        "  s = sum(l)\n",
        "  ll = len(l)\n",
        "  print('The list has', ll, 'elements with sum', s)\n",
        "  return s / ll\n",
        "print(mean_value(li))\n",
        "print(li)"
      ],
      "metadata": {
        "id": "rHAfnlDoZS-P"
      },
      "execution_count": null,
      "outputs": []
    },
    {
      "cell_type": "markdown",
      "source": [
        "It is possible to use a parameter or other local variable with the same name as a global variable. In that case, the variable's local value will “mask” (or “[shadow](https://en.wikipedia.org/wiki/Variable_shadowing)”) its global value for the duration of the function execution. After execution, the value of the global variable will be restored."
      ],
      "metadata": {
        "id": "OD6p-0ZfZv4C"
      }
    },
    {
      "cell_type": "code",
      "source": [
        "li = [4, 2, 3, 1, 5, 4, 0]\n",
        "def mean_value (li):\n",
        "  s = sum(li)\n",
        "  li = len(li)\n",
        "  print('The list has', li, 'elements with sum', s)\n",
        "  return s / li\n",
        "print(mean_value(li))\n",
        "print(li)"
      ],
      "metadata": {
        "id": "CZ7SxgqQZt0a"
      },
      "execution_count": null,
      "outputs": []
    },
    {
      "cell_type": "markdown",
      "source": [
        "It is of course not very good practice to use global and local variables with the same name, because it may cause confusion."
      ],
      "metadata": {
        "id": "Gl-7JlvXa7GH"
      }
    },
    {
      "cell_type": "markdown",
      "metadata": {
        "id": "USfAIUONrbf9"
      },
      "source": [
        "### Exercises\n",
        "\n",
        "1.   Why is the following bad? Try it.\n"
      ]
    },
    {
      "cell_type": "code",
      "source": [
        "li = [4, 2, 3, 1, 5, 4, 0]\n",
        "def mean_value (l):\n",
        "  s = sum(li)\n",
        "  ll = len(li)\n",
        "  print('The list has', ll, 'elements with sum', s)\n",
        "  return s / ll\n",
        "print(mean_value(li))\n",
        "print(mean_value([30, 20, 4]))"
      ],
      "metadata": {
        "id": "1b8adup6eLTv"
      },
      "execution_count": null,
      "outputs": []
    }
  ]
}