{
  "nbformat": 4,
  "nbformat_minor": 0,
  "metadata": {
    "colab": {
      "provenance": []
    },
    "kernelspec": {
      "name": "python3",
      "display_name": "Python 3"
    },
    "language_info": {
      "name": "python"
    }
  },
  "cells": [
    {
      "cell_type": "markdown",
      "metadata": {
        "id": "nkYWz9FGhIFB"
      },
      "source": [
        "# Palindromes\n",
        "\n",
        "by Koenraad De Smedt at UiB"
      ]
    },
    {
      "cell_type": "markdown",
      "metadata": {
        "id": "hMkrU9AQhO-6"
      },
      "source": [
        "---\n",
        "Palindromes are words or sentences that are the same as when written backward. Examples of palindromic words are *kayak* and *dad*. Examples of palindromic phrases are [*I am AI*](https://www.nvidia.com/en-us/about-nvidia/i-am-ai/) and [*In girum imus nocte et consumimur igni*](https://www.tate.org.uk/art/artworks/wyn-evans-in-girum-imus-nocte-et-consumimur-igni-t12314), but only if we disregard differences in spacing and case.\n",
        "\n",
        "This notebook demonstrates how to:\n",
        "\n",
        "1.  Test if something is a palindrome\n",
        "2.  Check if a line is a palindrome, for every line in a string.\n",
        "\n",
        "---"
      ]
    },
    {
      "cell_type": "markdown",
      "source": [
        " As a starting point, consider that strings can easily be reversed by slicing with a negative step."
      ],
      "metadata": {
        "id": "1C87IFdcXEj3"
      }
    },
    {
      "cell_type": "code",
      "metadata": {
        "id": "dB-hGEiMhE3E"
      },
      "source": [
        "'dam'[::-1]"
      ],
      "execution_count": null,
      "outputs": []
    },
    {
      "cell_type": "markdown",
      "metadata": {
        "id": "u8TM_Yxvitig"
      },
      "source": [
        "So we can easily define a function compares a string with its reverse and returns a truth value. Simple! "
      ]
    },
    {
      "cell_type": "code",
      "metadata": {
        "id": "43kJ1VFO7YZu"
      },
      "source": [
        "def palindrome_test (s):\n",
        "  return s == s[::-1]"
      ],
      "execution_count": null,
      "outputs": []
    },
    {
      "cell_type": "markdown",
      "source": [
        "\n",
        "(If you think this is complicated, compare it to a program for the same task in [Assembly Code](https://rosettacode.org/wiki/Palindrome_detection#8086_Assembly).)"
      ],
      "metadata": {
        "id": "eesvT-R_GqlS"
      }
    },
    {
      "cell_type": "markdown",
      "metadata": {
        "id": "2OLfT0PZ9ZUY"
      },
      "source": [
        "Let's test. The function will only work on *strict* palindromes. It does not disregard spacing, case and punctuation differences."
      ]
    },
    {
      "cell_type": "code",
      "metadata": {
        "id": "bbdtbf5F9Zun"
      },
      "source": [
        "print(palindrome_test('kayak'))\n",
        "print(palindrome_test('dad'))\n",
        "print(palindrome_test('Anna'))\n",
        "print(palindrome_test('I am AI.'))"
      ],
      "execution_count": null,
      "outputs": []
    },
    {
      "cell_type": "markdown",
      "metadata": {
        "id": "TypduDq_9nKL"
      },
      "source": [
        "Suppose we have a list of words in a string, each word on a line, we can split the string in lines and iterate through the list of lines, each time testing if the word is a palindrome and printing it only if so. A string which continues over several lines must start and end with triple quotes."
      ]
    },
    {
      "cell_type": "code",
      "metadata": {
        "id": "Vub2NR8N8EzV"
      },
      "source": [
        "words = '''kayak\n",
        "dad\n",
        "mom\n",
        "apple\n",
        "radar\n",
        "deed\n",
        "Anna\n",
        "22.02.2022\n",
        "I am AI.\n",
        "Was it a car or a cat I saw?'''\n",
        "\n",
        "for line in words.splitlines():\n",
        "  if palindrome_test(line):\n",
        "    print(line)"
      ],
      "execution_count": null,
      "outputs": []
    },
    {
      "cell_type": "markdown",
      "metadata": {
        "id": "iQlCm3YQ-vzQ"
      },
      "source": [
        "### Exercises\n",
        "\n",
        "1.   The above only selects strict (or exact) palindromes. Make a new function `Palindrome_test` which disregards case differences by using `casefold` and replaces spaces, periods etc. by nothing. In fact, you may want to remove everything which is not a digit or letter, but that will be easier after reading the notebook on *Regex substitution*.\n",
        "2.   (optional) There is another, probably more useful application which implies the reversal of strings. A *retrograde* dictionary is a dictionary which is alphabetically sorted from the end of its words. See [a page from Dansk Retrograd Ordbog](https://git.app.uib.no/desmedt/teaching/-/raw/main/Dansk%20retrograd%20ordbog%20s3.pdf?inline=true) as an example. Think of a strategy for making such a dictionary. Write code that takes a string with a word on each line and writes a corresponding retrograde list of words."
      ]
    }
  ]
}