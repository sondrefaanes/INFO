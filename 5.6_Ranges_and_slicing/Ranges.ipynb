{
  "nbformat": 4,
  "nbformat_minor": 0,
  "metadata": {
    "colab": {
      "provenance": []
    },
    "kernelspec": {
      "name": "python3",
      "display_name": "Python 3"
    },
    "language_info": {
      "name": "python"
    }
  },
  "cells": [
    {
      "cell_type": "markdown",
      "metadata": {
        "id": "B2dxjrs1Xjd7"
      },
      "source": [
        "# Ranges\n",
        "\n",
        "by Koenraad De Smedt at UiB"
      ]
    },
    {
      "cell_type": "markdown",
      "source": [
        "---\n",
        "A *range* is a sequence of integers with a start and an end. It is however not a list and it is not a generator.\n",
        "\n",
        "---"
      ],
      "metadata": {
        "id": "uWzDDZtuIC1A"
      }
    },
    {
      "cell_type": "markdown",
      "metadata": {
        "id": "uB7K2dPZ4XYY"
      },
      "source": [
        " If we specify only one argument, the range starts by default at 0 and stops before the given end."
      ]
    },
    {
      "cell_type": "code",
      "metadata": {
        "id": "xTrOaASIXhCA"
      },
      "source": [
        "r = range(10)\n",
        "r"
      ],
      "execution_count": null,
      "outputs": []
    },
    {
      "cell_type": "markdown",
      "metadata": {
        "id": "w5Abn6KOXpsh"
      },
      "source": [
        "If we specify two arguments, the range is from the first number (inclusive) until the second argument (exclusive)."
      ]
    },
    {
      "cell_type": "code",
      "metadata": {
        "id": "zA2MyM4u4WnS"
      },
      "source": [
        "r = range(10,15)\n",
        "r"
      ],
      "execution_count": null,
      "outputs": []
    },
    {
      "cell_type": "markdown",
      "metadata": {
        "id": "WCFz6GP_Y8Ic"
      },
      "source": [
        "We can iterate over a range by means of a list comprehension, for instance. This results in a list. Notice that the end of the range is not included.\n",
        "\n"
      ]
    },
    {
      "cell_type": "code",
      "metadata": {
        "id": "j3bRqTnoZYw9"
      },
      "source": [
        "[i for i in r]"
      ],
      "execution_count": null,
      "outputs": []
    },
    {
      "cell_type": "markdown",
      "source": [
        "We can of course perform operations on the items in the range."
      ],
      "metadata": {
        "id": "MilOewlZgDNm"
      }
    },
    {
      "cell_type": "code",
      "source": [
        "[-i for i in r]"
      ],
      "metadata": {
        "id": "LOae3Rv5azKX"
      },
      "execution_count": null,
      "outputs": []
    },
    {
      "cell_type": "markdown",
      "metadata": {
        "id": "MtgfrVkLaxR3"
      },
      "source": [
        "Comprehension over a range with an explicit start and end."
      ]
    },
    {
      "cell_type": "code",
      "metadata": {
        "id": "mciacJHiaKS6"
      },
      "source": [
        "[i**2 for i in range(5,10)]"
      ],
      "execution_count": null,
      "outputs": []
    },
    {
      "cell_type": "markdown",
      "metadata": {
        "id": "TDtRnwd2bXZc"
      },
      "source": [
        "There are different ways to put the elements of a range into a list."
      ]
    },
    {
      "cell_type": "code",
      "metadata": {
        "id": "z3cHA3YibgAR"
      },
      "source": [
        "list(r)"
      ],
      "execution_count": null,
      "outputs": []
    },
    {
      "cell_type": "markdown",
      "metadata": {
        "id": "i6tQkwj9cCzL"
      },
      "source": [
        "Alternatively, the splat unpacks the elements of the range into a list."
      ]
    },
    {
      "cell_type": "code",
      "metadata": {
        "id": "dC5R6S85bjv_"
      },
      "source": [
        "l = [*r]\n",
        "l"
      ],
      "execution_count": null,
      "outputs": []
    },
    {
      "cell_type": "markdown",
      "source": [
        "We can take an element of a range by means of an index, just like slicing a list or string."
      ],
      "metadata": {
        "id": "XwXjKD-mswy6"
      }
    },
    {
      "cell_type": "code",
      "source": [
        "r[2]"
      ],
      "metadata": {
        "id": "ge3s_tnYsnG9"
      },
      "execution_count": null,
      "outputs": []
    },
    {
      "cell_type": "markdown",
      "metadata": {
        "id": "oaXX9txPLmzb"
      },
      "source": [
        "If we use start and end indexes to slice more than one element from a range; this will give us a new range. "
      ]
    },
    {
      "cell_type": "code",
      "metadata": {
        "id": "JrQYyAjeLPN4"
      },
      "source": [
        "ra = r[1:4]\n",
        "print(ra)\n",
        "print(*ra)"
      ],
      "execution_count": null,
      "outputs": []
    },
    {
      "cell_type": "markdown",
      "source": [
        "A range is an *iterable* type, so it can be used in a for-loop to repeat instructions a number of times. The following removes all occurrences of an item in a list."
      ],
      "metadata": {
        "id": "grQPOX-IXX67"
      }
    },
    {
      "cell_type": "code",
      "source": [
        "names = ['Jean', 'Billy', 'Eve', 'Eve', 'Jean', 'Eve']\n",
        "\n",
        "def remove_all(item, l):\n",
        "  for i in range(l.count(item)):\n",
        "    l.remove(item)\n",
        "  return l\n",
        "\n",
        "remove_all('Eve', names)"
      ],
      "metadata": {
        "id": "sXBjEkfbWfnC"
      },
      "execution_count": null,
      "outputs": []
    },
    {
      "cell_type": "markdown",
      "metadata": {
        "id": "zF32aIX0QYgu"
      },
      "source": [
        "We can also use a range for iterating with a numerical variable in a comprehension.\n",
        "\n",
        "The following illustrates this by adressing a number of characters in a string. The following is simple enough, but an error will occur if the index is out of range. Try increasing the range and see what happens."
      ]
    },
    {
      "cell_type": "code",
      "metadata": {
        "id": "RIcwrXBARRiA"
      },
      "source": [
        "text = 'abcde'\n",
        "[text[i] for i in range(3)]"
      ],
      "execution_count": null,
      "outputs": []
    },
    {
      "cell_type": "markdown",
      "metadata": {
        "id": "j-reVMNFRjeq"
      },
      "source": [
        "Here is another example, which takes subsequent substrings of a text until the end."
      ]
    },
    {
      "cell_type": "code",
      "metadata": {
        "id": "kZdHM-TcRDxR"
      },
      "source": [
        "text = 'abcde'\n",
        "[text[j:] for j in range(len(text))]"
      ],
      "execution_count": null,
      "outputs": []
    },
    {
      "cell_type": "markdown",
      "metadata": {
        "id": "HeyJ1zbcRs-A"
      },
      "source": [
        "If we also include a slicing end index, we can easily compute all *trigrams* (substrings of three characters) of a string. Notice that we need to stop in time."
      ]
    },
    {
      "cell_type": "code",
      "metadata": {
        "id": "GZCAbcGaQHxW"
      },
      "source": [
        "text = 'abcdefg'\n",
        "[text[i:i+3] for i in range(len(text)-2)]"
      ],
      "execution_count": null,
      "outputs": []
    },
    {
      "cell_type": "markdown",
      "metadata": {
        "id": "d8t9EdrIfcDf"
      },
      "source": [
        "### Exercises\n",
        "\n",
        "1.   Modify the last example to compute all bigrams (substrings of two characters) of a string, instead of trigrams.\n",
        "2.   Write a function `N_gram` with two arguments, a string and a number n, that returns a list of n-grams from the string. Test with n=2, n=3 and n=4.\n",
        "3.   Check if this function also works for other kinds sequences that are not strings."
      ]
    }
  ]
}