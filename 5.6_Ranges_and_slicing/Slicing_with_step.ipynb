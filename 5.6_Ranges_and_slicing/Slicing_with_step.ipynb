{
  "nbformat": 4,
  "nbformat_minor": 0,
  "metadata": {
    "colab": {
      "provenance": []
    },
    "kernelspec": {
      "name": "python3",
      "display_name": "Python 3"
    },
    "language_info": {
      "name": "python"
    }
  },
  "cells": [
    {
      "cell_type": "markdown",
      "metadata": {
        "id": "B2dxjrs1Xjd7"
      },
      "source": [
        "# Slicing with step\n",
        "\n",
        "by Koenraad De Smedt at UiB"
      ]
    },
    {
      "cell_type": "markdown",
      "metadata": {
        "id": "kxlG83hhcbSr"
      },
      "source": [
        "---\n",
        "A slice is a subsection of a sequence, such as items 3 to 6. We can however also slice every other item, or every third item, etc.\n",
        "\n",
        "<img src=\"https://live.staticflickr.com/5043/5336855585_97a1ba3837_c.jpg\" alt = \"slices\" width = \"400\">\n",
        "(via Flickr © pj_vanf, CC BY 2.0)\n",
        "\n",
        "---"
      ]
    },
    {
      "cell_type": "markdown",
      "source": [
        "First, remember that one can take a part of a sequence by writing the (optional) start and end indices separated by one colon."
      ],
      "metadata": {
        "id": "R4UVz8OIMWxk"
      }
    },
    {
      "cell_type": "code",
      "source": [
        "l = ['one', 'apple', 'two', 'cherries', 'three', 'pears', 'four', 'grapes']\n",
        "l[1:]"
      ],
      "metadata": {
        "id": "6WOvEcWgBqCR"
      },
      "execution_count": null,
      "outputs": []
    },
    {
      "cell_type": "markdown",
      "source": [
        "After a *second* colon, we can specify a *step* value which indicates where slicing should be repeated. The following takes every other item starting from 1."
      ],
      "metadata": {
        "id": "e44kDQkzBqqB"
      }
    },
    {
      "cell_type": "code",
      "metadata": {
        "id": "1HkL5PCvch5X"
      },
      "source": [
        "l[1::2]"
      ],
      "execution_count": null,
      "outputs": []
    },
    {
      "cell_type": "markdown",
      "metadata": {
        "id": "RzMY1g04eICs"
      },
      "source": [
        "Here is an example with explicit start and end indices, as well as step."
      ]
    },
    {
      "cell_type": "code",
      "metadata": {
        "id": "idZPNEb1en9E"
      },
      "source": [
        "l[3:6:2]"
      ],
      "execution_count": null,
      "outputs": []
    },
    {
      "cell_type": "markdown",
      "metadata": {
        "id": "10yHfSELey-i"
      },
      "source": [
        "Start from the end with a negative step."
      ]
    },
    {
      "cell_type": "code",
      "metadata": {
        "id": "KaBk3DiOe2bV"
      },
      "source": [
        "l[::-2]"
      ],
      "execution_count": null,
      "outputs": []
    },
    {
      "cell_type": "markdown",
      "metadata": {
        "id": "1YHG4Ls9e33V"
      },
      "source": [
        "Starting from the end with step -1 will reverse the whole sequence.\n",
        "\n"
      ]
    },
    {
      "cell_type": "code",
      "metadata": {
        "id": "shV2aNoPfY1z"
      },
      "source": [
        "l[::-1]"
      ],
      "execution_count": null,
      "outputs": []
    },
    {
      "cell_type": "markdown",
      "metadata": {
        "id": "zymMquG-dJ--"
      },
      "source": [
        "---\n",
        "##Slicing a range\n",
        "\n",
        "Taking a slice of a range will give us another range. Here we step by 10 in a range from 0 to 100, stopping at 60."
      ]
    },
    {
      "cell_type": "code",
      "metadata": {
        "id": "-j3IPQ63dR5q"
      },
      "source": [
        "r = range(100)\n",
        "sl = (r[:60:10])\n",
        "sl"
      ],
      "execution_count": null,
      "outputs": []
    },
    {
      "cell_type": "markdown",
      "metadata": {
        "id": "hfNesjC_eB1g"
      },
      "source": [
        "We can of course convert that range to a list."
      ]
    },
    {
      "cell_type": "code",
      "metadata": {
        "id": "OLnnXwECdGLk"
      },
      "source": [
        "[*sl]"
      ],
      "execution_count": null,
      "outputs": []
    },
    {
      "cell_type": "markdown",
      "source": [
        "We can also specify a step when creating a range."
      ],
      "metadata": {
        "id": "GaFhzQ2pJIJ2"
      }
    },
    {
      "cell_type": "code",
      "source": [
        "list(range(0,60,10))"
      ],
      "metadata": {
        "id": "R-JnC1jzJW92"
      },
      "execution_count": null,
      "outputs": []
    },
    {
      "cell_type": "markdown",
      "source": [
        "Also, we can go from high to low with a negative step."
      ],
      "metadata": {
        "id": "ngcrZfubJxB2"
      }
    },
    {
      "cell_type": "code",
      "source": [
        "for i in range(60,0,-10):\n",
        "  print (i)"
      ],
      "metadata": {
        "id": "n5jSYTNTH8Hi"
      },
      "execution_count": null,
      "outputs": []
    },
    {
      "cell_type": "markdown",
      "metadata": {
        "id": "d8t9EdrIfcDf"
      },
      "source": [
        "### Exercises\n",
        "\n",
        "3.   A string is also a sequence. Take every other character of the string `'apples!'` by means of slicing.\n",
        "4.   Reverse the string `'drawer'` by means of slicing."
      ]
    }
  ]
}