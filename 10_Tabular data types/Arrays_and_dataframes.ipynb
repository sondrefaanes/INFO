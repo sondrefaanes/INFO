{
  "nbformat": 4,
  "nbformat_minor": 0,
  "metadata": {
    "colab": {
      "provenance": []
    },
    "kernelspec": {
      "name": "python3",
      "display_name": "Python 3"
    },
    "language_info": {
      "name": "python"
    }
  },
  "cells": [
    {
      "cell_type": "markdown",
      "metadata": {
        "id": "b2nTDLP9c0Xb"
      },
      "source": [
        "# Arrays and dataframes: An introduction to tabular data\n",
        "\n",
        "by Koenraad De Smedt at UiB"
      ]
    },
    {
      "cell_type": "markdown",
      "metadata": {
        "id": "ZlsR0DSpd3vW"
      },
      "source": [
        "---\n",
        "Many datasets have the shape of a table, i.e. an n-dimensional data structure of fixed size. Two-dimensional data have the following axes:\n",
        "\n",
        "0.  *rows*, also called *records* (often given numerical indexes)\n",
        "1.  *columns*, also called *fields*\n",
        "\n",
        ">\n",
        "Row index   | First Column | Second Column  \n",
        "------------|--------------|--------------\n",
        "0 →         | Row 0, Col 0 | Row 0, Col 1 |\n",
        "1 →         | Row 1, Col 0 | Row 1, Col 1 |\n",
        ">\n",
        "\n",
        "It is of course possible to have data structures with [only one dimension or more than two dimensions](https://www.awesomegrasp.com/wp-content/uploads/2019/10/python-array-and-axis-e1570454038223-768x405.png), but we will not give examples involving more than two dimensions.\n",
        "\n",
        "---"
      ]
    },
    {
      "cell_type": "markdown",
      "source": [
        "This notebook provides an introduction to working with tabular data using these Python libraries:\n",
        "\n",
        "1.   [*numpy*](https://numpy.org/doc/stable/) provides operations on n-dimensional *arrays* of items of the same type and size.\n",
        "2.   [*pandas*](https://pandas.pydata.org/pandas-docs/stable/index.html) provides operations on *dataframes*, which are two-dimensional labeled datastructures, and *series*, which have only one data column."
      ],
      "metadata": {
        "id": "ARPZQflTLWYA"
      }
    },
    {
      "cell_type": "code",
      "metadata": {
        "id": "T8fiLBR-cxAL"
      },
      "source": [
        "import numpy as np\n",
        "import pandas as pd\n",
        "pd.__version__"
      ],
      "execution_count": null,
      "outputs": []
    },
    {
      "cell_type": "markdown",
      "metadata": {
        "id": "3sQsyY9xL2fJ"
      },
      "source": [
        "## Arrays with *numpy*\n",
        "\n",
        "Here is a *numpy* example for a two-dimensional array (sometimes called a *matrix*) with 4 rows and 3 columns.\n",
        "These numbers are copied by hand from a table in [SLP3, Ch. 6](https://web.stanford.edu/~jurafsky/slp3/6.pdf) (in turn based on Osgood, C. E., G. J. Suci, and P. H. Tannenbaum. 1957. *The Measurement of Meaning.* University of Illinois Press). In most cases, however, we would obtain values from other sources (such as a corpus search), rather than typing them in."
      ]
    },
    {
      "cell_type": "code",
      "metadata": {
        "id": "u5yxJLmML1hM"
      },
      "source": [
        "a = np.array([[8.05, 5.5, 7.38], [7.67, 5.57, 6.5], [2.45, 5.65, 3.58], [6.71, 3.95, 4.24]])\n",
        "a"
      ],
      "execution_count": null,
      "outputs": []
    },
    {
      "cell_type": "markdown",
      "source": [
        "Display information about this array."
      ],
      "metadata": {
        "id": "TkJq_S7PMP8t"
      }
    },
    {
      "cell_type": "code",
      "source": [
        "print(a.shape)\n",
        "print(a.size)"
      ],
      "metadata": {
        "id": "oRBW4yWSMND3"
      },
      "execution_count": null,
      "outputs": []
    },
    {
      "cell_type": "markdown",
      "metadata": {
        "id": "WlOnNq4MPUxR"
      },
      "source": [
        "Parts of an array can be addressed by means of row and column indexes. In a two-dimensional array, the first index is for rows, the second one for columns. Like other datatypes, array indexes are zero-based. \n",
        "\n",
        "Here are some examples adressing whole rows."
      ]
    },
    {
      "cell_type": "code",
      "metadata": {
        "id": "aXwVMC-kMmsz"
      },
      "source": [
        "print(a[0])\n",
        "print(a[1:3])"
      ],
      "execution_count": null,
      "outputs": []
    },
    {
      "cell_type": "markdown",
      "source": [
        "Whole columns are addressed by the second index; we can not leave the first index empty, but instead we can use `:` for the first index."
      ],
      "metadata": {
        "id": "S6UJtSmHDuCG"
      }
    },
    {
      "cell_type": "code",
      "source": [
        "print(a[:,1])\n",
        "print(a[:,1:3])"
      ],
      "metadata": {
        "colab": {
          "base_uri": "https://localhost:8080/"
        },
        "id": "ldZ9cH9NDtSQ",
        "outputId": "27ff7a22-d34f-4e58-a200-2c27a5b66001"
      },
      "execution_count": null,
      "outputs": [
        {
          "output_type": "stream",
          "name": "stdout",
          "text": [
            "[5.5  5.57 5.65 3.95]\n",
            "[[5.5  7.38]\n",
            " [5.57 6.5 ]\n",
            " [5.65 3.58]\n",
            " [3.95 4.24]]\n"
          ]
        }
      ]
    },
    {
      "cell_type": "markdown",
      "source": [
        "Here we address parts of an array by specifying both rows and columns. One row and one column gives us the value in a single cell. Multiple rows and one column gives us part of that column."
      ],
      "metadata": {
        "id": "GS3CNwnXHOaP"
      }
    },
    {
      "cell_type": "code",
      "source": [
        "print(a[3,1])\n",
        "print(a[1:3,2])"
      ],
      "metadata": {
        "id": "JZw_H8ibHNtB"
      },
      "execution_count": null,
      "outputs": []
    },
    {
      "cell_type": "markdown",
      "metadata": {
        "id": "ley5qtzuXAc8"
      },
      "source": [
        "The *numpy* module supports some mathematical operations on arrays. One can, for instance, make the sums of several rows.\n",
        "\n",
        "For more information, start at https://numpy.org/doc/stable/user/absolute_beginners.html."
      ]
    },
    {
      "cell_type": "code",
      "metadata": {
        "id": "2ToGv5ZKWX44"
      },
      "source": [
        "a[0] + a[1]"
      ],
      "execution_count": null,
      "outputs": []
    },
    {
      "cell_type": "markdown",
      "metadata": {
        "id": "JkNUrC1SXEj2"
      },
      "source": [
        "## Dataframes with *pandas*\n",
        "\n",
        "The *pandas* module provides many ways of working with tabular data. A pandas *dataframe* is a two-dimensional *labeled* data structure. You can think of it as two-dimensional array with labels on the rows and columns, much like a spreadsheet or a dataframe in [R](https://www.r-project.org/). Unlike an array, a dataframe may contain data of different types.\n",
        "\n",
        "A dataframe can be created in many ways. The following creates a dataframe from the numpy array above. Column names and row names (*index*) can be set at creation time or later."
      ]
    },
    {
      "cell_type": "code",
      "metadata": {
        "id": "tXGw5EQhY7l1"
      },
      "source": [
        "df = pd.DataFrame(a, columns=['Valence','Arousal','Dominance'])\n",
        "df"
      ],
      "execution_count": null,
      "outputs": []
    },
    {
      "cell_type": "markdown",
      "source": [
        "Set the index (row names)."
      ],
      "metadata": {
        "id": "qPfs__jWFLzb"
      }
    },
    {
      "cell_type": "code",
      "metadata": {
        "id": "J7QRhPdvjfOt"
      },
      "source": [
        "df.index = ['courageous', 'music', 'heartbreak', 'cub']\n",
        "df"
      ],
      "execution_count": null,
      "outputs": []
    },
    {
      "cell_type": "markdown",
      "metadata": {
        "id": "zMv0GRNOW7T9"
      },
      "source": [
        "A single column can be selected by its label. The result is a one-dimensional datastructure known as a *Series*."
      ]
    },
    {
      "cell_type": "code",
      "execution_count": null,
      "metadata": {
        "id": "biXbLWMUWpk8"
      },
      "outputs": [],
      "source": [
        "df['Valence']"
      ]
    },
    {
      "cell_type": "code",
      "source": [
        "type(df['Valence'])"
      ],
      "metadata": {
        "id": "2hUaajextVrA"
      },
      "execution_count": null,
      "outputs": []
    },
    {
      "cell_type": "markdown",
      "metadata": {
        "id": "Uw4SBhXWWpk9"
      },
      "source": [
        "Multiple columns can be selected by a list of labels. The result is again a DataFrame.\n",
        "\n"
      ]
    },
    {
      "cell_type": "code",
      "execution_count": null,
      "metadata": {
        "id": "Mosxbx0CW7T-"
      },
      "outputs": [],
      "source": [
        "df[['Valence', 'Dominance']]"
      ]
    },
    {
      "cell_type": "markdown",
      "metadata": {
        "id": "3f3fjXe0W7T-"
      },
      "source": [
        "A single row can be selected with its index label by means the `.loc` method. The result is a Series."
      ]
    },
    {
      "cell_type": "code",
      "execution_count": null,
      "metadata": {
        "id": "Xx78dhIYW7T_"
      },
      "outputs": [],
      "source": [
        "df.loc['cub']"
      ]
    },
    {
      "cell_type": "markdown",
      "metadata": {
        "id": "eWBuEXHqWpk-"
      },
      "source": [
        "Multiple rows can be selected by a list of index labels. The result is a DataFrame."
      ]
    },
    {
      "cell_type": "code",
      "execution_count": null,
      "metadata": {
        "id": "nzkUjCuCWpk-"
      },
      "outputs": [],
      "source": [
        "df.loc[['music', 'cub']]"
      ]
    },
    {
      "cell_type": "markdown",
      "metadata": {
        "id": "cbuTEbWZWpk-"
      },
      "source": [
        "A single value can be addressed by its column and row."
      ]
    },
    {
      "cell_type": "code",
      "execution_count": null,
      "metadata": {
        "id": "8loxFoweWpk_"
      },
      "outputs": [],
      "source": [
        "df['Arousal'].loc['music']"
      ]
    },
    {
      "cell_type": "markdown",
      "source": [
        "Multiple columns and rows can be selected by specifying lists of columns and lists of rows."
      ],
      "metadata": {
        "id": "2KW7_L_h1xcH"
      }
    },
    {
      "cell_type": "code",
      "source": [
        "df[['Arousal', 'Dominance']].loc[['music', 'heartbreak']]"
      ],
      "metadata": {
        "id": "bEt7paNx1i1z"
      },
      "execution_count": null,
      "outputs": []
    },
    {
      "cell_type": "markdown",
      "metadata": {
        "id": "-ocYjc4WlJfU"
      },
      "source": [
        "Rows can also be selected based on their *numerical* order in the dataframe with `.iloc`. These indexes must be numbers."
      ]
    },
    {
      "cell_type": "code",
      "metadata": {
        "id": "cRwLy9UJbB8X"
      },
      "source": [
        "df.iloc[1:3]"
      ],
      "execution_count": null,
      "outputs": []
    },
    {
      "cell_type": "markdown",
      "source": [
        "## Styling data frames with colors\n",
        "\n",
        "Two-dimensional arrays and dataframes containing only numbers can be visualized with colors. These are often used for [looking at the results of a classifier](https://medium.com/@dtuk81/confusion-matrix-visualization-fc31e3f30fea).\n",
        "In the example below, we assume the following results of a model that classifies newspaper articles:\n",
        "\n",
        "*  10 Sports articles are classified correctly and 5 are classified as Politics; \n",
        "*  2 Politics articles are classified as Sports and 13 are classified correctly."
      ],
      "metadata": {
        "id": "eQn4TDMYcYyo"
      }
    },
    {
      "cell_type": "code",
      "source": [
        "class_labels = ['Sports', 'Politics']\n",
        "cm = pd.DataFrame([[10, 5], [2, 13]], index=class_labels, columns=class_labels)\n",
        "cm"
      ],
      "metadata": {
        "id": "-vjVpoWTEvEX"
      },
      "execution_count": null,
      "outputs": []
    },
    {
      "cell_type": "markdown",
      "source": [
        "Dataframes can be styled with a background gradient for each cell dependent on the cell’s value. This view, often called a *heatmap*, may help in getting a quick overview of contrasts in the values."
      ],
      "metadata": {
        "id": "oZdwTv4iBwt4"
      }
    },
    {
      "cell_type": "code",
      "source": [
        "cm.style.background_gradient(axis=None, cmap='Greens')"
      ],
      "metadata": {
        "id": "NkOXzr1yBvVR"
      },
      "execution_count": null,
      "outputs": []
    },
    {
      "cell_type": "markdown",
      "source": [
        "Alternatively, one can make a downloadable heatmap picture with a legend and other options. The `annot` parameter controls whether the values are displayed in the cells. \n",
        "\n",
        "The bottom row has higher contrast, which highlights the fact that the Politics articles are classified more correctly."
      ],
      "metadata": {
        "id": "fTECTgccHUXm"
      }
    },
    {
      "cell_type": "code",
      "source": [
        "import seaborn as sns\n",
        "sns.set(font_scale=1.3)\n",
        "s = sns.heatmap(cm, cmap=\"Greens\", annot=True)\n",
        "s.set(ylabel='True class', xlabel='Assigned Class')\n",
        "s.plot()"
      ],
      "metadata": {
        "id": "vQsRWg3Tb8xc"
      },
      "execution_count": null,
      "outputs": []
    },
    {
      "cell_type": "markdown",
      "source": [
        "For larger examples of heatmaps, see for instance [Measuring Harmful Representations in Scandinavian Language Models](https://arxiv.org/pdf/2211.11678.pdf)."
      ],
      "metadata": {
        "id": "CJtaQJ2Y3hXG"
      }
    },
    {
      "cell_type": "markdown",
      "metadata": {
        "id": "IIlzeI2bbxcR"
      },
      "source": [
        "\n",
        "Dataframes can be made by reading tabular data from several different file formats and sources, and can be processed and exported to other formats. This will be demonstrated in other notebooks."
      ]
    },
    {
      "cell_type": "markdown",
      "source": [
        "##Exercises\n",
        "\n",
        "1.  Make a new dataframe containing the *Valence* and *Dominance* columns and the *music* and *cub* rows.\n",
        "2.  Show a heatmap for the new dataframe."
      ],
      "metadata": {
        "id": "RJQwn-EaelsG"
      }
    }
  ]
}