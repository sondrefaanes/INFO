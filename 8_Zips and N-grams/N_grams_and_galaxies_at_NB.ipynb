{
  "nbformat": 4,
  "nbformat_minor": 5,
  "metadata": {
    "kernelspec": {
      "display_name": "Python 3",
      "language": "python",
      "name": "python3"
    },
    "language_info": {
      "codemirror_mode": {
        "name": "ipython",
        "version": 3
      },
      "file_extension": ".py",
      "mimetype": "text/x-python",
      "name": "python",
      "nbconvert_exporter": "python",
      "pygments_lexer": "ipython3",
      "version": "3.9.4"
    },
    "colab": {
      "provenance": []
    }
  },
  "cells": [
    {
      "cell_type": "markdown",
      "metadata": {
        "id": "637cc60d"
      },
      "source": [
        "# Accessing the National Library of Norway\n",
        "\n",
        "## Part II: N-grams and galaxies\n",
        "\n",
        "by Koenraad De Smedt at UiB\n",
        "(based on materials from the National Library)"
      ],
      "id": "637cc60d"
    },
    {
      "cell_type": "markdown",
      "metadata": {
        "id": "k4bCyKtiH2J1"
      },
      "source": [
        "---\n",
        "The National Library of Norway (Nasjonalbiblioteket, NB) offers access to its collections from Python or R. This notebook gives a few examples of how to compute and plot frequencies of words and n-grams over time and how to show galaxies of related words. For more information, see [DH-lab at NB](https://dh.nb.no) (in Norwegian).\n",
        "\n",
        "---"
      ],
      "id": "k4bCyKtiH2J1"
    },
    {
      "cell_type": "markdown",
      "source": [
        "Some stuff needs to be installed and imported."
      ],
      "metadata": {
        "id": "-eahwZycTUcd"
      },
      "id": "-eahwZycTUcd"
    },
    {
      "cell_type": "code",
      "source": [
        "!pip install dhlab"
      ],
      "metadata": {
        "id": "b4FSfW-QuXmV"
      },
      "id": "b4FSfW-QuXmV",
      "execution_count": null,
      "outputs": []
    },
    {
      "cell_type": "code",
      "metadata": {
        "id": "BahVvUb9IP7_"
      },
      "source": [
        "import dhlab as dh\n",
        "from dhlab import Ngram, NgramBook, NgramNews\n",
        "from dhlab.ngram.nb_ngram import nb_ngram\n",
        "from dhlab.api.nb_ngram_api import make_word_graph\n",
        "from dhlab import graph_networkx_louvain as gnl"
      ],
      "id": "BahVvUb9IP7_",
      "execution_count": null,
      "outputs": []
    },
    {
      "cell_type": "markdown",
      "source": [
        "## Ngram\n",
        "\n",
        "Get relative frequencies (percentages) of words per year, over a given period. The result is a dataframe which can be plotted or further processed.\n",
        "\n",
        "`smooth` is a parameter for smoothing the curve. This implies that the relative frequencies for a year are computed as the mean for number of preceding and following years; `lw` is line width."
      ],
      "metadata": {
        "id": "gTERLJ-w_4DU"
      },
      "id": "gTERLJ-w_4DU"
    },
    {
      "cell_type": "code",
      "source": [
        "Ngram(words=['i og med'],\n",
        "      from_year=1910, to_year=2020, \n",
        "      doctype='avis').plot(smooth=9, kind='line', figsize=(10, 6), lw=3)"
      ],
      "metadata": {
        "id": "oh7MhiLHy7aJ"
      },
      "id": "oh7MhiLHy7aJ",
      "execution_count": null,
      "outputs": []
    },
    {
      "cell_type": "markdown",
      "source": [
        "Compare two words over time."
      ],
      "metadata": {
        "id": "-c92_kyMzeKw"
      },
      "id": "-c92_kyMzeKw"
    },
    {
      "cell_type": "code",
      "source": [
        "Ngram(words=['det', 'der'],\n",
        "      from_year=1810, to_year=2000, \n",
        "      doctype='avis').plot(smooth=9, kind='line', figsize=(10, 6), lw=3)"
      ],
      "metadata": {
        "id": "zTlkuArhuu3b"
      },
      "id": "zTlkuArhuu3b",
      "execution_count": null,
      "outputs": []
    },
    {
      "cell_type": "markdown",
      "source": [
        "Truncation."
      ],
      "metadata": {
        "id": "kuC2qsDDzjwE"
      },
      "id": "kuC2qsDDzjwE"
    },
    {
      "cell_type": "code",
      "source": [
        "Ngram(words=['universitets*'],\n",
        "      from_year=1920, to_year=2000, \n",
        "      doctype='avis').plot(smooth=9, kind='line', figsize=(10, 6), lw=3)"
      ],
      "metadata": {
        "id": "VnDTQBrAwhqJ"
      },
      "id": "VnDTQBrAwhqJ",
      "execution_count": null,
      "outputs": []
    },
    {
      "cell_type": "markdown",
      "source": [
        "Two bigrams compared."
      ],
      "metadata": {
        "id": "w319uei1zmXb"
      },
      "id": "w319uei1zmXb"
    },
    {
      "cell_type": "code",
      "source": [
        "Ngram(words=['min arm', 'armen min'],\n",
        "      from_year=1910, to_year=2000, \n",
        "      doctype='avis').plot(smooth=9, kind='line', figsize=(10, 6), lw=3)"
      ],
      "metadata": {
        "id": "0V2XZ7g9yN4C"
      },
      "id": "0V2XZ7g9yN4C",
      "execution_count": null,
      "outputs": []
    },
    {
      "cell_type": "markdown",
      "source": [
        "We can take the dataframe of the `Ngram` result and do other things with it."
      ],
      "metadata": {
        "id": "E10G6-0txXfM"
      },
      "id": "E10G6-0txXfM"
    },
    {
      "cell_type": "code",
      "source": [
        "hanhun = Ngram(words=['han', 'hun'],\n",
        "                from_year=1950, to_year=1970, \n",
        "                doctype=\"bok\").frame\n",
        "hanhun.head(10).style.background_gradient(cmap=\"Reds\", axis=None)"
      ],
      "metadata": {
        "id": "NukSeo58xFKx"
      },
      "id": "NukSeo58xFKx",
      "execution_count": null,
      "outputs": []
    },
    {
      "cell_type": "code",
      "source": [
        "hanhun['hun'].loc['1954']"
      ],
      "metadata": {
        "id": "RVeTDnN57NEJ"
      },
      "id": "RVeTDnN57NEJ",
      "execution_count": null,
      "outputs": []
    },
    {
      "cell_type": "markdown",
      "source": [
        "### Exercises\n",
        "\n",
        "1.  Investigate examples of the Norwegian a-ending vs. en-ending for definite nouns, such as *sola* vs. *solen*.\n",
        "2.  Search for *på* and *paa* from 1900 to 1950. When did a change occur?"
      ],
      "metadata": {
        "id": "-OkBAWELD0Sf"
      },
      "id": "-OkBAWELD0Sf"
    },
    {
      "cell_type": "markdown",
      "source": [
        "## Galaxies\n",
        "\n",
        "Galaxies compute connections from a central word to semantically related words. These connections can be used for several purposes, such as sentiment analysis."
      ],
      "metadata": {
        "id": "a6SCltbxGHb0"
      },
      "id": "a6SCltbxGHb0"
    },
    {
      "cell_type": "code",
      "source": [
        "klar_graf = make_word_graph('klar', corpus='all', cutoff=16, leaves=0)"
      ],
      "metadata": {
        "id": "0f7T-fc40EQ-"
      },
      "id": "0f7T-fc40EQ-",
      "execution_count": null,
      "outputs": []
    },
    {
      "cell_type": "markdown",
      "source": [
        "Display the graph."
      ],
      "metadata": {
        "id": "nv_JtlE_4hq7"
      },
      "id": "nv_JtlE_4hq7"
    },
    {
      "cell_type": "code",
      "source": [
        "gnl.show_graph(klar_graf, spread=4)\n"
      ],
      "metadata": {
        "id": "l9gJAekC0TJJ"
      },
      "id": "l9gJAekC0TJJ",
      "execution_count": null,
      "outputs": []
    },
    {
      "cell_type": "markdown",
      "source": [
        "Show different communities of words, each roughly related to a meaning."
      ],
      "metadata": {
        "id": "hBB2u6NV4kLT"
      },
      "id": "hBB2u6NV4kLT"
    },
    {
      "cell_type": "code",
      "source": [
        "gnl.show_communities(klar_graf)"
      ],
      "metadata": {
        "id": "aWSMxCX7GkZ_"
      },
      "id": "aWSMxCX7GkZ_",
      "execution_count": null,
      "outputs": []
    },
    {
      "cell_type": "markdown",
      "source": [
        "### Exercises\n",
        "\n",
        "1.  Choose another word and make a graph. "
      ],
      "metadata": {
        "id": "hVwvRl3qKRgB"
      },
      "id": "hVwvRl3qKRgB"
    }
  ]
}