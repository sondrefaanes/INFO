{
  "nbformat": 4,
  "nbformat_minor": 0,
  "metadata": {
    "colab": {
      "provenance": []
    },
    "kernelspec": {
      "name": "python3",
      "display_name": "Python 3"
    },
    "language_info": {
      "name": "python"
    }
  },
  "cells": [
    {
      "cell_type": "markdown",
      "metadata": {
        "id": "bvk7OQjyK5b0"
      },
      "source": [
        "# Zips\n",
        "\n",
        "by Koenraad De Smedt at UiB"
      ]
    },
    {
      "cell_type": "markdown",
      "metadata": {
        "id": "X2IG4HJpK7vM"
      },
      "source": [
        "---\n",
        "The zip function 'zips' together consecutive elements of different sequences or other iterable data. Zipping continues until one of the sequences is exhausted. Zips are useful for many purposes, such as computing n-grams, as will be shown in a later notebook.\n",
        "> \n",
        "\n",
        "<img src=\"https://git.app.uib.no/desmedt/teaching/-/raw/main/zip.png\" alt = \"zipper\" width = 250px>\n",
        "\n",
        "N.B. This concept is not to be confused with *.zip* as a compressed file format.\n",
        "\n",
        "---\n"
      ]
    },
    {
      "cell_type": "markdown",
      "source": [
        "Let's zip together some letters and numbers."
      ],
      "metadata": {
        "id": "v6rhG36fhtis"
      }
    },
    {
      "cell_type": "code",
      "metadata": {
        "id": "5abDzSxMKzrR"
      },
      "source": [
        "letters = 'abcd'\n",
        "numbers = [1,2,3,4,5]\n",
        "z = zip(letters, numbers)\n",
        "z"
      ],
      "execution_count": null,
      "outputs": []
    },
    {
      "cell_type": "markdown",
      "metadata": {
        "id": "MGv1eSvBPpzr"
      },
      "source": [
        "Zips are *generators* of tuples. We can take the next element with `next` until the zip is exhausted. "
      ]
    },
    {
      "cell_type": "code",
      "metadata": {
        "id": "Jvv6R7p0v-lu"
      },
      "source": [
        "print(next(z))\n",
        "print(next(z))\n",
        "print(next(z))\n",
        "print(next(z))"
      ],
      "execution_count": null,
      "outputs": []
    },
    {
      "cell_type": "markdown",
      "metadata": {
        "id": "PTCGno-6QDJ5"
      },
      "source": [
        "Instead of taking elements one by one, can put all remaining tuples from a zip into a list. After that, the generator is exhausted."
      ]
    },
    {
      "cell_type": "code",
      "metadata": {
        "id": "eF-Glvu6QEHR"
      },
      "source": [
        "z = zip(letters, numbers)\n",
        "list(z)"
      ],
      "execution_count": null,
      "outputs": []
    },
    {
      "cell_type": "markdown",
      "source": [
        "Here is an alternative way of *unpacking* a zip using a splat `*`."
      ],
      "metadata": {
        "id": "7ZMMPlZXzbzw"
      }
    },
    {
      "cell_type": "code",
      "source": [
        "z = zip(letters, numbers)\n",
        "[*z]"
      ],
      "metadata": {
        "id": "wFZiB4QhzHJ0"
      },
      "execution_count": null,
      "outputs": []
    },
    {
      "cell_type": "markdown",
      "source": [
        "We can zip more than two sequences together. (Don't try that with the zipper of your jacket)."
      ],
      "metadata": {
        "id": "z8zI0IpYRcqU"
      }
    },
    {
      "cell_type": "code",
      "source": [
        "y = zip(letters, numbers, 'αβγδ')\n",
        "[*y]"
      ],
      "metadata": {
        "id": "tpvylTQQQ-cO"
      },
      "execution_count": null,
      "outputs": []
    },
    {
      "cell_type": "markdown",
      "source": [
        "If we unpack the list from a zip and give those elements as arguments to zip, we get back to the original order!"
      ],
      "metadata": {
        "id": "AUcbABZgJj9G"
      }
    },
    {
      "cell_type": "code",
      "source": [
        "y = zip(letters, numbers, 'αβγδ')\n",
        "[*zip(*y)]"
      ],
      "metadata": {
        "id": "iD0AU4SbJVT0"
      },
      "execution_count": null,
      "outputs": []
    },
    {
      "cell_type": "markdown",
      "metadata": {
        "id": "sQz4CjQHcNp0"
      },
      "source": [
        "We can iterate over a zip by means of a comprehension and use what we take out of the resulting tuples."
      ]
    },
    {
      "cell_type": "code",
      "metadata": {
        "id": "3i_d2OwedJZf"
      },
      "source": [
        "y = zip(letters, numbers, 'αβγδ')\n",
        "[k + '/' + i for i, j, k in y]"
      ],
      "execution_count": null,
      "outputs": []
    },
    {
      "cell_type": "markdown",
      "metadata": {
        "id": "rNIRyf7aPWHH"
      },
      "source": [
        "Any iterable data can be zipped, also ranges and sets, for instance. The following illustrates how we can include a range of numbers in a zip."
      ]
    },
    {
      "cell_type": "code",
      "source": [
        "tokens = ['Once', 'upon', 'a', 'time', 'there', 'was', '...']\n",
        "[*zip(range(len(tokens)), tokens)]"
      ],
      "metadata": {
        "id": "vgAxj_FwU9oG"
      },
      "execution_count": null,
      "outputs": []
    },
    {
      "cell_type": "markdown",
      "metadata": {
        "id": "ki-Ceop4scaI"
      },
      "source": [
        "But let's be honest, the same result can be achieved in an easier way with a built-in function."
      ]
    },
    {
      "cell_type": "code",
      "metadata": {
        "id": "gAtkKGASsSuX"
      },
      "source": [
        "[*enumerate(tokens)]"
      ],
      "execution_count": null,
      "outputs": []
    },
    {
      "cell_type": "markdown",
      "metadata": {
        "id": "0MnuCE6AlyAj"
      },
      "source": [
        "From a zip that generates pairs, or from a list of pairs, we can easily construct a dict."
      ]
    },
    {
      "cell_type": "code",
      "metadata": {
        "id": "a2zNdeqSkeyg"
      },
      "source": [
        "z = zip(letters, numbers)\n",
        "d = {key:val for key, val in z}\n",
        "d"
      ],
      "execution_count": null,
      "outputs": []
    },
    {
      "cell_type": "markdown",
      "metadata": {
        "id": "Ha5kXbfk-Qv5"
      },
      "source": [
        "### Exercises\n",
        "\n",
        "1.   Make a list of first names and a list of last names. Zip them together to produce tuples, each with first and last name, in that order.\n",
        "2.   Then, from that zip, use a comprehension to produce a list of strings, each with last name, `', '` and first name.\n",
        "3.   One can zip a set, but why does it not make much sense to do that?"
      ]
    }
  ]
}