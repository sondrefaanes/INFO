{
  "nbformat": 4,
  "nbformat_minor": 0,
  "metadata": {
    "colab": {
      "provenance": []
    },
    "kernelspec": {
      "name": "python3",
      "display_name": "Python 3"
    },
    "language_info": {
      "name": "python"
    }
  },
  "cells": [
    {
      "cell_type": "markdown",
      "metadata": {
        "id": "54Uz6gRmd7tJ"
      },
      "source": [
        "# String operations\n",
        "\n",
        "by Koenraad De Smedt at UiB"
      ]
    },
    {
      "cell_type": "markdown",
      "source": [
        "---\n",
        "There are many ways to access, manipulate and test strings. String operations are the basis of many kinds of text processing. This notebook introduces some operations on strings. A later notebook will introduce regular expressions for searching and replacing patterns in strings.\n",
        "\n",
        "For some information on how strings in non-Latin scripts are handled in Python, see the *Note on Scripts*.\n",
        "\n",
        "---\n"
      ],
      "metadata": {
        "id": "MiclnOqvYx76"
      }
    },
    {
      "cell_type": "markdown",
      "source": [
        "##Slicing by index\n",
        "\n",
        "We can make new strings by taking *slices* out of strings, from a starting position to an ending position. \n",
        "\n",
        "The following diagram shows all *indexes* where the string `'Digital'` can be sliced. **A string always starts from index 0**.\n",
        "\n",
        "<img src=\"https://git.app.uib.no/desmedt/teaching/-/raw/main/Digital-slicing.png\" alt = \"slicing\" width = 420px>\n",
        "\n",
        "So, in order to take the slice `'git'`, we need to start at index 2 and stop at index 5. This is written as `[2:5]`.\n",
        "\n",
        "<img src=\"https://git.app.uib.no/desmedt/teaching/-/raw/main/Digital-slicing-25.png\" alt = \"slicing from 2 to 5\" width = 420px>"
      ],
      "metadata": {
        "id": "5FKtw7gCxVuG"
      }
    },
    {
      "cell_type": "code",
      "source": [
        "name = 'Digital Humanities'\n",
        "name[2:5]"
      ],
      "metadata": {
        "id": "47wdRovpAbVJ"
      },
      "execution_count": null,
      "outputs": []
    },
    {
      "cell_type": "markdown",
      "source": [
        "If you omit the start index, the default is 0. If you omit the end index, the default is the end of the string."
      ],
      "metadata": {
        "id": "6ffBzXmvAcKl"
      }
    },
    {
      "cell_type": "code",
      "source": [
        "print(name[:5])\n",
        "print(name[5:])"
      ],
      "metadata": {
        "id": "hisiOk7eOSVJ"
      },
      "execution_count": null,
      "outputs": []
    },
    {
      "cell_type": "markdown",
      "source": [
        "To get a slice with one character, write the index where that character starts, without a colon."
      ],
      "metadata": {
        "id": "DjcuLRPqOeIP"
      }
    },
    {
      "cell_type": "code",
      "source": [
        "name[0]"
      ],
      "metadata": {
        "id": "xMsJN-oQZS3i"
      },
      "execution_count": null,
      "outputs": []
    },
    {
      "cell_type": "code",
      "source": [
        "name[6]"
      ],
      "metadata": {
        "id": "3T0pCsIqe_TA"
      },
      "execution_count": null,
      "outputs": []
    },
    {
      "cell_type": "markdown",
      "source": [
        "After the last position, there is nothing. It is an error to specify an index that points beyond the last character."
      ],
      "metadata": {
        "id": "eYJ07687ya1L"
      }
    },
    {
      "cell_type": "code",
      "source": [
        "'Digital'[7]"
      ],
      "metadata": {
        "id": "u3ySop1UwIX2"
      },
      "execution_count": null,
      "outputs": []
    },
    {
      "cell_type": "markdown",
      "source": [
        "Indices may be negative, for counting from the end."
      ],
      "metadata": {
        "id": "8ACPmwXAZbem"
      }
    },
    {
      "cell_type": "code",
      "source": [
        "name[-5:]"
      ],
      "metadata": {
        "id": "arbsjCwZZcSg"
      },
      "execution_count": null,
      "outputs": []
    },
    {
      "cell_type": "code",
      "source": [
        "name[:-5]"
      ],
      "metadata": {
        "id": "MU5sNAvLjts8"
      },
      "execution_count": null,
      "outputs": []
    },
    {
      "cell_type": "markdown",
      "source": [
        "Strings can be compared for equality, which is case-sensitive, which means that capitals and small letters are really different."
      ],
      "metadata": {
        "id": "3ZgrrhbhLt4q"
      }
    },
    {
      "cell_type": "code",
      "source": [
        "name[:5] == 'Digit'"
      ],
      "metadata": {
        "id": "QAWTLyolLbPV"
      },
      "execution_count": null,
      "outputs": []
    },
    {
      "cell_type": "code",
      "source": [
        "name[:5] == 'digit'"
      ],
      "metadata": {
        "id": "V_ZFzZ6fwYS-"
      },
      "execution_count": null,
      "outputs": []
    },
    {
      "cell_type": "markdown",
      "metadata": {
        "id": "WBMU510geChO"
      },
      "source": [
        "##Case conversion methods\n",
        "\n",
        "Datatypes may have *methods* associated with them. These are like functions but they are attached like suffixes with periods to objects. \n",
        "\n",
        "Strings have a method `.upper()` which converts a string to all capitals. This returns a *new* string while the original string remains unchanged."
      ]
    },
    {
      "cell_type": "code",
      "source": [
        "name.upper()"
      ],
      "metadata": {
        "id": "7yPFlc-IbB2j"
      },
      "execution_count": null,
      "outputs": []
    },
    {
      "cell_type": "markdown",
      "source": [
        "Likewise, `.lower()` converts a string to small letters. These operations result in new strings; the original string does not change."
      ],
      "metadata": {
        "id": "F4a8J9ofXmaw"
      }
    },
    {
      "cell_type": "code",
      "source": [
        "name.lower()"
      ],
      "metadata": {
        "id": "H_oUK8sOXkkn"
      },
      "execution_count": null,
      "outputs": []
    },
    {
      "cell_type": "markdown",
      "source": [
        ":The `.title()` method returns a version of the string where the initial letter of every word is a capital and the remainder is lowercase."
      ],
      "metadata": {
        "id": "pTl9mmHnppCh"
      }
    },
    {
      "cell_type": "code",
      "source": [
        "book = 'programming made EASY'\n",
        "print(book.title())"
      ],
      "metadata": {
        "id": "6pRsduTeqAal"
      },
      "execution_count": null,
      "outputs": []
    },
    {
      "cell_type": "markdown",
      "source": [
        "In contrast, the `.capitalize()` method capitalizes only the first letter of the string while the rest is lowercase."
      ],
      "metadata": {
        "id": "Ke_5Cn1T-yuB"
      }
    },
    {
      "cell_type": "code",
      "source": [
        "'it was a dark and stormy night.'.capitalize()"
      ],
      "metadata": {
        "id": "YAOoXfUn-5Fe"
      },
      "execution_count": null,
      "outputs": []
    },
    {
      "cell_type": "markdown",
      "source": [
        "Obviously, case conversion only has an effect for writing systems which have a case distinction. See also the notebook on writing systems (scripts)."
      ],
      "metadata": {
        "id": "CKSCmpA-IlFU"
      }
    },
    {
      "cell_type": "markdown",
      "source": [
        "##Tests\n",
        "\n",
        "Check if a string is all uppercase or all lowercase."
      ],
      "metadata": {
        "id": "1kxVqQczaIST"
      }
    },
    {
      "cell_type": "code",
      "source": [
        "print('NTNU'.isupper())\n",
        "print('Python'.islower())"
      ],
      "metadata": {
        "id": "iRZYa0WuaHPV"
      },
      "execution_count": null,
      "outputs": []
    },
    {
      "cell_type": "markdown",
      "source": [
        "Check if all characters in a string are alphanumeric."
      ],
      "metadata": {
        "id": "bSpwVHs3dYCF"
      }
    },
    {
      "cell_type": "code",
      "source": [
        "print('Ferdinand'.isalnum())\n",
        "print('Ferdinand de Saussure'.isalnum())\n",
        "print('Python3'.isalnum())\n",
        "print('😀'.isalnum())"
      ],
      "metadata": {
        "id": "bfAPEobSc9GK"
      },
      "execution_count": null,
      "outputs": []
    },
    {
      "cell_type": "markdown",
      "source": [
        "Check if a string is included in another string."
      ],
      "metadata": {
        "id": "yz3NWptc7lL0"
      }
    },
    {
      "cell_type": "code",
      "source": [
        "'smør' in 'julesmørbrød med roastbiff'"
      ],
      "metadata": {
        "id": "_sq_14xm7PvR"
      },
      "execution_count": null,
      "outputs": []
    },
    {
      "cell_type": "code",
      "source": [
        "'smör' in 'julesmørbrød med roastbiff'"
      ],
      "metadata": {
        "id": "ZCCweLZ5twyW"
      },
      "execution_count": null,
      "outputs": []
    },
    {
      "cell_type": "markdown",
      "metadata": {
        "id": "h6EdCTPW5q3w"
      },
      "source": [
        "##Join\n",
        "The `.join` method makes a new string by inserting a given separator string between all elements of a sequence."
      ]
    },
    {
      "cell_type": "code",
      "metadata": {
        "id": "lpwc0PUw5qUD"
      },
      "source": [
        "' & '.join('abcde')"
      ],
      "execution_count": null,
      "outputs": []
    },
    {
      "cell_type": "markdown",
      "source": [
        "Join with *newline*."
      ],
      "metadata": {
        "id": "AXuTZ-L9fy92"
      }
    },
    {
      "cell_type": "code",
      "source": [
        "'\\n'.join('abcde')"
      ],
      "metadata": {
        "id": "REceiPRUfiVS"
      },
      "execution_count": null,
      "outputs": []
    },
    {
      "cell_type": "markdown",
      "source": [
        "Printing actually renders the newlines as separate lines."
      ],
      "metadata": {
        "id": "6IHTTVKbgAmD"
      }
    },
    {
      "cell_type": "code",
      "source": [
        "print('\\n'.join('abcde'))"
      ],
      "metadata": {
        "id": "lSZHDHNXfWrO"
      },
      "execution_count": null,
      "outputs": []
    },
    {
      "cell_type": "markdown",
      "source": [
        "##Strip and replace\n",
        "Strip whitespace (including newlines) from the beginning and end of the string. By the way, if a string spans several lines, it must be enclosed in *triple* quotes."
      ],
      "metadata": {
        "id": "gmv-pBtgeiR1"
      }
    },
    {
      "cell_type": "code",
      "source": [
        "'''\n",
        "     Mål og meining.\n",
        "'''.strip()"
      ],
      "metadata": {
        "id": "ZaS4Og7dePxO"
      },
      "execution_count": null,
      "outputs": []
    },
    {
      "cell_type": "markdown",
      "source": [
        "Use `replace()` to replace each occurrence of a substring by another string."
      ],
      "metadata": {
        "id": "69R5BoRGeU5B"
      }
    },
    {
      "cell_type": "code",
      "source": [
        "'Den hvite hvalen'.replace('hv', 'kv')"
      ],
      "metadata": {
        "id": "fiiSkZYokeef"
      },
      "execution_count": null,
      "outputs": []
    },
    {
      "cell_type": "markdown",
      "source": [
        "##Type coercing\n",
        "The `str` function coerces its argument to a string if possible. Look at the differences.\n"
      ],
      "metadata": {
        "id": "VnJJHn-dq00F"
      }
    },
    {
      "cell_type": "code",
      "source": [
        "x = 9 * 2\n",
        "y = 9 ** 2\n",
        "print(x + y)\n",
        "str(x) + str(y)"
      ],
      "metadata": {
        "id": "_zNoRJWTrApT"
      },
      "execution_count": null,
      "outputs": []
    },
    {
      "cell_type": "markdown",
      "source": [
        "Conversely, the `int` function coerces its argument to an integer, so that it can be used in mathematical operations."
      ],
      "metadata": {
        "id": "hYIHgD6GJFpt"
      }
    },
    {
      "cell_type": "code",
      "source": [
        "int('39') + 1"
      ],
      "metadata": {
        "id": "7oZE5sp6JJ_0"
      },
      "execution_count": null,
      "outputs": []
    },
    {
      "cell_type": "markdown",
      "metadata": {
        "id": "gDM867X3MUlb"
      },
      "source": [
        "### Exercises:\n",
        "\n",
        "1.   Using the variable `name`, as defined above, write code to obtain the string `human`.\n",
        "2.   When may casefolding be useful and when not?\n",
        "3.   How can you disregard case differences when using `in`?\n",
        "4.   Test the methods `.isalpha()` and `.isdigit()` on strings to check if they are all alphabetical or all digits, respectively.\n",
        "5.   Using the following variable, make a string in which each word is on a separate line. Print the result.\n",
        "\n",
        "> `s = 'A mushroom is not a plant'`"
      ]
    }
  ]
}