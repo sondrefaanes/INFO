{
  "nbformat": 4,
  "nbformat_minor": 0,
  "metadata": {
    "colab": {
      "provenance": []
    },
    "kernelspec": {
      "name": "python3",
      "display_name": "Python 3"
    },
    "language_info": {
      "name": "python"
    }
  },
  "cells": [
    {
      "cell_type": "markdown",
      "metadata": {
        "id": "l36pscp3TgT3"
      },
      "source": [
        "# Sequences: lists and tuples\n",
        "\n",
        "by Koenraad De Smedt at UiB\n"
      ]
    },
    {
      "cell_type": "markdown",
      "metadata": {
        "id": "HjFvRCpyTvFs"
      },
      "source": [
        "---\n",
        "Sequences are *ordered* arrangements of data. Strings, which were introduced earlier, are sequences of characters. Python also has more general kinds of sequences: lists and tuples. These may contain elements of any type.\n",
        "\n",
        "---"
      ]
    },
    {
      "cell_type": "markdown",
      "source": [
        "## Lists\n",
        "\n",
        "A list is a type of sequence which may contain any kind of data, such as numbers, strings, and other lists. Lists are written in square brackets and their items are separated by commas. Lists may contain duplicates. Let's make a list of numbers."
      ],
      "metadata": {
        "id": "9BJLNubsttw4"
      }
    },
    {
      "cell_type": "code",
      "metadata": {
        "id": "0kl_P-biTfX3"
      },
      "source": [
        "grades = [10, 6, 8, 6, 7.5, 9]\n",
        "grades"
      ],
      "execution_count": null,
      "outputs": []
    },
    {
      "cell_type": "markdown",
      "metadata": {
        "id": "jN7zlvhtVgRC"
      },
      "source": [
        "Because lists are ordered, they can be sliced (just like strings) by using numerical indices. Using the colon, we can indicate a span in the list with a start and an end (which are optional)."
      ]
    },
    {
      "cell_type": "code",
      "metadata": {
        "id": "3vHMO4yWUk0B"
      },
      "source": [
        "print(grades[2])\n",
        "print(grades[2:])\n",
        "print(grades[:2])"
      ],
      "execution_count": null,
      "outputs": []
    },
    {
      "cell_type": "markdown",
      "source": [
        "Let's make a list of first names."
      ],
      "metadata": {
        "id": "b-VxzeALKQRr"
      }
    },
    {
      "cell_type": "code",
      "source": [
        "first_names = ['Peter', 'Paul', 'Mary', 'Mary', 'Paul', 'Kim']\n",
        "first_names[2:4]"
      ],
      "metadata": {
        "id": "mYOA_1h-KTo4"
      },
      "execution_count": null,
      "outputs": []
    },
    {
      "cell_type": "markdown",
      "metadata": {
        "id": "xGmaxnqEVPgX"
      },
      "source": [
        "Lists may contain other lists."
      ]
    },
    {
      "cell_type": "code",
      "metadata": {
        "id": "U8KDbbMhVuMa"
      },
      "source": [
        "data = [first_names, grades]\n",
        "data"
      ],
      "execution_count": null,
      "outputs": []
    },
    {
      "cell_type": "markdown",
      "metadata": {
        "id": "B1LPLg0yV0aA"
      },
      "source": [
        "Again, we can use indices to address elements or sublists."
      ]
    },
    {
      "cell_type": "code",
      "metadata": {
        "id": "VKA5D0_oVUxe"
      },
      "source": [
        "print(data[0])\n",
        "print(data[1])\n",
        "len(data[0]) == len(data[1])"
      ],
      "execution_count": null,
      "outputs": []
    },
    {
      "cell_type": "markdown",
      "source": [
        "Use nested indices to address nested parts of a list. For instance, `[0][0]` means the first element of the first element."
      ],
      "metadata": {
        "id": "Z-ufBHCMbjnz"
      }
    },
    {
      "cell_type": "code",
      "source": [
        "print(data[0][0])\n",
        "print(data[1][0])\n",
        "print(data[0][2][0])\n",
        "print(data[0][1:])"
      ],
      "metadata": {
        "id": "Bdr8Tp9fbe22"
      },
      "execution_count": null,
      "outputs": []
    },
    {
      "cell_type": "markdown",
      "metadata": {
        "id": "hP2JXT3mX1d4"
      },
      "source": [
        "### Modifying lists\n",
        "\n",
        "Lists are *mutable*, which means they can be changed. The `.append` method adds an object to the end of the list. The `.append` itself does not return any result, but it effectively changes the list."
      ]
    },
    {
      "cell_type": "code",
      "metadata": {
        "id": "NEU4Bt99X35A"
      },
      "source": [
        "data[1].append(5.5)\n",
        "data[0].append('Odile')\n",
        "print(data)"
      ],
      "execution_count": null,
      "outputs": []
    },
    {
      "cell_type": "markdown",
      "source": [
        "There is also a `.remove` method which removes an item from a list. Note that if the list contains duplicates, only the first one is removed."
      ],
      "metadata": {
        "id": "JBt0kXTe6PsX"
      }
    },
    {
      "cell_type": "code",
      "source": [
        "first_names.remove('Mary')\n",
        "grades.remove(6)\n",
        "data"
      ],
      "metadata": {
        "id": "U2n4-JAx58wT"
      },
      "execution_count": null,
      "outputs": []
    },
    {
      "cell_type": "markdown",
      "metadata": {
        "id": "VyeUgpDhRQpo"
      },
      "source": [
        "### Some operations on lists\n"
      ]
    },
    {
      "cell_type": "markdown",
      "source": [
        "Just like strings, lists can be concatenated with the `+` operator. The result is a new list, while the original lists don't change."
      ],
      "metadata": {
        "id": "3ta9LV71FVij"
      }
    },
    {
      "cell_type": "code",
      "source": [
        "first_names + ['Masoud', 'Ramona']"
      ],
      "metadata": {
        "id": "8beq_sxIFe9G"
      },
      "execution_count": null,
      "outputs": []
    },
    {
      "cell_type": "markdown",
      "source": [
        "\n",
        "We saw that the `.join` method could be performed on elements of a string. It can also be performed on a list of strings."
      ],
      "metadata": {
        "id": "gCz9lXFBFUV7"
      }
    },
    {
      "cell_type": "code",
      "source": [
        "' & '.join(first_names)"
      ],
      "metadata": {
        "id": "yhgsXlKAJZyk"
      },
      "execution_count": null,
      "outputs": []
    },
    {
      "cell_type": "markdown",
      "source": [
        "If a list contains all numbers, the `sum` function computes the arithmetic sum of its elements."
      ],
      "metadata": {
        "id": "6brVg06obirB"
      }
    },
    {
      "cell_type": "code",
      "source": [
        "sum(grades)"
      ],
      "metadata": {
        "id": "pgqHDppnbWPo"
      },
      "execution_count": null,
      "outputs": []
    },
    {
      "cell_type": "markdown",
      "source": [
        "Also `min` and `max` are built-in functions."
      ],
      "metadata": {
        "id": "hzxnKjOLdnaN"
      }
    },
    {
      "cell_type": "code",
      "source": [
        "print('Smallest is', min(grades), 'and largest is', max(grades))"
      ],
      "metadata": {
        "id": "1TV7xZU5dZaJ"
      },
      "execution_count": null,
      "outputs": []
    },
    {
      "cell_type": "markdown",
      "source": [
        "### Split\n",
        "\n",
        "The `.split` method splits a string into a list of strings. The argument is the separator."
      ],
      "metadata": {
        "id": "-qCkBS_5fjq-"
      }
    },
    {
      "cell_type": "code",
      "source": [
        "menu_items = 'eggs and bacon, cereal with milk, orange juice'\n",
        "menu_items.split(', ')"
      ],
      "metadata": {
        "id": "DXbjWFnKfohk"
      },
      "execution_count": null,
      "outputs": []
    },
    {
      "cell_type": "markdown",
      "source": [
        "The default for `.split` is whitespace. This comes close to making a list of words, but not quite. Remember that when a string stretches over several lines, it must be enclosed in triple parentheses.\n",
        "\n"
      ],
      "metadata": {
        "id": "TKu0xMNewDoL"
      }
    },
    {
      "cell_type": "code",
      "source": [
        "''' Life is like a  box of  chocolates;\n",
        "you never know what you're gonna get. '''.split()"
      ],
      "metadata": {
        "id": "6raWFzgTwIbp"
      },
      "execution_count": null,
      "outputs": []
    },
    {
      "cell_type": "markdown",
      "source": [
        "Similarly, the `.splitlines` method splits a multiline string into a list of strings, each representing a line."
      ],
      "metadata": {
        "id": "K0lMxDi9Mb2J"
      }
    },
    {
      "cell_type": "code",
      "source": [
        "''' Life is like a  box of  chocolates;\n",
        "you never know what you're gonna get. '''.splitlines()"
      ],
      "metadata": {
        "id": "1G8I4VgjMQud"
      },
      "execution_count": null,
      "outputs": []
    },
    {
      "cell_type": "markdown",
      "source": [
        "### List membership and counting\n",
        "\n",
        "Use `in` to check if something is an element of a sequence."
      ],
      "metadata": {
        "id": "Ao432-3OtnzH"
      }
    },
    {
      "cell_type": "code",
      "source": [
        "'Kim' in first_names"
      ],
      "metadata": {
        "id": "f1r6EZILtdu9"
      },
      "execution_count": null,
      "outputs": []
    },
    {
      "cell_type": "code",
      "source": [
        "5 in grades"
      ],
      "metadata": {
        "id": "VIWcjEQ5uBO1"
      },
      "execution_count": null,
      "outputs": []
    },
    {
      "cell_type": "markdown",
      "source": [
        "We can `count` how many times a given element occurs in a list."
      ],
      "metadata": {
        "id": "0VzOlwD2gNR-"
      }
    },
    {
      "cell_type": "code",
      "source": [
        "first_names.count('Paul')"
      ],
      "metadata": {
        "id": "E-SOwcjagMlJ"
      },
      "execution_count": null,
      "outputs": []
    },
    {
      "cell_type": "markdown",
      "metadata": {
        "id": "TLJroVIVXqFK"
      },
      "source": [
        "## Tuples\n",
        "\n",
        "A *tuple*, written between ordinary parentheses, is a sequence that cannot be changed. This allows for more efficient storage. Elements of a tuple can be addressed with indices, just as we do for a list."
      ]
    },
    {
      "cell_type": "code",
      "metadata": {
        "id": "rOTMz1jbW-SI"
      },
      "source": [
        "fruits = ('apple', 'apricot', 'blackberry', 'blueberry', 'apple')\n",
        "print(fruits[2])\n",
        "print(fruits[2][:5])"
      ],
      "execution_count": null,
      "outputs": []
    },
    {
      "cell_type": "markdown",
      "source": [
        "Tuples can often be written with only a comma, without parentheses. The following produces a *pair* (a tuple with two elements)."
      ],
      "metadata": {
        "id": "yG5Q3p9Tehsf"
      }
    },
    {
      "cell_type": "code",
      "source": [
        "'apricot' in fruits, 'strawberry' in fruits"
      ],
      "metadata": {
        "id": "P0rSEmZOfHxQ"
      },
      "execution_count": null,
      "outputs": []
    },
    {
      "cell_type": "markdown",
      "source": [
        "Do not confuse the comma with the separator for decimals, which in Python is only the period."
      ],
      "metadata": {
        "id": "UPgtNwGMfyBu"
      }
    },
    {
      "cell_type": "code",
      "source": [
        "numbers = 9,75\n",
        "numbers"
      ],
      "metadata": {
        "id": "0gvlZtadeSrS"
      },
      "execution_count": null,
      "outputs": []
    },
    {
      "cell_type": "markdown",
      "source": [
        "The other way around, if an assignment has several variables on the left and a tuple on the right, then each variable is assigned the corresponding element of the tuple. This is called *unpacking*. Obviously, the number of elements in the tuple must be the same as the number of variables."
      ],
      "metadata": {
        "id": "k3aFUfPyQW2K"
      }
    },
    {
      "cell_type": "code",
      "source": [
        "number1, number2 = numbers\n",
        "print(number1)\n",
        "print(number2)"
      ],
      "metadata": {
        "id": "cP_gOgodP7qp"
      },
      "execution_count": null,
      "outputs": []
    },
    {
      "cell_type": "markdown",
      "metadata": {
        "id": "dzZ9PIwHiWAs"
      },
      "source": [
        "### Exercises\n",
        "\n",
        "1.   Write an expression that uses `fruits` and returns `'apricot'`.\n",
        "2.   What happens when you try to append `'cherry'` to `fruits`?\n",
        "3.   Can the `join` operation be performed on a tuple of strings? Try it.\n",
        "4.   Count the occurrences of `6` in `grades`.\n",
        "5.   Compute the mean of the numbers in `grades`.\n",
        "6.   Can you use `in` to check if something is in a tuple? Try it."
      ]
    }
  ]
}