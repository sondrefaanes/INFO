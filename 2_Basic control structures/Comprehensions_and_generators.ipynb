{
  "cells": [
    {
      "cell_type": "markdown",
      "metadata": {
        "id": "8cwSRUnNSLWp"
      },
      "source": [
        "# Comprehensions and generators\n",
        "\n",
        "by Koenraad De Smedt at UiB\n"
      ]
    },
    {
      "cell_type": "markdown",
      "source": [
        "---\n",
        "How to collect the results of an iteration? Python has a compact way of doing this, called a *comprehension* (Norwegian: *inklusjon*). It will work on all data types that are *iterable*, i.e. for which it is possible to iterate over all elements, such as strings, lists, tuples and sets.\n",
        "\n",
        "This notebook shows how to write:\n",
        "\n",
        "1.  List comprehensions\n",
        "2.  Set comprehensions\n",
        "3.  Generator expressions\n",
        "\n",
        "---"
      ],
      "metadata": {
        "id": "BR57QX0eDV81"
      }
    },
    {
      "cell_type": "markdown",
      "source": [
        "## List comprehension\n",
        "\n",
        "We first introduce *list comprehension*, which includes selected items in a list. The following example selects every city name that is six letters long from a list of city names and returns a list including those items. The names of the variables are arbitrary."
      ],
      "metadata": {
        "id": "X4GRzeAo0x8s"
      }
    },
    {
      "cell_type": "code",
      "source": [
        "cities = ['Bergen', 'Bodø', 'Kristiansand', 'Tromsø', 'Gvarv']\n",
        "[city for city in cities if len(city) == 6]"
      ],
      "metadata": {
        "id": "ucJ28cihM3Xz"
      },
      "execution_count": null,
      "outputs": []
    },
    {
      "cell_type": "markdown",
      "source": [
        "The first expression is the result that is included at each iteration. The following includes the first letter of every city that is six letters long."
      ],
      "metadata": {
        "id": "5CYv3ck-SOBQ"
      }
    },
    {
      "cell_type": "code",
      "source": [
        "[city[0:2] for city in cities if len(city) == 6]"
      ],
      "metadata": {
        "id": "WnkqZFKuSEsr"
      },
      "execution_count": null,
      "outputs": []
    },
    {
      "cell_type": "markdown",
      "source": [
        "Conditions can be connected with `and` or `or`. The following includes the first letter of every name that is six letters long or ends on *ø*."
      ],
      "metadata": {
        "id": "Kpi-2az-kqa-"
      }
    },
    {
      "cell_type": "code",
      "source": [
        "[city[0:2] for city in cities if len(city) == 6 or city[-1] == 'ø']"
      ],
      "metadata": {
        "id": "oIKnIEvokcha"
      },
      "execution_count": null,
      "outputs": []
    },
    {
      "cell_type": "markdown",
      "source": [
        "This works for all kinds of sequences. The following example includes all vowels from a string into a list."
      ],
      "metadata": {
        "id": "fO6fvkbKNDdf"
      }
    },
    {
      "cell_type": "code",
      "execution_count": null,
      "metadata": {
        "id": "PknwafVYSKNS"
      },
      "outputs": [],
      "source": [
        "sentence = 'Annabel moved from Bergen to Oslo.'\n",
        "vowels = 'aeiouy'\n",
        "[char for char in sentence if char.lower() in vowels]"
      ]
    },
    {
      "cell_type": "markdown",
      "metadata": {
        "id": "miqlDsKkWTZJ"
      },
      "source": [
        "When including, the selected elements can be processed."
      ]
    },
    {
      "cell_type": "code",
      "execution_count": null,
      "metadata": {
        "id": "bY2dGOlyWT9q"
      },
      "outputs": [],
      "source": [
        "[char.upper() for char in sentence if char.lower() in vowels]"
      ]
    },
    {
      "cell_type": "markdown",
      "source": [
        "Here is an alternative. It is often the case that a result can be obtained in different ways."
      ],
      "metadata": {
        "id": "uIGDguXrFvBE"
      }
    },
    {
      "cell_type": "code",
      "source": [
        "[char.upper() for char in sentence.lower() if char in vowels]"
      ],
      "metadata": {
        "id": "2o1kpn-SF1tb"
      },
      "execution_count": null,
      "outputs": []
    },
    {
      "cell_type": "markdown",
      "metadata": {
        "id": "uWCrlWhATuyw"
      },
      "source": [
        "## Set comprehension\n",
        "\n",
        "With curly braces, we do a *set comprehension*. Remember that a set does not have duplicate members."
      ]
    },
    {
      "cell_type": "code",
      "execution_count": null,
      "metadata": {
        "id": "iy9sk-2ET6c6"
      },
      "outputs": [],
      "source": [
        "{char.upper() for char in sentence.lower() if char in vowels}"
      ]
    },
    {
      "cell_type": "markdown",
      "metadata": {
        "id": "ppS8jxsd6qQ4"
      },
      "source": [
        "Let's try `not`."
      ]
    },
    {
      "cell_type": "code",
      "execution_count": null,
      "metadata": {
        "id": "xCkimUWO6sWX"
      },
      "outputs": [],
      "source": [
        "{char.upper() for char in sentence.lower() if char not in vowels}"
      ]
    },
    {
      "cell_type": "markdown",
      "metadata": {
        "id": "IvQL2JVzUyOU"
      },
      "source": [
        "---\n",
        "## Generator expressions\n",
        "\n",
        "If we use parentheses instead, we write a *generator expression*. It results in an iterator that computes its elements only if needed."
      ]
    },
    {
      "cell_type": "code",
      "execution_count": null,
      "metadata": {
        "id": "pLIerGfBU8d7"
      },
      "outputs": [],
      "source": [
        "vowels_generator = (char.upper() for char in sentence.lower() if char in vowels)\n",
        "vowels_generator"
      ]
    },
    {
      "cell_type": "markdown",
      "metadata": {
        "id": "J1nlWen7U7Xc"
      },
      "source": [
        "The generator produces the next element every time we ask. This is like a ticket machine that prints a number only whenever a button is pushed.\n",
        "\n",
        "<img src=\"https://www.timeaccessinc.com/sites/default/files/imagecache/product_original/next_please_ticket_printer_l.jpg\" alt = \"zipper\" width = 250px>\n",
        "\n",
        "If we try to take the next element and none is left, there will be an error. Generators may be efficient if the sequence could be very long or infinite, and we need only a few elements.\n",
        "\n",
        "Execute the following cell several times."
      ]
    },
    {
      "cell_type": "code",
      "execution_count": null,
      "metadata": {
        "id": "5aJPT-ASU_1W"
      },
      "outputs": [],
      "source": [
        "next(vowels_generator)"
      ]
    },
    {
      "cell_type": "markdown",
      "source": [
        "A generator is an iterable type, which means we can iterate over its element, for instance, with `for`. The following simply prints out all elements in the generator."
      ],
      "metadata": {
        "id": "Wbqlmj7h5zk3"
      }
    },
    {
      "cell_type": "code",
      "source": [
        "vowels_generator = (char.upper() for char in sentence.lower() if char in vowels)\n",
        "for nxt in vowels_generator:\n",
        "  print(nxt, 'is a vowel')"
      ],
      "metadata": {
        "id": "zqXTJXEf5-k_"
      },
      "execution_count": null,
      "outputs": []
    },
    {
      "cell_type": "markdown",
      "source": [
        "When we check if something is in the generator, it will only produce as many elements as needed to find what we are looking for."
      ],
      "metadata": {
        "id": "Rr7lXfMbsGaD"
      }
    },
    {
      "cell_type": "code",
      "source": [
        "vowels_generator = (char.upper() for char in sentence.lower() if char in vowels)\n",
        "'O' in vowels_generator"
      ],
      "metadata": {
        "id": "j2P5ySLOq_Xi"
      },
      "execution_count": null,
      "outputs": []
    },
    {
      "cell_type": "markdown",
      "source": [
        "Now take all remaining elements out. These are the elements which were *not* computed by the above expression."
      ],
      "metadata": {
        "id": "0ZXK1EozwCsv"
      }
    },
    {
      "cell_type": "code",
      "source": [
        "[*vowels_generator]"
      ],
      "metadata": {
        "id": "u-t4cB8wszjo"
      },
      "execution_count": null,
      "outputs": []
    },
    {
      "cell_type": "markdown",
      "source": [
        "---\n",
        "##Comparison of iteration on a list and on a generator"
      ],
      "metadata": {
        "id": "ZEy8WJO_8rUw"
      }
    },
    {
      "cell_type": "markdown",
      "source": [
        "The following is a generic function for searching if something occurs in any type of *iterable* (sequence, set or generator). After one instance is found, the iteration stops and `True` is returned. If the iteratation stops and the element has not been found, `False` is returned."
      ],
      "metadata": {
        "id": "Kp8efGI0tsFs"
      }
    },
    {
      "cell_type": "code",
      "source": [
        "def find_something (thing, gen):\n",
        "  for nxt in gen:\n",
        "    print(nxt)\n",
        "    if nxt == thing:\n",
        "      return True\n",
        "  return False"
      ],
      "metadata": {
        "id": "aQ51S8ljn-xg"
      },
      "execution_count": null,
      "outputs": []
    },
    {
      "cell_type": "markdown",
      "source": [
        "Here we test on a list produced by a list comprehension. The example looks for the first occurence of an *O*. All elements of the list are computed and the whole list is passed to the function."
      ],
      "metadata": {
        "id": "NseE6vpBuOXe"
      }
    },
    {
      "cell_type": "code",
      "source": [
        "find_something('O', [char.upper() for char in sentence if char.lower() in vowels])"
      ],
      "metadata": {
        "id": "73FfpMKXuDL3"
      },
      "execution_count": null,
      "outputs": []
    },
    {
      "cell_type": "markdown",
      "source": [
        "In the following we test the same on a generator. The result is the same, but this way is potentially more efficient, because only four elements are computed and then the generator stops."
      ],
      "metadata": {
        "id": "iSwoxPfCuSeh"
      }
    },
    {
      "cell_type": "code",
      "source": [
        "find_something('O', (char.upper() for char in sentence if char.lower() in vowels))"
      ],
      "metadata": {
        "id": "ixuY4U8Rt_9n"
      },
      "execution_count": null,
      "outputs": []
    },
    {
      "cell_type": "markdown",
      "metadata": {
        "id": "l7hSgDtxXGY1"
      },
      "source": [
        "### Exercises\n",
        "\n",
        "\n",
        "1.  Try replacing the 'O' with 'U' in the previous two function calls .\n",
        "2.  Using `len` and a set comprehension, count how many *different* vowels there are in the `sentence`.\n",
        "3.  Given the following variable, use a list comprehension to select all philosopher names longer than 5 characters and join them with the string `' & '`."
      ]
    },
    {
      "cell_type": "code",
      "execution_count": null,
      "metadata": {
        "id": "DZXbPNbQUEuS"
      },
      "outputs": [],
      "source": [
        "philosophers = ['Socrates', 'Plato', 'Aristoteles', 'Hume', 'Berkeley']"
      ]
    }
  ],
  "metadata": {
    "colab": {
      "provenance": []
    },
    "kernelspec": {
      "display_name": "Python 3.10.5 64-bit",
      "language": "python",
      "name": "python3"
    },
    "language_info": {
      "name": "python",
      "version": "3.10.5"
    },
    "vscode": {
      "interpreter": {
        "hash": "aee8b7b246df8f9039afb4144a1f6fd8d2ca17a180786b69acc140d282b71a49"
      }
    }
  },
  "nbformat": 4,
  "nbformat_minor": 0
}