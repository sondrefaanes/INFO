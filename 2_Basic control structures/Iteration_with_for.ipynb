{
  "nbformat": 4,
  "nbformat_minor": 0,
  "metadata": {
    "colab": {
      "provenance": []
    },
    "kernelspec": {
      "name": "python3",
      "display_name": "Python 3"
    },
    "language_info": {
      "name": "python"
    }
  },
  "cells": [
    {
      "cell_type": "markdown",
      "metadata": {
        "id": "jId2Pst6ok_R"
      },
      "source": [
        "# Iteration with `for`\n",
        "\n",
        "by Koenraad De Smedt at UiB"
      ]
    },
    {
      "cell_type": "markdown",
      "metadata": {
        "id": "4AibI1P5pIVa"
      },
      "source": [
        "---\n",
        "Iteration is the repetition of a process (also called a *loop*). Informally, the following illustrates some possible iterations:\n",
        "\n",
        ">*For each item in this sequence, do this: ....*\n",
        "\n",
        ">*For n number of times, do this: ...*\n",
        "\n",
        "This notebook shows:\n",
        "\n",
        "*  Iteration on each item of a sequence or set by means of `for`.\n",
        "*  Combination of iteration with conditions\n",
        "\n",
        "---"
      ]
    },
    {
      "cell_type": "markdown",
      "source": [
        "The simplest is to do one or more operations for every item in a sequence or set, without any conditions.\n",
        "\n",
        "The following example iterates over a list `cities` by means of a variable `city` which stands for each subsequent element in the list. Two `print` operations are performed for every element.\n",
        "\n",
        "Notice that the final `print` operation falls outside of the `for`-loop. It is only executed after the iteration is finished."
      ],
      "metadata": {
        "id": "b7x7O5kx6u1e"
      }
    },
    {
      "cell_type": "code",
      "source": [
        "cities = ['Bergen', 'Bodø', 'Kristiansand', 'Tromsø', 'Gvarv']\n",
        "\n",
        "for city in cities:\n",
        "  print('Going to', city)\n",
        "  print('-----')\n",
        "print('Done.')"
      ],
      "metadata": {
        "id": "ZBOQsI8F7ckp"
      },
      "execution_count": null,
      "outputs": []
    },
    {
      "cell_type": "markdown",
      "source": [
        "Iteration can be combined with conditions. For every value of `city`, if its length is equal to `n`, printing is done, otherwise nothing happens."
      ],
      "metadata": {
        "id": "fCh5jO_BvzI_"
      }
    },
    {
      "cell_type": "code",
      "metadata": {
        "id": "gl2FRwueXDXq"
      },
      "source": [
        "n = 6\n",
        "\n",
        "for city in cities:\n",
        "  if len(city) == n:\n",
        "    print(city)"
      ],
      "execution_count": null,
      "outputs": []
    },
    {
      "cell_type": "markdown",
      "source": [
        "Of course, when you use `if`, then you can also use `elif` or `else`. In the following, something is printed for every element, but what is printed depends on the length of the city name."
      ],
      "metadata": {
        "id": "aSe592NHGJMq"
      }
    },
    {
      "cell_type": "code",
      "source": [
        "for city in cities:\n",
        "  if len(city) == n:\n",
        "    print(city)\n",
        "  else:\n",
        "    print(' - ')"
      ],
      "metadata": {
        "id": "bYdkq-rEGAFx"
      },
      "execution_count": null,
      "outputs": []
    },
    {
      "cell_type": "markdown",
      "source": [
        "Notice the *indentation* in the previous examples. The operations in the iteration are in an *indented block* under `for`. Similarly, the conditional operations are in an *indented block* under `if`. The following will not work because there are no indented blocks where they are expected."
      ],
      "metadata": {
        "id": "HXlPKEKJMFcW"
      }
    },
    {
      "cell_type": "code",
      "source": [
        "for city in cities:\n",
        "if len(city) == 6:\n",
        "print(city)"
      ],
      "metadata": {
        "id": "7cnQ0ZU0rd2k"
      },
      "execution_count": null,
      "outputs": []
    },
    {
      "cell_type": "markdown",
      "source": [
        "If a function has `return` in a `for`-loop or `if`, the function stops immediately and returns its result. In the following, the function looks for ther first city name starting with *G* or *K* and returns that name."
      ],
      "metadata": {
        "id": "j6y1Crrd_bOE"
      }
    },
    {
      "cell_type": "code",
      "source": [
        "def find_city_with_initial (city_list):\n",
        "  for city in city_list:\n",
        "    if city[0] == 'G' or city[0] == 'K':\n",
        "      return city\n",
        "\n",
        "find_city_with_initial(cities)"
      ],
      "metadata": {
        "id": "QU_6G5g9-2g4"
      },
      "execution_count": null,
      "outputs": []
    },
    {
      "cell_type": "markdown",
      "source": [
        "There may be more than one `return` statement in a function. In the following, there is a `return` that gives False if a character is not present in a string. There is another `return` at the end that gives True if the for-loop has finished, and no characters were found that are not in the string. "
      ],
      "metadata": {
        "id": "kgv5GOAMl_5H"
      }
    },
    {
      "cell_type": "code",
      "source": [
        "def oblig_characters (oblig, string):\n",
        "  '''All chars in oblig should be present in string'''\n",
        "  for c in oblig:\n",
        "    #print(c)\n",
        "    if c not in string:\n",
        "      return False\n",
        "  return True\n",
        "\n",
        "# the following should give True because all are in toaster\n",
        "print(oblig_characters('eao', 'toaster'))\n",
        "\n",
        "# the following should be False because i is not in toaster\n",
        "print(oblig_characters('eio', 'toaster'))"
      ],
      "metadata": {
        "id": "VHS4qEfll_Ia"
      },
      "execution_count": null,
      "outputs": []
    },
    {
      "cell_type": "markdown",
      "source": [
        "By the way, `in` also works for sets."
      ],
      "metadata": {
        "id": "Dn82Y6LdAlGZ"
      }
    },
    {
      "cell_type": "code",
      "source": [
        "print(oblig_characters({'e', 'a', 'o'}, set('toaster')))"
      ],
      "metadata": {
        "id": "I2DnffJkAkbF"
      },
      "execution_count": null,
      "outputs": []
    },
    {
      "cell_type": "markdown",
      "metadata": {
        "id": "USfAIUONrbf9"
      },
      "source": [
        "## Exercises\n",
        "\n",
        "1.  Make a variant of `find_city_with_initial` which returns the first city starting with *B* `and` ending on *ø*. \n",
        "2.  Define a function `disallowed_characters` which does the opposite of `oblig_characters`. It should return `False` as soon as one of the characters is found in the string, otherwise return `True`."
      ]
    }
  ]
}