{
  "nbformat": 4,
  "nbformat_minor": 0,
  "metadata": {
    "colab": {
      "provenance": []
    },
    "kernelspec": {
      "name": "python3",
      "display_name": "Python 3"
    },
    "language_info": {
      "name": "python"
    }
  },
  "cells": [
    {
      "cell_type": "markdown",
      "metadata": {
        "id": "jId2Pst6ok_R"
      },
      "source": [
        "# Conditions with `if`\n",
        "\n",
        "by Koenraad De Smedt at UiB"
      ]
    },
    {
      "cell_type": "markdown",
      "metadata": {
        "id": "4AibI1P5pIVa"
      },
      "source": [
        "---\n",
        "Instructions can be made *conditional* on whether a test is true or not. Informally:\n",
        " \n",
        "> *if something is true, do x.*\n",
        "\n",
        "Several conditions can be tested one after the other, such as:\n",
        "\n",
        "> *if something is true, do x; otherwise, if something else is true, do y; in all other cases, do z.*\n",
        "\n",
        "This notebook provides some examples of conditions with the following constructions:\n",
        "\n",
        "*  `if`\n",
        "*  `elif` (else if)\n",
        "*  `else`\n",
        "\n",
        "---"
      ]
    },
    {
      "cell_type": "markdown",
      "source": [
        "Remember that trying to remove an element from a set causes an error. So, let's write a function that first checks if the element is in the set. By means of `if`, we test if the element is present, and if so, the element is removed; otherwise, nothing happens.\n",
        "\n",
        "The `if` condition must be followed by colon and an indented block which contains the actions to be executed only if the condition is true."
      ],
      "metadata": {
        "id": "OUdCkfupQ-e7"
      }
    },
    {
      "cell_type": "code",
      "source": [
        "def remove_if_present (el, bag):\n",
        "  if el in bag:\n",
        "    print(el, 'is being removed from', bag)\n",
        "    bag.remove(el) # bag is changed, but nothing is returned\n",
        "\n",
        "languages = {'Uzbek', 'Uygur', 'Turkish', 'Qashqai', 'Bashkir', 'Kyrgyz'}\n",
        "\n",
        "remove_if_present('Qashqai', languages)\n",
        "print(languages)\n",
        "\n",
        "remove_if_present('Chuvash', languages)\n",
        "print(languages)"
      ],
      "metadata": {
        "id": "Fd9dJxbgQpY_"
      },
      "execution_count": null,
      "outputs": []
    },
    {
      "cell_type": "markdown",
      "source": [
        "On the same level as `if`, we can add `else` to perform actions in its indented block if the condition is not true.\n",
        "\n",
        "The actions within each indented block must have the same indentation."
      ],
      "metadata": {
        "id": "9-r1rGrFSuME"
      }
    },
    {
      "cell_type": "code",
      "source": [
        "def remove_if_present (el, bag):\n",
        "  if el in bag:\n",
        "    print(el, 'is being removed from', bag)\n",
        "    bag.remove(el)\n",
        "  else:\n",
        "    print(el, 'is not removed, because it is not in', bag)\n",
        "\n",
        "remove_if_present('Kyrgyz', languages)\n",
        "remove_if_present('Chuvash', languages)\n",
        "print(languages)"
      ],
      "metadata": {
        "id": "1kTqMPWtSxu5"
      },
      "execution_count": null,
      "outputs": []
    },
    {
      "cell_type": "markdown",
      "source": [
        "We can check a number of possibilities one after the other using `elif`, until one of the tests is true. The following checks if a string is all digits, uppercase, lowercase or alphabetic. The order is important for the outcome. As soon as a condition is true, the actions in its indented block are executed and then the conditionals stop without doing any remaining tests."
      ],
      "metadata": {
        "id": "6L09xZWDVTDu"
      }
    },
    {
      "cell_type": "code",
      "source": [
        "def describe_string (s):\n",
        "  if s.isdigit():\n",
        "    print('all digits')\n",
        "  elif s.islower():\n",
        "    print('all lowercase')\n",
        "  elif s.isupper():\n",
        "    print('all uppercase')\n",
        "  elif s.isalpha():\n",
        "    print('all alphabetic, mixed cased')\n",
        "  else:\n",
        "    print('other string')\n",
        "\n",
        "describe_string('1984')\n",
        "describe_string('YOGHURT')\n",
        "describe_string('Fyllingsdalen')\n",
        "describe_string('αβγδε')\n",
        "describe_string('The Firm.')\n",
        "describe_string('')\n"
      ],
      "metadata": {
        "id": "Kef6edBGTyza"
      },
      "execution_count": null,
      "outputs": []
    },
    {
      "cell_type": "markdown",
      "source": [
        "The following illustrates how a program can be made conditional on an *optional keyword argument*.\n",
        "\n",
        "NB: Optional keyword arguments must come after any obligatory arguments."
      ],
      "metadata": {
        "id": "g_ac0tooSQqc"
      }
    },
    {
      "cell_type": "code",
      "source": [
        "def print_trip (name, destination=None):\n",
        "  if destination:\n",
        "    print(name, 'is on a trip to', destination)\n",
        "  else:\n",
        "    print(name, 'is traveling')\n",
        "\n",
        "print_trip('Kim', 'Sandnes')\n",
        "print_trip('Yvonne', destination='Halden')\n",
        "print_trip('Arnold')"
      ],
      "metadata": {
        "id": "Jx4xg-6gSPw8"
      },
      "execution_count": null,
      "outputs": []
    },
    {
      "cell_type": "markdown",
      "metadata": {
        "id": "USfAIUONrbf9"
      },
      "source": [
        "## Exercises\n",
        "\n",
        "1.  Change `remove_if_present` so that the set is always returned.\n",
        "2.  Add another optional keyword argument `origin=None` to the function `print_trip`, so you can also print from where the trip has started. Add two conditions to see if the following are present:\n",
        "*  destination and origin (use the `and` operator)\n",
        "*  origin\n",
        "\n",
        ">The following additional tests can be used:\n",
        ">```\n",
        "print_trip('Jenny', 'New York', 'Bergen')\n",
        "print_trip('Jenny', None, 'Bergen')\n",
        "print_trip('Jenny', origin='Bergen')\n",
        "```\n"
      ]
    }
  ]
}